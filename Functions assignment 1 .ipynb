{
 "cells": [
  {
   "cell_type": "markdown",
   "id": "b201fcbf-4532-4c2b-b57b-052816b078c5",
   "metadata": {},
   "source": [
    "   ANSWER NO :- 1 "
   ]
  },
  {
   "cell_type": "markdown",
   "id": "c06ea794-ed86-469b-a9d2-1fc814173f8f",
   "metadata": {},
   "source": [
    "In python, the keyword which is used to create function is def."
   ]
  },
  {
   "cell_type": "code",
   "execution_count": 4,
   "id": "819b6034-2e42-4e40-a167-f4b3c8d9de9b",
   "metadata": {},
   "outputs": [
    {
     "data": {
      "text/plain": [
       "[1, 3, 5, 7, 9, 11, 13, 15, 17, 19, 21, 23]"
      ]
     },
     "execution_count": 4,
     "metadata": {},
     "output_type": "execute_result"
    }
   ],
   "source": [
    "## CREATE A FUNCTION FOR FINDING ODD NO IN RANGE OF 1 TO 25\n",
    "\n",
    "\n",
    "def find_odd_numbers():\n",
    "    odd_numbers = []\n",
    "    for i in range (1, 25):\n",
    "        if i % 2 != 0:\n",
    "            odd_numbers.append(i)\n",
    "            \n",
    "    return odd_numbers\n",
    "\n",
    "## NOW CALL OUT THE FUNCTION\n",
    "\n",
    "find_odd_numbers()"
   ]
  },
  {
   "cell_type": "code",
   "execution_count": null,
   "id": "17ec66dc-72c3-4a05-aa19-b3d97b641de9",
   "metadata": {},
   "outputs": [],
   "source": []
  },
  {
   "cell_type": "markdown",
   "id": "f753b20a-cfbf-4f84-ad6c-e5d267112c7e",
   "metadata": {},
   "source": [
    "   ANSWER NO :- 2"
   ]
  },
  {
   "cell_type": "markdown",
   "id": "f26c4387-d272-443f-8566-4765f9e2cbfc",
   "metadata": {},
   "source": [
    "\n",
    "In Python, *args and **kwargs are used in function definitions to allow the function to accept a variable number of arguments.\n",
    "\n",
    "*args: It allows a function to accept any number of positional arguments. The *args parameter collects these arguments into a tuple.\n",
    "\n",
    "**kwargs: It allows a function to accept any number of keyword arguments. The **kwargs parameter collects these arguments into a dictionary.\n",
    "\n",
    "Here are some of the examples :-"
   ]
  },
  {
   "cell_type": "code",
   "execution_count": 8,
   "id": "7e507f00-8eb3-480c-92c9-0d732b303219",
   "metadata": {},
   "outputs": [
    {
     "name": "stdout",
     "output_type": "stream",
     "text": [
      "(1, 2, 3, 4, 5, 34.55, [23, 45, 'shadab'], 'pwskills')\n"
     ]
    }
   ],
   "source": [
    "## let us make a args function...\n",
    "\n",
    "def args_function(*args):\n",
    "    return(args)\n",
    "\n",
    "## Now call the function and give the arguments..\n",
    "\n",
    "print(args_function(1,2,3,4,5,34.55,[23,45,\"shadab\"],'pwskills'))\n",
    "\n",
    "## It will take as many arguments as we would give it  and return the output in tuples"
   ]
  },
  {
   "cell_type": "code",
   "execution_count": 9,
   "id": "1bba3693-820c-422d-bd00-35267e7b1836",
   "metadata": {},
   "outputs": [
    {
     "name": "stdout",
     "output_type": "stream",
     "text": [
      "{'name': 'shadab', 'address': 'delhi', 'position': 'data scientist'}\n"
     ]
    }
   ],
   "source": [
    "## Now Let make a kwargs function..\n",
    "\n",
    "def kwargs_function(**kwargs):\n",
    "    return(kwargs)\n",
    "\n",
    "## Now call the function and give the arguments..\n",
    "\n",
    "print(kwargs_function(name=\"shadab\", address= \"delhi\", position= \"data scientist\"))\n",
    "\n",
    "\n",
    "## It will take as many arguments as we would give it  and return the output in dictionay.\n"
   ]
  },
  {
   "cell_type": "code",
   "execution_count": null,
   "id": "e6b33af7-e8ce-4e5b-b2c8-2533bab62643",
   "metadata": {},
   "outputs": [],
   "source": []
  },
  {
   "cell_type": "markdown",
   "id": "19db9413-c0df-4bfd-88fa-dee71fc4d5d3",
   "metadata": {},
   "source": [
    "ANSWER NO :- 3"
   ]
  },
  {
   "cell_type": "markdown",
   "id": "7886ba06-87ae-420c-bafc-67ea3b0865e0",
   "metadata": {},
   "source": [
    "An iterator in Python is an object that implements the iterator protocol, which consists of two methods: __iter__ and __next__. Iterators are used to represent a stream of data and allow you to iterate over elements in a sequence.\n",
    "\n",
    "'__iter__': This method initializes the iterator object. It returns the iterator object itself.\n",
    "\n",
    "'__next__': This method is called to retrieve the next element from the iterator. If there are no more elements, it should raise the StopIteration exception."
   ]
  },
  {
   "cell_type": "code",
   "execution_count": 5,
   "id": "2a5928b7-3bb9-4b3c-b115-08bc88a41b0c",
   "metadata": {},
   "outputs": [
    {
     "name": "stdout",
     "output_type": "stream",
     "text": [
      "2\n",
      "4\n",
      "6\n",
      "8\n",
      "10\n"
     ]
    }
   ],
   "source": [
    "list = [2, 4, 6, 8, 10, 12, 14, 16, 18, 20]\n",
    "\n",
    "# Define an iterable class\n",
    "class MyIterator:\n",
    "    def __iter__(self):\n",
    "        self.index = 0\n",
    "        return self\n",
    "\n",
    "    def __next__(self):\n",
    "        if self.index < 5:\n",
    "            result = self.index * 2 + 2\n",
    "            self.index += 1\n",
    "            return result\n",
    "        else:\n",
    "            raise StopIteration\n",
    "\n",
    "# Create an instance of the iterator\n",
    "my_iter = MyIterator()\n",
    "\n",
    "# Iterate and print the first five elements\n",
    "for element in my_iter:\n",
    "    print(element)\n"
   ]
  },
  {
   "cell_type": "code",
   "execution_count": null,
   "id": "37afd9bf-85a6-405d-b113-5515fbbf5c53",
   "metadata": {},
   "outputs": [],
   "source": []
  },
  {
   "cell_type": "markdown",
   "id": "d05f8a83-ca27-48f1-b0b3-ca7de29b3009",
   "metadata": {},
   "source": [
    "   ANSWER NO :- 4"
   ]
  },
  {
   "cell_type": "markdown",
   "id": "e85bcf77-c547-438b-bead-6ae3f9a5187e",
   "metadata": {},
   "source": [
    ". A generator function in Python is a special type of function that allows us to iterate over a potentially large sequence of data without storing the entire sequence in memory. Instead of generating all values at once and returning them as a list (as regular functions might do), a generator function uses the yield keyword to produce values one at a time. This allows for lazy evaluation and efficient memory usage.\n",
    " \n",
    ". The yield keyword is used to produce a value from the generator function and temporarily suspend its state.\n",
    "The function is not terminated when yield is encountered; it is paused until the next value is requested."
   ]
  },
  {
   "cell_type": "code",
   "execution_count": 7,
   "id": "79502b04-a1da-40e0-bfa2-6c25a2116792",
   "metadata": {},
   "outputs": [
    {
     "name": "stdout",
     "output_type": "stream",
     "text": [
      "1\n",
      "4\n",
      "9\n",
      "16\n",
      "25\n"
     ]
    }
   ],
   "source": [
    "## EXAMPLE OF GENERATOR FUNCTION.\n",
    "\n",
    "def generate_squares(x):\n",
    "    n = 1\n",
    "    while n <= x:\n",
    "        yield n ** 2\n",
    "        n += 1\n",
    "\n",
    "# Using the generator function in a for loop\n",
    "for i in generate_squares(5):\n",
    "    print(i)\n"
   ]
  },
  {
   "cell_type": "code",
   "execution_count": null,
   "id": "795cc988-c310-43d2-afbb-db4d4f703303",
   "metadata": {},
   "outputs": [],
   "source": []
  },
  {
   "cell_type": "markdown",
   "id": "4cdcbac7-eb83-4bcd-984d-dc16942e6458",
   "metadata": {},
   "source": [
    "   ANSWER NO :- 5"
   ]
  },
  {
   "cell_type": "code",
   "execution_count": 9,
   "id": "83bccf2c-d352-441d-a30c-17de472b446c",
   "metadata": {},
   "outputs": [
    {
     "name": "stdout",
     "output_type": "stream",
     "text": [
      "2\n",
      "3\n",
      "5\n",
      "7\n",
      "11\n",
      "13\n",
      "17\n",
      "19\n",
      "23\n",
      "29\n",
      "31\n",
      "37\n",
      "41\n",
      "43\n",
      "47\n",
      "53\n",
      "59\n",
      "61\n",
      "67\n",
      "71\n"
     ]
    }
   ],
   "source": [
    "\"\"\" Create a generator function for prime numbers less than 1000. Use the next() method to print the \n",
    "first 20 prime numbers\"\"\"\n",
    "\n",
    "\n",
    "\n",
    "\n",
    "def is_prime(num):\n",
    "    \"\"\"Check if a number is prime.\"\"\"\n",
    "    if num < 2:\n",
    "        return False\n",
    "    for i in range(2, int(num**0.5) + 1):\n",
    "        if num % i == 0:\n",
    "            return False\n",
    "    return True\n",
    "\n",
    "def generate_primes():\n",
    "    \"\"\"Generate prime numbers less than 1000.\"\"\"\n",
    "    num = 2\n",
    "    count = 0\n",
    "    while count < 20:\n",
    "        if is_prime(num):\n",
    "            yield num\n",
    "            count += 1\n",
    "        num += 1\n",
    "\n",
    "# Create an instance of the generator\n",
    "prime_generator = generate_primes()\n",
    "\n",
    "# Use next() to print the first 20 prime numbers\n",
    "for _ in range(20):\n",
    "    print(next(prime_generator))\n"
   ]
  },
  {
   "cell_type": "code",
   "execution_count": null,
   "id": "ab8417c5-524c-4c8e-900c-f6c3f70f234d",
   "metadata": {},
   "outputs": [],
   "source": []
  },
  {
   "cell_type": "markdown",
   "id": "79ff3db9-2575-433d-b521-9150aa42453d",
   "metadata": {},
   "source": [
    "   ANSWER NO :- 6"
   ]
  },
  {
   "cell_type": "code",
   "execution_count": null,
   "id": "5e9ecd3e-0e0c-4c84-b682-5ab057ae5e78",
   "metadata": {},
   "outputs": [],
   "source": []
  },
  {
   "cell_type": "code",
   "execution_count": 22,
   "id": "cae8ad31-7088-4859-aab7-5e2e34dd924c",
   "metadata": {},
   "outputs": [
    {
     "name": "stdout",
     "output_type": "stream",
     "text": [
      "0 1 2 4 8 16 32 64 128 256 "
     ]
    }
   ],
   "source": [
    "## PRINT A FIBONACCI NUMBER FOR FIRST 10 DIGIT.\n",
    "\n",
    "\n",
    "def Fibonacci_number():\n",
    "    a = 0\n",
    "    b = 1\n",
    "    count = 0\n",
    "    n = 10\n",
    "    \n",
    "    while count<n:\n",
    "        print(a, end=\" \")\n",
    "        a = b\n",
    "        b = a + b\n",
    "        \n",
    "        count+=1\n",
    "        \n",
    "Fibonacci_number()"
   ]
  },
  {
   "cell_type": "code",
   "execution_count": null,
   "id": "0ef57b57-fb17-4f42-852d-cf95cc470de1",
   "metadata": {},
   "outputs": [],
   "source": []
  },
  {
   "cell_type": "markdown",
   "id": "af2fbe03-f1c7-497c-a31a-90fd547b8284",
   "metadata": {},
   "source": [
    "   ANSWER NO :- 7"
   ]
  },
  {
   "cell_type": "code",
   "execution_count": 1,
   "id": "9080f6a7-0756-4434-ba71-f3f0ef9783aa",
   "metadata": {},
   "outputs": [
    {
     "data": {
      "text/plain": [
       "['P', 'W', 'S', 'K', 'I', 'L', 'L', 'S']"
      ]
     },
     "execution_count": 1,
     "metadata": {},
     "output_type": "execute_result"
    }
   ],
   "source": [
    "## GIVEN STRING = PWSKILLS\n",
    "\n",
    "string = \"pwskills\"\n",
    "list(map(lambda x:x.upper() , string))\n"
   ]
  },
  {
   "cell_type": "code",
   "execution_count": null,
   "id": "51b6fb38-5bd6-48fb-98a6-ed74d2fd04d9",
   "metadata": {},
   "outputs": [],
   "source": []
  },
  {
   "cell_type": "markdown",
   "id": "b81b6e00-b697-46b4-af18-d98c18a7874e",
   "metadata": {},
   "source": [
    "   ANSWER NO :- 8"
   ]
  },
  {
   "cell_type": "code",
   "execution_count": 2,
   "id": "c8dffb6b-fd97-405a-b79f-b1f0fbcb31d5",
   "metadata": {},
   "outputs": [
    {
     "name": "stdin",
     "output_type": "stream",
     "text": [
      "Enter a number:  20202\n"
     ]
    },
    {
     "name": "stdout",
     "output_type": "stream",
     "text": [
      "20202 is a palindrome.\n"
     ]
    }
   ],
   "source": [
    "def is_palindrome(number):\n",
    "    original_number = number\n",
    "    reversed_number = 0\n",
    "\n",
    "    while number > 0:\n",
    "        digit = number % 10\n",
    "        reversed_number = reversed_number * 10 + digit\n",
    "        number = number // 10\n",
    "\n",
    "    return original_number == reversed_number\n",
    "\n",
    "# Input: Get a number from the user\n",
    "num = int(input(\"Enter a number: \"))\n",
    "\n",
    "# Check if the number is a palindrome\n",
    "if is_palindrome(num):\n",
    "    print(f\"{num} is a palindrome.\")\n",
    "else:\n",
    "    print(f\"{num} is not a palindrome.\")\n"
   ]
  },
  {
   "cell_type": "code",
   "execution_count": null,
   "id": "c969ddc3-e01b-4ad9-ac08-336e934aa7c7",
   "metadata": {},
   "outputs": [],
   "source": []
  },
  {
   "cell_type": "markdown",
   "id": "ffaf8643-b7bc-424f-9c23-0c64317c454d",
   "metadata": {},
   "source": [
    "   ANSWER N0 :- 9"
   ]
  },
  {
   "cell_type": "code",
   "execution_count": null,
   "id": "86989873-25f7-46e8-b698-36da3209da3e",
   "metadata": {},
   "outputs": [],
   "source": []
  }
 ],
 "metadata": {
  "kernelspec": {
   "display_name": "Python 3 (ipykernel)",
   "language": "python",
   "name": "python3"
  },
  "language_info": {
   "codemirror_mode": {
    "name": "ipython",
    "version": 3
   },
   "file_extension": ".py",
   "mimetype": "text/x-python",
   "name": "python",
   "nbconvert_exporter": "python",
   "pygments_lexer": "ipython3",
   "version": "3.10.8"
  }
 },
 "nbformat": 4,
 "nbformat_minor": 5
}

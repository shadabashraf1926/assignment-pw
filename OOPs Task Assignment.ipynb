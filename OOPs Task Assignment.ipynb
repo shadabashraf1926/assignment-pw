{
 "cells": [
  {
   "cell_type": "markdown",
   "id": "6d87d323-1217-4080-b200-b5b9cafaf714",
   "metadata": {},
   "source": [
    "ANSWER NO :- 01"
   ]
  },
  {
   "cell_type": "code",
   "execution_count": 32,
   "id": "8f5646f9-733e-4c4e-bc9b-7d61ea4ccc00",
   "metadata": {},
   "outputs": [
    {
     "name": "stdout",
     "output_type": "stream",
     "text": [
      "Name of the car:- BMW , Max_Speed:- 500 km/hr, Average_Speed:- 300 km/hr\n",
      "Name of the Bike:- KTM  , Max_Speed:- 250km/hr , Average_Speed:- 120km/hr\n"
     ]
    }
   ],
   "source": [
    "''' WE CAN EAISLY CREATE A VEHICLE CLASS WITH AN INIT METHOD HAVING INSTANCE VARIABLE AS NAME_OF_VEHICLE, MAX_SPEED\n",
    "AND AVERGAE_OF_VEHICLE '''\n",
    "\n",
    "\n",
    "class Vehicle:\n",
    "    \n",
    "    def __init__(self, Name , Max_Speed , Average_Speed):\n",
    "        \n",
    "        self.name_of_vehicle = Name\n",
    "        self.max_speed_of_vehicle = Max_Speed\n",
    "        self.Avg_speed_of_vehicle = Average_Speed\n",
    "        \n",
    "'''  Now we have to create a object of this class\n",
    "and print the instances'''\n",
    "\n",
    "Car = Vehicle(\" BMW \" , 500 , 300)\n",
    "print(f\"Name of the car:-{Car.name_of_vehicle}, Max_Speed:- {Car.max_speed_of_vehicle} km/hr, Average_Speed:- {Car.Avg_speed_of_vehicle} km/hr\")\n",
    "\n",
    "\n",
    "''' Now, As much as we want, we can create the object for this class '''\n",
    "\n",
    "Bike = Vehicle(\" KTM \" , 250 , 120)\n",
    "print(f\"Name of the Bike:-{Bike.name_of_vehicle} , Max_Speed:- {Bike.max_speed_of_vehicle}km/hr , Average_Speed:- {Bike.Avg_speed_of_vehicle}km/hr\")\n",
    "\n",
    "\n"
   ]
  },
  {
   "cell_type": "code",
   "execution_count": null,
   "id": "a7d743a2-f52a-4d28-9600-07f28bb9b307",
   "metadata": {},
   "outputs": [],
   "source": []
  },
  {
   "cell_type": "markdown",
   "id": "6a607327-2e31-4692-aaf1-6dc5a83bf040",
   "metadata": {},
   "source": [
    "ANSWER NO :- 02"
   ]
  },
  {
   "cell_type": "code",
   "execution_count": 33,
   "id": "645a77ac-c9a3-45be-aff7-c2e081d42439",
   "metadata": {},
   "outputs": [
    {
     "name": "stdout",
     "output_type": "stream",
     "text": [
      "Name of the car:- Ferrari , Max_Speed:- 300 km/hr, Average_Speed:- 150 km/hr\n",
      " Ferrari has a seating capacity of 4 \n"
     ]
    }
   ],
   "source": [
    "''' First we copy the class from first question which will be our parent class '''\n",
    "\n",
    "class Vehicle:\n",
    "    \n",
    "    def __init__(self, Name , Max_Speed , Average_Speed):\n",
    "        \n",
    "        self.name_of_vehicle = Name\n",
    "        self.max_speed_of_vehicle = Max_Speed\n",
    "        self.Avg_speed_of_vehicle = Average_Speed\n",
    "        \n",
    "        \n",
    "''' Now we have to create the child class, which will take the method named seating_capacity which takes capacity as an\n",
    "argument and returns the name of the vehicle and its seating capacity '''\n",
    " \n",
    "    \n",
    "class Car(Vehicle):\n",
    "    \n",
    "    def Seating_Capacity(self , Capacity):\n",
    "        return f\"{self.name_of_vehicle}has a seating capacity of {Capacity} \"\n",
    "    \n",
    "    \n",
    "    \n",
    "'''  Now we have to create a object of this class\n",
    "and print the instances'''\n",
    "  \n",
    "car = Car(\" Ferrari \" , 300 , 150)\n",
    "print(f\"Name of the car:-{car.name_of_vehicle}, Max_Speed:- {car.max_speed_of_vehicle} km/hr, Average_Speed:- {car.Avg_speed_of_vehicle} km/hr\")\n",
    "print(f\"{car.Seating_Capacity(4)}\")\n",
    "\n"
   ]
  },
  {
   "cell_type": "code",
   "execution_count": null,
   "id": "92489e62-5c6a-4bc1-b24b-fc29d0be48db",
   "metadata": {},
   "outputs": [],
   "source": []
  },
  {
   "cell_type": "markdown",
   "id": "8d2a17a2-e14a-4e1a-8cbc-0d9277575a08",
   "metadata": {},
   "source": [
    "ANSWER NO :- 03"
   ]
  },
  {
   "cell_type": "markdown",
   "id": "09d7c959-c4a1-47ce-b3cd-3b2e313d6ebe",
   "metadata": {},
   "source": [
    "<> Multiple inheritance:- Multiple inheritance is a feature in object-oriented programming languages that allows a class to inherit attributes and methods from more than one parent class. In other words, a class in a multiple inheritance scenario can derive characteristics from two or more base classes. This enables the derived class to exhibit behaviors and properties of multiple parent classes.\n",
    "\n",
    "Here are some exapmle:-"
   ]
  },
  {
   "cell_type": "code",
   "execution_count": 47,
   "id": "13319174-706d-45cb-bf0a-d062bbf4da50",
   "metadata": {},
   "outputs": [
    {
     "name": "stdout",
     "output_type": "stream",
     "text": [
      "This is the properties of parent class 1\n",
      "This is the properties of parent class 2\n"
     ]
    }
   ],
   "source": [
    "## 1st Example.\n",
    "\n",
    "class Parent_1:\n",
    "    \n",
    "    def properties_of_parent_1(self):\n",
    "        return f\"This is the properties of parent class 1\"\n",
    "    \n",
    "class Parent_2:\n",
    "    \n",
    "    def properties_of_parent_2(self):\n",
    "        return f\"This is the properties of parent class 2\"\n",
    "    \n",
    "class child(Parent_1,Parent_2):\n",
    "    \n",
    "    def properties(self):\n",
    "        return\n",
    "    \n",
    "Properties = child()\n",
    "print(f\"{Properties.properties_of_parent_1()}\") ## Calls the proerties method from class 1 which is Parent_1\n",
    "print(f\"{Properties.properties_of_parent_2()}\") ## Calls the proerties method from class 2 which is Parent_2"
   ]
  },
  {
   "cell_type": "code",
   "execution_count": 49,
   "id": "4dddf4fe-3597-49ab-abe1-a5f16dd1464e",
   "metadata": {},
   "outputs": [
    {
     "name": "stdout",
     "output_type": "stream",
     "text": [
      "Engine started.\n",
      "Electric motor charging.\n",
      "Hybrid car is driving.\n",
      "Engine stopped.\n",
      "Electric motor discharging.\n"
     ]
    }
   ],
   "source": [
    "## 2nd Example\n",
    "\n",
    "class Engine:\n",
    "    def start(self):\n",
    "        return f\"Engine started.\"\n",
    "\n",
    "    def stop(self):\n",
    "        return f\"Engine stopped.\"\n",
    "\n",
    "class ElectricMotor:\n",
    "    def charge(self):\n",
    "        return f\"Electric motor charging.\"\n",
    "\n",
    "    def discharge(self):\n",
    "        return f\"Electric motor discharging.\"\n",
    "\n",
    "class HybridCar(Engine, ElectricMotor):\n",
    "    def drive(self):\n",
    "         return f\"Hybrid car is driving.\"\n",
    "\n",
    "hybrid_car = HybridCar()\n",
    "print(f\"{hybrid_car.start()}\")  # Calls the start method from the Engine class\n",
    "print(f\"{hybrid_car.charge()}\")  # Calls the charge method from the ElectricMotor class\n",
    "print(f\"{hybrid_car.drive()}\")   # Calls the drive method from the HybridCar class\n",
    "print(f\"{hybrid_car.stop()}\")      # Calls the stop method from the Engine class\n",
    "print(f\"{hybrid_car.discharge()}\")    # Calls the discharge method from the ElectricMotor class\n",
    "\n"
   ]
  },
  {
   "cell_type": "code",
   "execution_count": null,
   "id": "15c1f1fb-bc36-43d4-a9a0-5866459539f1",
   "metadata": {},
   "outputs": [],
   "source": []
  },
  {
   "cell_type": "markdown",
   "id": "ca03afce-c375-48f2-a55d-953956885b6f",
   "metadata": {},
   "source": [
    "ANSWER NO :- 04"
   ]
  },
  {
   "cell_type": "markdown",
   "id": "14bde6dc-5947-41af-bf2a-33dc112cdba6",
   "metadata": {},
   "source": [
    "In Python, getter and setter methods are used to control access to an object's attributes. They allow you to define custom behavior when getting (accessing) or setting (modifying) the values of instance variables. This helps in encapsulating the internal details of a class and provides a way to validate or manipulate the attribute values.\n",
    "\n",
    "Here's an example of a class with a getter and a setter method:"
   ]
  },
  {
   "cell_type": "code",
   "execution_count": 4,
   "id": "dcb4c8e4-bd5e-4353-9ac6-17e658fe07e1",
   "metadata": {},
   "outputs": [
    {
     "name": "stdout",
     "output_type": "stream",
     "text": [
      "Setting the value\n",
      "Getting the value\n",
      "Value: 42\n"
     ]
    }
   ],
   "source": [
    "class MyClass:\n",
    "    def __init__(self):\n",
    "        # Private attribute\n",
    "        self._my_variable = None\n",
    "\n",
    "    # Getter method\n",
    "    def get_my_variable(self):\n",
    "        print(\"Getting the value\")\n",
    "        return self._my_variable\n",
    "\n",
    "    # Setter method\n",
    "    def set_my_variable(self, value):\n",
    "        print(\"Setting the value\")\n",
    "        if value >= 0:\n",
    "            self._my_variable = value\n",
    "        else:\n",
    "            print(\"Invalid value. Value must be non-negative.\")\n",
    "\n",
    "# Example usage:\n",
    "obj = MyClass()\n",
    "\n",
    "# Using the setter method\n",
    "obj.set_my_variable(42)\n",
    "\n",
    "# Using the getter method\n",
    "value = obj.get_my_variable()\n",
    "print(\"Value:\", value)\n"
   ]
  },
  {
   "cell_type": "markdown",
   "id": "f0ffdc7b-089e-4f39-8033-8c3722efb37a",
   "metadata": {},
   "source": [
    "In this example, MyClass has a private attribute _my_variable, and it provides a getter method get_my_variable and a setter method set_my_variable to access and modify the value of this attribute, respectively.\n",
    "\n",
    "The getter method (get_my_variable) is responsible for returning the value of _my_variable. In this example, it also prints a message for demonstration purposes.\n",
    "\n",
    "The setter method (set_my_variable) is responsible for setting the value of _my_variable. In this example, it checks if the provided value is non-negative before setting it.\n",
    "\n",
    "This approach allows you to control access to the attributes and include custom logic during the get and set operations. Note that in Python, there is a convention to use a single underscore ('_') as a prefix for private attributes, indicating that they should not be accessed directly from outside the class."
   ]
  },
  {
   "cell_type": "code",
   "execution_count": null,
   "id": "24e0ef7c-ab17-4fcc-b67a-7f134cd75734",
   "metadata": {},
   "outputs": [],
   "source": []
  },
  {
   "cell_type": "markdown",
   "id": "a3669e5c-5954-4652-87fd-d06df196c1f5",
   "metadata": {},
   "source": [
    "ANSWER NO:- 05"
   ]
  },
  {
   "cell_type": "markdown",
   "id": "da5155a4-cd59-43d1-884d-5f31e1fd1e74",
   "metadata": {},
   "source": [
    "Method overriding:- Method overriding in Python occurs when a subclass provides a specific implementation for a method that is already defined in its superclass. This allows a subclass to provide its own version of a method that is already defined in its parent class, thereby replacing or extending the functionality of the parent class's method.\n",
    "\n",
    "Here's an example demonstrating method overriding:"
   ]
  },
  {
   "cell_type": "code",
   "execution_count": 5,
   "id": "fae3b2e1-89c2-4e0d-8e7a-1340d0b6a22a",
   "metadata": {},
   "outputs": [
    {
     "name": "stdout",
     "output_type": "stream",
     "text": [
      "Generic animal sound\n",
      "Woof! Woof!\n",
      "Meow!\n"
     ]
    }
   ],
   "source": [
    "class Animal:\n",
    "    def make_sound(self):\n",
    "        print(\"Generic animal sound\")\n",
    "\n",
    "class Dog(Animal):\n",
    "    def make_sound(self):\n",
    "        print(\"Woof! Woof!\")\n",
    "\n",
    "class Cat(Animal):\n",
    "    def make_sound(self):\n",
    "        print(\"Meow!\")\n",
    "\n",
    "# Example usage:\n",
    "generic_animal = Animal()\n",
    "generic_animal.make_sound()  # Output: Generic animal sound\n",
    "\n",
    "dog = Dog()\n",
    "dog.make_sound()  # Output: Woof! Woof!\n",
    "\n",
    "cat = Cat()\n",
    "cat.make_sound()  # Output: Meow!\n"
   ]
  },
  {
   "cell_type": "markdown",
   "id": "efcda937-cc86-435f-ba0d-95626c2f5738",
   "metadata": {},
   "source": [
    "In this example:\n",
    "\n",
    "The Animal class has a method make_sound that prints a generic animal sound.\n",
    "The Dog class is a subclass of Animal and overrides the make_sound method to provide a specific implementation for a dog's sound.\n",
    "The Cat class is also a subclass of Animal and overrides the make_sound method to provide a specific implementation for a cat's sound.\n",
    "When instances of Dog and Cat are created and the make_sound method is called on them, the overridden method in the respective subclass is executed. This demonstrates method overriding in Python, where a subclass provides its own implementation for a method defined in its superclass."
   ]
  }
 ],
 "metadata": {
  "kernelspec": {
   "display_name": "Python 3 (ipykernel)",
   "language": "python",
   "name": "python3"
  },
  "language_info": {
   "codemirror_mode": {
    "name": "ipython",
    "version": 3
   },
   "file_extension": ".py",
   "mimetype": "text/x-python",
   "name": "python",
   "nbconvert_exporter": "python",
   "pygments_lexer": "ipython3",
   "version": "3.10.8"
  }
 },
 "nbformat": 4,
 "nbformat_minor": 5
}

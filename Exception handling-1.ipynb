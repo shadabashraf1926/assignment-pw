{
 "cells": [
  {
   "cell_type": "markdown",
   "id": "ecb88fcd-4bd5-46c9-a239-a6b359b58fb7",
   "metadata": {},
   "source": [
    "ANSWER NO :- 01"
   ]
  },
  {
   "cell_type": "markdown",
   "id": "b3a2f03a-d6d8-409e-a5d3-cd1eb994f4de",
   "metadata": {},
   "source": [
    "Exception in Python :- An exception in Python is an event or condition that disrupts the normal flow of the program's instructions during execution. When a situation occurs that the interpreter cannot cope with, it raises an exception. Exceptions can occur for various reasons, such as user input errors, file not found, division by zero, and more.\n",
    "\n",
    "Here is a example of Exception:-"
   ]
  },
  {
   "cell_type": "code",
   "execution_count": 1,
   "id": "1fd59004-cafd-4e1a-a1f4-a2b9a004347f",
   "metadata": {},
   "outputs": [
    {
     "name": "stdout",
     "output_type": "stream",
     "text": [
      "division by zero\n"
     ]
    }
   ],
   "source": [
    "## we wirte our code in try method. If it disrupts it will raise a exeption..\n",
    "\n",
    "try:\n",
    "    10/0\n",
    "    \n",
    "except Exception as e:\n",
    "    print(e)\n",
    "    \n",
    "#3 This is zero Division error"
   ]
  },
  {
   "cell_type": "markdown",
   "id": "a93dcd18-49fd-406f-9336-2641b84829d0",
   "metadata": {},
   "source": [
    "In this example, a ZeroDivisionError exception is raised due to division by zero, and the except block handles the exception by printing an error message."
   ]
  },
  {
   "cell_type": "markdown",
   "id": "72c94904-4fd4-4593-a2f4-2fc3016f43c0",
   "metadata": {},
   "source": [
    "Difference between Exceptions and Syntax Errors:-"
   ]
  },
  {
   "cell_type": "markdown",
   "id": "c2f1cf22-6b72-44eb-a0ed-6780adfb0732",
   "metadata": {},
   "source": [
    "Exceptions :- These occur during the execution of the program when a specific condition is met (e.g., attempting to divide by zero or accessing an index that doesn't exist).\n",
    "\n",
    "<>.They occur during the execution of the program when a specific error condition is encountered.\n",
    "\n",
    "<>.They can be handled using try, except blocks to gracefully handle error conditions during the program's execution.\n",
    "\n",
    "\n",
    "Syntax Errors :- These occur during the parsing phase before the code is executed. They are caused by incorrect syntax in the code and prevent the interpreter from interpreting the program.\n",
    "\n",
    "<>.They are detected by the Python interpreter before the program is executed, during the parsing phase. The program doesn't run if there are syntax errors.\n",
    "\n",
    "<>.These are typically fixed by correcting the syntax before running the program.\n"
   ]
  },
  {
   "cell_type": "code",
   "execution_count": 2,
   "id": "958b2e08-c9ec-4922-9560-76d2522e893e",
   "metadata": {},
   "outputs": [
    {
     "ename": "SyntaxError",
     "evalue": "incomplete input (2561298778.py, line 4)",
     "output_type": "error",
     "traceback": [
      "\u001b[0;36m  Cell \u001b[0;32mIn[2], line 4\u001b[0;36m\u001b[0m\n\u001b[0;31m    print(\"Hello\"  # Missing closing parenthesis\u001b[0m\n\u001b[0m                                                ^\u001b[0m\n\u001b[0;31mSyntaxError\u001b[0m\u001b[0;31m:\u001b[0m incomplete input\n"
     ]
    }
   ],
   "source": [
    "## Exapmle of syntaxx error.\n",
    "\n",
    "\n",
    "print(\"Hello\"  # Missing closing parenthesis\n"
   ]
  },
  {
   "cell_type": "code",
   "execution_count": 7,
   "id": "ed266731-c4b1-4254-a6e5-6524bf9b0201",
   "metadata": {},
   "outputs": [
    {
     "name": "stdout",
     "output_type": "stream",
     "text": [
      "[Errno 2] No such file or directory: 'file.txt'\n"
     ]
    }
   ],
   "source": [
    "## EXample of Exception.\n",
    "\n",
    "try:\n",
    "    f = open(\"file.txt\",\"r\")\n",
    "    print(f.read())\n",
    "    \n",
    "except Exception as e:\n",
    "    print(e)"
   ]
  },
  {
   "cell_type": "code",
   "execution_count": null,
   "id": "8f8dbdb0-f6f3-4de7-8a46-86f18730efcd",
   "metadata": {},
   "outputs": [],
   "source": []
  },
  {
   "cell_type": "markdown",
   "id": "7e3d65b5-7cf6-4b10-9e0f-65f307adf6a3",
   "metadata": {},
   "source": [
    "ANSWER NO :- 02"
   ]
  },
  {
   "cell_type": "markdown",
   "id": "be5dd3fe-422b-4553-922c-487c9d730fa5",
   "metadata": {},
   "source": [
    "When an exception is not handled in Python, it propagates up the call stack, potentially leading to the termination of the program. This can result in an error message being displayed, along with information about the unhandled exception. If the exception continues to propagate without being caught, it can cause the program to terminate abruptly.\n",
    "\n",
    "Here's an example to undersatnd this:-"
   ]
  },
  {
   "cell_type": "code",
   "execution_count": 16,
   "id": "37b0ea0d-2b36-4072-9c7d-e02d98348fbe",
   "metadata": {},
   "outputs": [
    {
     "ename": "ZeroDivisionError",
     "evalue": "division by zero",
     "output_type": "error",
     "traceback": [
      "\u001b[0;31m---------------------------------------------------------------------------\u001b[0m",
      "\u001b[0;31mZeroDivisionError\u001b[0m                         Traceback (most recent call last)",
      "Cell \u001b[0;32mIn[16], line 6\u001b[0m\n\u001b[1;32m      2\u001b[0m     result \u001b[38;5;241m=\u001b[39m a\u001b[38;5;241m/\u001b[39mb\n\u001b[1;32m      3\u001b[0m     \u001b[38;5;28mprint\u001b[39m(result)\n\u001b[0;32m----> 6\u001b[0m result \u001b[38;5;241m=\u001b[39m \u001b[43mdivide_number\u001b[49m\u001b[43m(\u001b[49m\u001b[38;5;241;43m234\u001b[39;49m\u001b[43m,\u001b[49m\u001b[38;5;241;43m0\u001b[39;49m\u001b[43m)\u001b[49m\n\u001b[1;32m      7\u001b[0m \u001b[38;5;28mprint\u001b[39m(result)\n",
      "Cell \u001b[0;32mIn[16], line 2\u001b[0m, in \u001b[0;36mdivide_number\u001b[0;34m(a, b)\u001b[0m\n\u001b[1;32m      1\u001b[0m \u001b[38;5;28;01mdef\u001b[39;00m \u001b[38;5;21mdivide_number\u001b[39m(a,b):\n\u001b[0;32m----> 2\u001b[0m     result \u001b[38;5;241m=\u001b[39m \u001b[43ma\u001b[49m\u001b[38;5;241;43m/\u001b[39;49m\u001b[43mb\u001b[49m\n\u001b[1;32m      3\u001b[0m     \u001b[38;5;28mprint\u001b[39m(result)\n",
      "\u001b[0;31mZeroDivisionError\u001b[0m: division by zero"
     ]
    }
   ],
   "source": [
    "def divide_number(a,b):\n",
    "    result = a/b\n",
    "    print(result)\n",
    "    \n",
    "    \n",
    "result = divide_number(234,0)\n",
    "print(result)"
   ]
  },
  {
   "cell_type": "markdown",
   "id": "e5c17dc6-dd0e-4a57-a17d-b7eb5c9269b2",
   "metadata": {},
   "source": [
    "In this example, the function divide_numbers attempts to perform division by zero (10 / 0), which is not allowed in Python and raises a ZeroDivisionError. Since there is no exception handling in the code, the exception will propagate up the call stack.\n",
    "\n",
    "If the exception reaches the top-level of the program without being handled, the program will terminate, and an error message will be displayed. Unhandled exceptions can make it challenging to diagnose and fix issues in the code, so it's generally a good practice to implement appropriate exception handling to handle potential errors gracefully."
   ]
  },
  {
   "cell_type": "code",
   "execution_count": null,
   "id": "cbe32f3c-0f5e-4c63-862a-fc9f9a617142",
   "metadata": {},
   "outputs": [],
   "source": []
  },
  {
   "cell_type": "markdown",
   "id": "3e336d89-02cd-4898-bea3-9efca55e56c7",
   "metadata": {},
   "source": [
    "ANSWER NO :- 03"
   ]
  },
  {
   "cell_type": "markdown",
   "id": "d05406b3-6ed1-4d92-b507-4fccd58750fa",
   "metadata": {},
   "source": [
    "In Python, 'try' and 'except' statements are used to catch and handle exceptions. The 'try' block contains the code where an exception may occur, and the 'except' block contains the code that handles the exception.\n",
    "\n",
    "Here's an example:-"
   ]
  },
  {
   "cell_type": "code",
   "execution_count": 18,
   "id": "211af178-75b9-463e-acc0-069901544dd7",
   "metadata": {},
   "outputs": [
    {
     "name": "stdout",
     "output_type": "stream",
     "text": [
      "5.0\n",
      "Error: division by zero\n",
      "None\n"
     ]
    }
   ],
   "source": [
    "def divide_numbers(a, b):\n",
    "    \n",
    "    try:\n",
    "        print(a/b)\n",
    "    \n",
    "    except ZeroDivisionError as e:\n",
    "        print(f\"Error: {e}\")\n",
    "        return None\n",
    "\n",
    "# Example 1: Handling an exception\n",
    "result1 = divide_numbers(10, 2)\n",
    "print(result1)  # Output: 5.0\n",
    "\n",
    "# Example 2: Handling a different exception\n",
    "result2 = divide_numbers(10, 0)\n",
    "print(result2)  # Output: None (and prints \"Error: division by zero\")\n"
   ]
  },
  {
   "cell_type": "markdown",
   "id": "84685c4c-3298-4db7-b8e7-ac85b941538b",
   "metadata": {},
   "source": [
    "In the first example (result1 = divide_numbers(10, 2)), no exception occurs, so the result is computed and returned without any issues.\n",
    "\n",
    "In the second example (result2 = divide_numbers(10, 0)), a ZeroDivisionError occurs. Instead of crashing the program, the exception is caught, and an error message is printed. The function returns None to indicate that an error occurred.\n",
    "\n",
    "Using try and except allows you to gracefully handle exceptions and continue the execution of your program even when unexpected situations arise. It's essential for robust and fault-tolerant code."
   ]
  },
  {
   "cell_type": "code",
   "execution_count": null,
   "id": "950035b2-aa60-4f3d-b867-263153f4c86f",
   "metadata": {},
   "outputs": [],
   "source": []
  },
  {
   "cell_type": "markdown",
   "id": "48c3c662-2dd5-46eb-83a1-42321050fb1e",
   "metadata": {},
   "source": [
    "ANSWER NO :- 04"
   ]
  },
  {
   "cell_type": "markdown",
   "id": "2554b873-51c7-493a-b3c6-e2c63240cdea",
   "metadata": {},
   "source": [
    "1.Try and else blocks in Python are used together to handle exceptions. The try block contains the code where an exception might occur, and the else block contains the code that should be executed if no exception occurs in the try block.\n",
    "\n",
    "In other words, if \"try\" block execued then and only then our else block will execute, otherwise both will terminate and raise a exception.\n",
    "\n",
    "Here's an example to illustrate the usage of try and else:"
   ]
  },
  {
   "cell_type": "code",
   "execution_count": 2,
   "id": "bc124477-fff0-4492-93ab-6ce4ffc3dd3b",
   "metadata": {},
   "outputs": [
    {
     "name": "stdin",
     "output_type": "stream",
     "text": [
      " 5\n",
      " 2\n"
     ]
    },
    {
     "name": "stdout",
     "output_type": "stream",
     "text": [
      "2.5\n"
     ]
    }
   ],
   "source": [
    "try:\n",
    "    a = int(input())\n",
    "    b = int(input())\n",
    "    result = a/b\n",
    "    \n",
    "except Exception as e:\n",
    "    print(e)\n",
    "    \n",
    "# Additional code to execute if no exception occurs which is ElSE.\n",
    "    \n",
    "else:\n",
    "    print(result)"
   ]
  },
  {
   "cell_type": "markdown",
   "id": "990370f3-44a4-40ae-8c30-9521fbc5eba1",
   "metadata": {},
   "source": [
    "The else block is optional, and it provides a way to distinguish between the code that handles exceptions (except block) and the code that executes when no exception occurs (else block). If we only need to handle exceptions and don't need to execute additional code when no exception occurs, the else block can be omitted."
   ]
  },
  {
   "cell_type": "markdown",
   "id": "8e4a0ace-8b00-4d7e-a43f-1451474cddd6",
   "metadata": {},
   "source": [
    "2. finally :- The finally block in Python is used along with the try block to specify a block of code that will be executed no matter what, whether an exception is raised or not. This block is often used for cleanup activities or tasks that should be performed regardless of the outcome of the preceding try and except blocks.\n",
    "\n",
    "Here's an example to illustrate the usage of try, except, and finally:"
   ]
  },
  {
   "cell_type": "code",
   "execution_count": 3,
   "id": "4ab8fd3f-7ae4-4aad-93e3-56dd22a25521",
   "metadata": {},
   "outputs": [
    {
     "name": "stdout",
     "output_type": "stream",
     "text": [
      "Result: 5.0\n",
      "Finally block always executes\n",
      "Error: division by zero\n",
      "Finally block always executes\n"
     ]
    }
   ],
   "source": [
    "def divide_numbers(a, b):\n",
    "    try:\n",
    "        result = a / b\n",
    "        print(f\"Result: {result}\")\n",
    "    except ZeroDivisionError as e:\n",
    "        print(f\"Error: {e}\")\n",
    "    finally:\n",
    "        print(\"Finally block always executes\")\n",
    "\n",
    "# Example 1: Handling an exception\n",
    "divide_numbers(10, 2)\n",
    "# Output: Result: 5.0\n",
    "#         Finally block always executes\n",
    "\n",
    "# Example 2: Handling a different exception\n",
    "divide_numbers(10, 0)\n",
    "# Output: Error: division by zero\n",
    "#         Finally block always executes\n"
   ]
  },
  {
   "cell_type": "markdown",
   "id": "4e316def-2799-44e2-b164-a6d026ed85a7",
   "metadata": {},
   "source": [
    "The finally block is used to print a message indicating that it always executes, regardless of whether an exception occurred or not."
   ]
  },
  {
   "cell_type": "markdown",
   "id": "cc99fd17-7d23-4539-bccc-32bc25d8ee20",
   "metadata": {},
   "source": [
    "3. In Python, the raise statement is used to explicitly raise an exception. You can use the raise statement to signal that a specific error condition has occurred in your code. You can either raise a built-in exception or create and raise a custom exception.\n",
    "\n",
    "Here's an example using the raise statement:"
   ]
  },
  {
   "cell_type": "code",
   "execution_count": 4,
   "id": "a5dba540-0c44-4a41-a75d-1a7f7944b01d",
   "metadata": {},
   "outputs": [
    {
     "name": "stdout",
     "output_type": "stream",
     "text": [
      "Number is positive\n",
      "Error: Number must be positive\n"
     ]
    }
   ],
   "source": [
    "def check_positive_number(value):\n",
    "    if value < 0:\n",
    "        raise ValueError(\"Number must be positive\")\n",
    "    else:\n",
    "        print(\"Number is positive\")\n",
    "\n",
    "# Example 1: Positive number\n",
    "try:\n",
    "    check_positive_number(5)\n",
    "except ValueError as e:\n",
    "    print(f\"Error: {e}\")\n",
    "# Output: Number is positive\n",
    "\n",
    "# Example 2: Negative number (raises ValueError)\n",
    "try:\n",
    "    check_positive_number(-3)\n",
    "except ValueError as e:\n",
    "    print(f\"Error: {e}\")\n",
    "# Output: Error: Number must be positive\n"
   ]
  },
  {
   "cell_type": "code",
   "execution_count": null,
   "id": "7e51cf0d-aa2a-4831-9624-a53e1505b22a",
   "metadata": {},
   "outputs": [],
   "source": []
  },
  {
   "cell_type": "markdown",
   "id": "aee4916f-508c-4e17-a126-1210f7f56ff3",
   "metadata": {},
   "source": [
    "ANSWER NO :- 05"
   ]
  },
  {
   "cell_type": "markdown",
   "id": "fbcdd915-919f-4eef-afaa-1469c847ebb9",
   "metadata": {},
   "source": [
    "Custom exceptions in Python are user-defined exception classes that extend the built-in Exception class. Creating custom exceptions allows you to define specific error conditions for your application and raise exceptions when those conditions are met. This can help make your code more readable, maintainable, and allow for better error handling.\n",
    "\n",
    "Why do we need Custom Exceptions:-\n",
    "\n",
    "Specificity: Custom exceptions provide a way to create more specific and meaningful exception types tailored to your application's requirements. This makes it easier to understand and handle errors.\n",
    "\n",
    "Hierarchy: By creating a hierarchy of custom exceptions, you can catch and handle different types of errors at different levels of your program.\n",
    "\n",
    "Modularity: Custom exceptions promote modularity and encapsulation. If your application has multiple modules or classes, each can define its own set of exceptions for better organization.\n",
    "\n",
    "Documentation: Well-named custom exceptions serve as a form of documentation, making it clear what kind of errors can occur in a particular part of the code.\n",
    "\n",
    "HERE IS AN EXAMPLE OF CUSTOM EXCEPTION:-"
   ]
  },
  {
   "cell_type": "code",
   "execution_count": 5,
   "id": "b2200136-8d18-43ec-a957-9bb27cf064bc",
   "metadata": {},
   "outputs": [
    {
     "name": "stdout",
     "output_type": "stream",
     "text": [
      "Error: Insufficient funds. Available balance: 1000, Withdrawal amount: 1500\n"
     ]
    }
   ],
   "source": [
    "class InsufficientFundsError(Exception):\n",
    "    \"\"\"Exception raised for insufficient funds during a withdrawal.\"\"\"\n",
    "\n",
    "    def __init__(self, balance, amount):\n",
    "        self.balance = balance\n",
    "        self.amount = amount\n",
    "        super().__init__(f\"Insufficient funds. Available balance: {balance}, Withdrawal amount: {amount}\")\n",
    "\n",
    "\n",
    "class BankAccount:\n",
    "    def __init__(self, balance):\n",
    "        self.balance = balance\n",
    "\n",
    "    def withdraw(self, amount):\n",
    "        if amount > self.balance:\n",
    "            raise InsufficientFundsError(self.balance, amount)\n",
    "        else:\n",
    "            self.balance -= amount\n",
    "            print(f\"Withdrawal successful. Remaining balance: {self.balance}\")\n",
    "\n",
    "\n",
    "# Example usage\n",
    "account = BankAccount(1000)\n",
    "\n",
    "try:\n",
    "    account.withdraw(1500)\n",
    "except InsufficientFundsError as e:\n",
    "    print(f\"Error: {e}\")"
   ]
  },
  {
   "cell_type": "markdown",
   "id": "5d254813-7a3a-42ae-80a0-e67ae2b580d9",
   "metadata": {},
   "source": [
    "In this example:-\n",
    "\n",
    "We define a custom exception InsufficientFundsError, which takes the current balance and the withdrawal amount as parameters.\n",
    "\n",
    "The BankAccount class has a withdraw method that raises InsufficientFundsError if the withdrawal amount exceeds the account balance.\n",
    "\n",
    "When trying to withdraw an amount greater than the balance, an instance of InsufficientFundsError is raised, and we catch and handle it in a try/except block.\n",
    "\n",
    "Custom exceptions allow us to create a clear and specific error message and handle such errors in a way that makes sense for the application's logic."
   ]
  },
  {
   "cell_type": "code",
   "execution_count": null,
   "id": "8668f7ad-b408-4c48-86f4-d813610f71ad",
   "metadata": {},
   "outputs": [],
   "source": []
  },
  {
   "cell_type": "markdown",
   "id": "4e9cf402-8c0f-4061-bec9-6b6a29062627",
   "metadata": {},
   "source": [
    "ANSWER NO :- 06"
   ]
  },
  {
   "cell_type": "markdown",
   "id": "ddbb21e6-692d-4226-8a47-739ff7f10d13",
   "metadata": {},
   "source": [
    "Let's create a custom exception class and then use it to handle an exception. In this example, I'll create a custom exception called InvalidInputError that will be raised when an invalid input is detected."
   ]
  },
  {
   "cell_type": "code",
   "execution_count": 7,
   "id": "331d1066-8da1-4b83-9a32-6c3b07fed127",
   "metadata": {},
   "outputs": [
    {
     "name": "stdout",
     "output_type": "stream",
     "text": [
      "Error: Invalid input: abc. Please provide a valid input.\n"
     ]
    }
   ],
   "source": [
    "class InvalidInputError(Exception):\n",
    "    \"\"\"Exception raised for invalid input.\"\"\"\n",
    "\n",
    "    def __init__(self, input_value):\n",
    "        self.input_value = input_value\n",
    "        super().__init__(f\"Invalid input: {input_value}. Please provide a valid input.\")\n",
    "\n",
    "\n",
    "def process_input(input_value):\n",
    "    if not isinstance(input_value, int):\n",
    "        raise InvalidInputError(input_value)\n",
    "    else:\n",
    "        print(f\"Processing input: {input_value}\")\n",
    "\n",
    "\n",
    "# Example usage\n",
    "try:\n",
    "    process_input(\"abc\")\n",
    "except InvalidInputError as e:\n",
    "    print(f\"Error: {e}\")\n"
   ]
  },
  {
   "cell_type": "code",
   "execution_count": null,
   "id": "c0637110-cd6d-4cac-ae39-a71748731c66",
   "metadata": {},
   "outputs": [],
   "source": []
  }
 ],
 "metadata": {
  "kernelspec": {
   "display_name": "Python 3 (ipykernel)",
   "language": "python",
   "name": "python3"
  },
  "language_info": {
   "codemirror_mode": {
    "name": "ipython",
    "version": 3
   },
   "file_extension": ".py",
   "mimetype": "text/x-python",
   "name": "python",
   "nbconvert_exporter": "python",
   "pygments_lexer": "ipython3",
   "version": "3.10.8"
  }
 },
 "nbformat": 4,
 "nbformat_minor": 5
}

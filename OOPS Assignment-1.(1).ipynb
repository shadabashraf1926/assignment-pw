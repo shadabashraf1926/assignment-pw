{
 "cells": [
  {
   "cell_type": "markdown",
   "id": "79eab1c7-bc8f-400e-852c-a9c27241838a",
   "metadata": {},
   "source": [
    "ANSWER NO :- 01"
   ]
  },
  {
   "cell_type": "markdown",
   "id": "9f61157f-2cf1-450b-8315-b61b059bbf6b",
   "metadata": {},
   "source": [
    "In object-oriented programming (OOP), a class and an object are fundamental concepts used to model and structure code. Let me explain each concept and provide an example in Python.\n",
    "\n",
    "Class :- A class is a blueprint or template for creating objects. It defines a set of attributes (properties) and methods (functions) that the objects of the class will have.\n",
    "\n",
    "It serves as a way to encapsulate data and behavior in a single unit\n",
    "\n",
    "let us take some example:- "
   ]
  },
  {
   "cell_type": "code",
   "execution_count": 12,
   "id": "105188f1-1c83-42ce-8c91-ac4d7fe9a258",
   "metadata": {},
   "outputs": [
    {
     "name": "stdout",
     "output_type": "stream",
     "text": [
      "The animal name is Lion and he is a carnivorous animal\n",
      "The age of Lion is 40 years\n",
      "He Roars\n",
      "The animal name is cow and he is a herbivorous animal\n",
      "The age of cow is 20 years\n",
      "Mooo\n"
     ]
    }
   ],
   "source": [
    "## first we create a class name animal \n",
    "\n",
    "class animal:\n",
    "    \n",
    "## Now we craete a constructer which will help us to initialize the object's attributes.\n",
    "\n",
    "    def __init__(self,name,type,age):\n",
    "        self.name = name\n",
    "        self.type = type\n",
    "        self.age = age\n",
    "        \n",
    "## we create a method\n",
    "    def sound_of_animal(self,sound):\n",
    "        print(sound)\n",
    "        \n",
    "        \n",
    "## Now Creating an instance (object) of the Animal class\n",
    "        \n",
    "lion = animal(\"Lion\",\"carnivorous\",40)\n",
    "print(f\"The animal name is {lion.name} and he is a {lion.type} animal\")\n",
    "print(f\"The age of {lion.name} is {lion.age} years\")\n",
    "lion.sound_of_animal(\"He Roars\")\n",
    "\n",
    "''' we can create multiple objects of this class.\n",
    "That is why it is also called a blue print for creating objects  '''\n"
   ]
  },
  {
   "cell_type": "raw",
   "id": "68a69e73-ebc2-4260-8b05-dfbcbd4a4c76",
   "metadata": {},
   "source": [
    "In this example, Animal is a class that has attributes (name, type and age) and a method (sound_of_animal).\n",
    "The __init__ method is a special method called a constructor, used to initialize the object's attributes."
   ]
  },
  {
   "cell_type": "code",
   "execution_count": null,
   "id": "f1b0b054-6ef3-4153-854f-13ee541e0793",
   "metadata": {},
   "outputs": [],
   "source": []
  },
  {
   "cell_type": "markdown",
   "id": "09964ba4-8cca-4b07-a646-e096c446bf6a",
   "metadata": {},
   "source": [
    "Object :- An object is an instance of a class. It is a concrete realization of the blueprint defined by the class.\n",
    "Objects have attributes (data) and can perform actions through methods.\n",
    "Example continuation from the previous code:"
   ]
  },
  {
   "cell_type": "code",
   "execution_count": 13,
   "id": "c80ba712-e45f-4e37-b152-1418f6829559",
   "metadata": {},
   "outputs": [
    {
     "name": "stdout",
     "output_type": "stream",
     "text": [
      "The animal name is cow and he is a herbivorous animal\n",
      "The age of cow is 20 years\n",
      "Mooo\n"
     ]
    }
   ],
   "source": [
    "## creating another object\n",
    "\n",
    "cow = animal(\"cow\" , \"herbivorous\" , 20)\n",
    "print(f\"The animal name is {cow.name} and he is a {cow.type} animal\")\n",
    "print(f\"The age of {cow.name} is {cow.age} years\")\n",
    "cow.sound_of_animal(\"Mooo\")"
   ]
  },
  {
   "cell_type": "raw",
   "id": "06a88de6-ccf3-478e-8dd6-2c7089ef6ad5",
   "metadata": {},
   "source": [
    "In this continuation, lion and cow are objects (instances) of the animal class. They have their own set of attributes (name, type and age)  and can perform actions using the (sound_of_animal) method."
   ]
  },
  {
   "cell_type": "code",
   "execution_count": null,
   "id": "1096867d-3bf2-4949-acbc-0e8726e4ec5c",
   "metadata": {},
   "outputs": [],
   "source": []
  },
  {
   "cell_type": "markdown",
   "id": "86db6157-a463-435a-b79d-ed4c0359a9c4",
   "metadata": {},
   "source": [
    "ANSWER NO :- 02"
   ]
  },
  {
   "cell_type": "raw",
   "id": "268c5d55-48c9-46ea-ba9a-44194ec8314b",
   "metadata": {},
   "source": [
    "The four pillars of object-oriented programming (OOP) are :-\n",
    "A. Encapsulation.\n",
    "B. Abstraction.\n",
    "C. Inheritance.\n",
    "D. Polymorphism.\n",
    "\n",
    "Encapsulation :-Encapsulation is the concept of bundling data (attributes) and methods (functions) that operate on the data into a single unit known as a class.\n",
    "It restricts access to some of an object's components and prevents the accidental modification of data.\n",
    "\n",
    "\n",
    "\n",
    "Abstraction :- Abstraction is the process of simplifying complex systems by modeling classes based on the essential properties and behaviors an object should have.\n",
    "It involves hiding the implementation details and showing only the necessary features of an object.\n",
    "\n",
    "\n",
    "\n",
    "Inheritance :-Inheritance allows a class (subclass or derived class) to inherit the properties and behaviors of another class (base class or superclass).\n",
    "It promotes code reusability and the creation of a hierarchy of classes.\n",
    "\n",
    "\n",
    "\n",
    "Polymorphism :- Polymorphism allows objects of different classes to be treated as objects of a common base class.\n",
    "It enables a single interface to represent different types of objects or a single function to operate on different types of objects.\n",
    "Polymorphism is often achieved through method overloading and method overriding.\n",
    "\n",
    "\n",
    "These four pillars provide a foundation for designing and structuring code in a way that is modular, extensible, and easy to maintain. They help in creating code that reflects real-world scenarios and relationships between entities."
   ]
  },
  {
   "cell_type": "code",
   "execution_count": null,
   "id": "9d9b883f-f9c1-440e-a2ab-16366e9f4a61",
   "metadata": {},
   "outputs": [],
   "source": []
  },
  {
   "cell_type": "markdown",
   "id": "82afabba-fc6c-43b4-818d-b2539b438824",
   "metadata": {},
   "source": [
    "ANSWER NO :- 03"
   ]
  },
  {
   "cell_type": "markdown",
   "id": "8f2049b9-ac29-40ff-8dfc-83e9f331204a",
   "metadata": {},
   "source": [
    "The __init__() function in Python is a special method, often referred to as the constructor. It is automatically called when an object is created from a class. The primary purpose of the __init__() method is to initialize the attributes (data members) of the object with values provided during the creation of the object. This method allows you to set up the initial state of the object.\n",
    "\n",
    "Here's a simple example to illustrate the use of the __init__() method:"
   ]
  },
  {
   "cell_type": "code",
   "execution_count": 3,
   "id": "d3167807-8f01-4689-95e1-49c9df56bae6",
   "metadata": {},
   "outputs": [
    {
     "name": "stdout",
     "output_type": "stream",
     "text": [
      "Name of the school is St.karens school\n",
      "Total no of classes in this school is upto 12th\n",
      "It is in  Patna\n",
      "Total no of student in this school is 3000\n"
     ]
    }
   ],
   "source": [
    "class school:\n",
    "    \n",
    "    ## creating contructor or init function.\n",
    "\n",
    "    def __init__(self,name,max_classes,location):\n",
    "        self.name = name\n",
    "        self.max_classes = max_classes\n",
    "        self.location = location\n",
    "        \n",
    "        \n",
    "    ## creating a method\n",
    "    \n",
    "    def no_of_students(self,number):\n",
    "        print(number)\n",
    "        \n",
    "        \n",
    "## Now Creating an instance (object) of the School class.\n",
    "\n",
    "school1 = school(\"St.karens school\", \"upto 12th\", \"Patna\")\n",
    "print(f\"Name of the school is {school1.name}\")\n",
    "print(f\"Total no of classes in this school is {school1.max_classes}\")\n",
    "print(f\"It is in  {school1.location}\")   \n",
    "school1.no_of_students(f\"Total no of student in this school is {3000}\")"
   ]
  },
  {
   "cell_type": "raw",
   "id": "e1119570-5aa2-400d-813d-db60dabf5bed",
   "metadata": {},
   "source": [
    "The school class has a class attribute (species) and an __init__ method.\n",
    "The __init__ method takes self (the instance being created) and additional parameters (name,max_classes,location).\n",
    "Inside the __init__ method, self.name, self.max_classes and self.location are instance attributes that get assigned the values passed as arguments during object creation.\n",
    "\n",
    "When we create an instances (school1), the __init__ method is automatically called, and the attributes are initialized. This allows each instance of the school class to have its own set of attributes, reflecting the unique characteristics of each school."
   ]
  },
  {
   "cell_type": "code",
   "execution_count": null,
   "id": "f3dfebb9-8d6d-4a9a-9714-180b155adafd",
   "metadata": {},
   "outputs": [],
   "source": []
  },
  {
   "cell_type": "markdown",
   "id": "19dd8a4d-7cd9-4851-af10-99d458b7925e",
   "metadata": {},
   "source": [
    "ANSWER NO :- 04"
   ]
  },
  {
   "cell_type": "markdown",
   "id": "2cd935eb-a426-416c-b173-f8251c0770f4",
   "metadata": {},
   "source": [
    "In object-oriented programming (OOP), self is a convention used in many programming languages, including Python, to represent the instance of the class. It is a reference to the current object that is being operated upon. The use of self is crucial for several reasons:\n",
    "\n",
    "Instance Attribute Access :-\n",
    "self is used to access the attributes (data members) of the instance within the class.\n",
    "It allows methods to refer to and operate on the specific instance's data.\n",
    "\n",
    "\n",
    "Method Invocation :-\n",
    "When a method is called on an instance, self is implicitly passed as the first parameter to that method.\n",
    "This allows methods to know which instance they are working with.\n",
    "\n",
    "\n",
    "Differentiating between Instance and Local Variables :-\n",
    "Within a method, variables declared without self are treated as local variables.\n",
    "Using self helps distinguish between instance attributes and local variables.\n",
    "Instance Creation:\n",
    "\n",
    "During the creation of an instance, self is used to refer to the instance being created.\n",
    "It allows the assignment of values to instance attributes."
   ]
  },
  {
   "cell_type": "code",
   "execution_count": 5,
   "id": "e9c7f5a7-aa62-4298-96f4-ffa21fc0d6b7",
   "metadata": {},
   "outputs": [
    {
     "name": "stdout",
     "output_type": "stream",
     "text": [
      "422\n"
     ]
    }
   ],
   "source": [
    "class MyClass:\n",
    "    def __init__(self, value):\n",
    "        self.instance_variable = value\n",
    "\n",
    "    def print_value(self):\n",
    "        print(self.instance_variable)\n",
    "\n",
    "# Creating an instance of the class\n",
    "obj = MyClass(422)\n",
    "\n",
    "# Accessing instance attribute using self\n",
    "obj.print_value()\n"
   ]
  },
  {
   "cell_type": "raw",
   "id": "fc362bc7-9546-4331-8f6c-a5bde6908647",
   "metadata": {},
   "source": [
    "In this example:\n",
    "\n",
    "self.instance_variable is an instance attribute.\n",
    "self is used to refer to the instance (obj) during both the initialization (__init__) and method (print_value) calls.\n",
    "\n",
    "By convention, the name self is used, but it's not a keyword; We could technically use any name, but using self is widely accepted and improves code readability and maintainability. It helps make the code more explicit about which object is being referred to within the class methods."
   ]
  },
  {
   "cell_type": "code",
   "execution_count": null,
   "id": "2ea2992a-41ee-4285-b177-bda95d07baa0",
   "metadata": {},
   "outputs": [],
   "source": []
  },
  {
   "cell_type": "markdown",
   "id": "94d4a64b-d984-41a7-80e1-2c83b3dcca36",
   "metadata": {},
   "source": [
    "ANSWER NO :- 05"
   ]
  },
  {
   "cell_type": "markdown",
   "id": "6083fd0e-640c-485e-be6f-ff2ea83a4e71",
   "metadata": {},
   "source": [
    "Inheritance is one of the four pillars of object-oriented programming (OOP) and refers to the mechanism by which a class can inherit properties and behaviors (attributes and methods) from another class. The class from which properties are inherited is called the base class, parent class, or superclass. The class that inherits these properties is called the derived class, child class, or subclass.\n",
    "\n",
    "There are certain types of inheritance :- "
   ]
  },
  {
   "cell_type": "markdown",
   "id": "1d74ab3f-e0b7-4556-9e53-e1fcb9262823",
   "metadata": {},
   "source": [
    "1) Single Inheritance:\n",
    "\n",
    "In single inheritance, a class inherits from only one base class.\n",
    "\n",
    "Example:"
   ]
  },
  {
   "cell_type": "code",
   "execution_count": 8,
   "id": "ac58410c-1a71-4f82-ae6b-0b951417c642",
   "metadata": {},
   "outputs": [
    {
     "name": "stdout",
     "output_type": "stream",
     "text": [
      "Animal speaks\n",
      "Dog barks\n"
     ]
    }
   ],
   "source": [
    "class Animal:\n",
    "    def speak(self):\n",
    "        print(\"Animal speaks\")\n",
    "\n",
    "class Dog(Animal):\n",
    "    def bark(self):\n",
    "        print(\"Dog barks\")\n",
    "\n",
    "# Creating an instance of the Dog class\n",
    "my_dog = Dog()\n",
    "\n",
    "# Accessing methods from both base and derived class\n",
    "my_dog.speak()  # Inherited from Animal\n",
    "my_dog.bark()   # Defined in Dog\n"
   ]
  },
  {
   "cell_type": "code",
   "execution_count": null,
   "id": "69eb938b-dbae-4058-b7a0-e20e1adf8e6c",
   "metadata": {},
   "outputs": [],
   "source": []
  },
  {
   "cell_type": "markdown",
   "id": "a4f676cb-b6fd-4906-a5f5-134c12734fdc",
   "metadata": {},
   "source": [
    "Multiple Inheritance:\n",
    "\n",
    "In multiple inheritance, a class can inherit from more than one base class.\n",
    "\n",
    "Example:"
   ]
  },
  {
   "cell_type": "code",
   "execution_count": 7,
   "id": "07530c0a-3362-4ee5-b71a-adf533051d37",
   "metadata": {},
   "outputs": [
    {
     "name": "stdout",
     "output_type": "stream",
     "text": [
      "Can fly\n",
      "Can swim\n"
     ]
    }
   ],
   "source": [
    "class Flyable:\n",
    "    def fly(self):\n",
    "        print(\"Can fly\")\n",
    "\n",
    "class Swimmable:\n",
    "    def swim(self):\n",
    "        print(\"Can swim\")\n",
    "\n",
    "class FlyingFish(Flyable, Swimmable):\n",
    "    pass\n",
    "\n",
    "# Creating an instance of the FlyingFish class\n",
    "my_fish = FlyingFish()\n",
    "\n",
    "# Accessing methods from both base classes\n",
    "my_fish.fly()\n",
    "my_fish.swim()\n"
   ]
  },
  {
   "cell_type": "code",
   "execution_count": null,
   "id": "e97f72e3-6ca2-454c-b0a8-c387becb92b0",
   "metadata": {},
   "outputs": [],
   "source": []
  },
  {
   "cell_type": "markdown",
   "id": "d0948d71-a80d-461e-9ded-447095adf3a0",
   "metadata": {},
   "source": [
    "Multilevel Inheritance:\n",
    "\n",
    "In multilevel inheritance, a class inherits from another class, and then another class inherits from it, forming a chain of inheritance.\n",
    "\n",
    "Example:"
   ]
  },
  {
   "cell_type": "code",
   "execution_count": 9,
   "id": "e4183df5-2d4d-4aa6-9363-8a8d41b3eb61",
   "metadata": {},
   "outputs": [
    {
     "name": "stdout",
     "output_type": "stream",
     "text": [
      "Animal speaks\n",
      "Dog barks\n",
      "Labrador fetches\n"
     ]
    }
   ],
   "source": [
    "class Animal:\n",
    "    def speak(self):\n",
    "        print(\"Animal speaks\")\n",
    "\n",
    "class Dog(Animal):\n",
    "    def bark(self):\n",
    "        print(\"Dog barks\")\n",
    "\n",
    "class Labrador(Dog):\n",
    "    def fetch(self):\n",
    "        print(\"Labrador fetches\")\n",
    "\n",
    "# Creating an instance of the Labrador class\n",
    "my_labrador = Labrador()\n",
    "\n",
    "# Accessing methods from all levels of inheritance\n",
    "my_labrador.speak()  # Inherited from Animal\n",
    "my_labrador.bark()   # Inherited from Dog\n",
    "my_labrador.fetch()  # Defined in Labrador\n"
   ]
  },
  {
   "cell_type": "code",
   "execution_count": null,
   "id": "7fa712d8-2b6c-44dd-81e8-4d7fe5fe8e27",
   "metadata": {},
   "outputs": [],
   "source": []
  }
 ],
 "metadata": {
  "kernelspec": {
   "display_name": "Python 3 (ipykernel)",
   "language": "python",
   "name": "python3"
  },
  "language_info": {
   "codemirror_mode": {
    "name": "ipython",
    "version": 3
   },
   "file_extension": ".py",
   "mimetype": "text/x-python",
   "name": "python",
   "nbconvert_exporter": "python",
   "pygments_lexer": "ipython3",
   "version": "3.10.8"
  }
 },
 "nbformat": 4,
 "nbformat_minor": 5
}

{
 "cells": [
  {
   "cell_type": "markdown",
   "id": "b8691fc0-de09-46b3-aeed-e7afbf708c6e",
   "metadata": {},
   "source": [
    "ANSWER NO :- 01 "
   ]
  },
  {
   "cell_type": "code",
   "execution_count": 1,
   "id": "ee7958de-da98-4c5f-aabe-9c6df84001bb",
   "metadata": {},
   "outputs": [
    {
     "name": "stdout",
     "output_type": "stream",
     "text": [
      "Requirement already satisfied: pandas in /opt/conda/lib/python3.10/site-packages (1.5.2)\n",
      "Requirement already satisfied: python-dateutil>=2.8.1 in /opt/conda/lib/python3.10/site-packages (from pandas) (2.8.2)\n",
      "Requirement already satisfied: pytz>=2020.1 in /opt/conda/lib/python3.10/site-packages (from pandas) (2022.6)\n",
      "Requirement already satisfied: numpy>=1.21.0 in /opt/conda/lib/python3.10/site-packages (from pandas) (1.23.5)\n",
      "Requirement already satisfied: six>=1.5 in /opt/conda/lib/python3.10/site-packages (from python-dateutil>=2.8.1->pandas) (1.16.0)\n",
      "Note: you may need to restart the kernel to use updated packages.\n"
     ]
    }
   ],
   "source": [
    "pip install pandas"
   ]
  },
  {
   "cell_type": "code",
   "execution_count": 4,
   "id": "6e3e0792-125f-409d-9107-7b9792e3e5d4",
   "metadata": {},
   "outputs": [
    {
     "name": "stdout",
     "output_type": "stream",
     "text": [
      "0     4\n",
      "1     8\n",
      "2    15\n",
      "3    16\n",
      "4    23\n",
      "5    42\n",
      "dtype: int64\n"
     ]
    }
   ],
   "source": [
    "import pandas as pd\n",
    "\n",
    "# Create a Pandas Series with the given data\n",
    "data = [4, 8, 15, 16, 23, 42]\n",
    "\n",
    "my_series = pd.Series(data)\n",
    "\n",
    "# Print the series\n",
    "print(my_series)"
   ]
  },
  {
   "cell_type": "markdown",
   "id": "5c0d0fe9-52fc-4f1d-b6d1-b019306326f1",
   "metadata": {},
   "source": [
    "This is the default representation of a Pandas Series, which includes an index and the corresponding values. The index here is generated automatically, starting from 0."
   ]
  },
  {
   "cell_type": "code",
   "execution_count": null,
   "id": "96ad60a0-d7c4-4f96-bbbe-9dd9d112f1f6",
   "metadata": {},
   "outputs": [],
   "source": []
  },
  {
   "cell_type": "markdown",
   "id": "686da945-e283-4535-b1c2-63205dfc0a64",
   "metadata": {},
   "source": [
    "ANSWER NO :- 02"
   ]
  },
  {
   "cell_type": "code",
   "execution_count": 7,
   "id": "3a75ad13-1ccf-465f-9e29-e8fb1d0a3b91",
   "metadata": {},
   "outputs": [
    {
     "name": "stdout",
     "output_type": "stream",
     "text": [
      "0       pw-skills\n",
      "1               2\n",
      "2               3\n",
      "3    Data science\n",
      "4               5\n",
      "5               6\n",
      "6       Shudh sir\n",
      "7               8\n",
      "8               9\n",
      "9              10\n",
      "dtype: object\n"
     ]
    }
   ],
   "source": [
    "import pandas as pd\n",
    "\n",
    "# Create a list with 10 elements\n",
    "my_list = [\"pw-skills\", 2, 3, \"Data science\", 5, 6, \"Shudh sir\", 8, 9, 10]\n",
    "\n",
    "# Apply the pandas Series function on the list\n",
    "my_series = pd.Series(my_list)\n",
    "\n",
    "# Print the resulting series\n",
    "print(my_series)\n"
   ]
  },
  {
   "cell_type": "markdown",
   "id": "1db00ba0-3edc-46ad-a815-a2c886d2e83f",
   "metadata": {},
   "source": [
    "the Pandas Series created from the list, with default index values starting from 0."
   ]
  },
  {
   "cell_type": "code",
   "execution_count": null,
   "id": "1fdf0d66-45f4-44c9-8eac-ef1714de0c08",
   "metadata": {},
   "outputs": [],
   "source": []
  },
  {
   "cell_type": "markdown",
   "id": "dfe91d19-d9f5-4bc8-8c9d-608a1e8cad26",
   "metadata": {},
   "source": [
    "ANSWER NO :- 03"
   ]
  },
  {
   "cell_type": "code",
   "execution_count": 8,
   "id": "63c54c27-1910-4792-8f0f-afbb55483385",
   "metadata": {},
   "outputs": [
    {
     "name": "stdout",
     "output_type": "stream",
     "text": [
      "     Name  Age  Gender\n",
      "0   Alice   25  Female\n",
      "1     Bob   30    Male\n",
      "2  Claire   27  Female\n"
     ]
    }
   ],
   "source": [
    "import pandas as pd\n",
    "\n",
    "# Define the data as a dictionary\n",
    "\n",
    "data = {\n",
    "    'Name': ['Alice', 'Bob', 'Claire'],\n",
    "    'Age': [25, 30, 27],\n",
    "    'Gender': ['Female', 'Male', 'Female']\n",
    "}\n",
    "\n",
    "# Create a Pandas DataFrame\n",
    "\n",
    "df = pd.DataFrame(data)\n",
    "\n",
    "# Print the DataFrame\n",
    "print(df)\n"
   ]
  },
  {
   "cell_type": "code",
   "execution_count": null,
   "id": "48b8c028-2968-46f9-81ac-2479f6d96a76",
   "metadata": {},
   "outputs": [],
   "source": []
  },
  {
   "cell_type": "markdown",
   "id": "644248a6-25c5-4036-9248-18cfa88091cd",
   "metadata": {},
   "source": [
    "ANSWER NO :- 04"
   ]
  },
  {
   "cell_type": "markdown",
   "id": "f1166273-7689-43ae-a028-fab3309d7937",
   "metadata": {},
   "source": [
    "In Pandas, a DataFrame is a two-dimensional, tabular data structure with labeled axes (rows and columns). It is similar to a spreadsheet or SQL table, where data is organized in rows and columns. Each column in a DataFrame can be of a different data type, and we can perform various operations on the data, such as filtering, grouping, and merging.\n",
    "\n",
    "On the other hand, a Series is a one-dimensional labeled array in Pandas. It can be thought of as a single column of a DataFrame. A DataFrame is essentially a collection of Series objects with the same index.\n",
    "\n",
    "Here's an example to illustrate the difference between a DataFrame and a Series:"
   ]
  },
  {
   "cell_type": "code",
   "execution_count": 10,
   "id": "465b8ce1-40f1-40f7-bb2b-c387ed0c585e",
   "metadata": {},
   "outputs": [
    {
     "name": "stdout",
     "output_type": "stream",
     "text": [
      "DataFrame:\n",
      "     Name  Age  Gender\n",
      "0   Alice   25  Female\n",
      "1     Bob   30    Male\n",
      "2  Claire   27  Female\n",
      "\n",
      "\n",
      "Series (Age column):\n",
      "0    25\n",
      "1    30\n",
      "2    27\n",
      "Name: Age, dtype: int64\n"
     ]
    }
   ],
   "source": [
    "import pandas as pd\n",
    "\n",
    "# Example DataFrame\n",
    "data = {\n",
    "    'Name': ['Alice', 'Bob', 'Claire'],\n",
    "    'Age': [25, 30, 27],\n",
    "    'Gender': ['Female', 'Male', 'Female']\n",
    "}\n",
    "df = pd.DataFrame(data)\n",
    "\n",
    "# Example Series (extracting the 'Age' column from the DataFrame)\n",
    "age_series = df['Age']\n",
    "\n",
    "# Print the DataFrame\n",
    "print(\"DataFrame:\")\n",
    "print(df)\n",
    "print()\n",
    "print()\n",
    "\n",
    "# Print the Series\n",
    "print(\"Series (Age column):\")\n",
    "print(age_series)\n"
   ]
  },
  {
   "cell_type": "markdown",
   "id": "14e66f2d-1572-4b5d-be56-f11b0609b9dd",
   "metadata": {},
   "source": [
    "In this example, df is a DataFrame with three columns ('Name', 'Age', 'Gender'), and age_series is a Series containing the 'Age' column from the DataFrame. While a DataFrame is a two-dimensional structure with both rows and columns, a Series is a one-dimensional structure representing a single column. The Series retains the index information from the DataFrame, and we can perform operations on it just like any other Pandas Series."
   ]
  },
  {
   "cell_type": "code",
   "execution_count": null,
   "id": "3fe6bbdd-950d-4781-b77a-d3a6449ef599",
   "metadata": {},
   "outputs": [],
   "source": []
  },
  {
   "cell_type": "markdown",
   "id": "09c55ff1-353c-4f66-88f7-81b0a20e3753",
   "metadata": {},
   "source": [
    "ANSWER NO :- 05"
   ]
  },
  {
   "cell_type": "markdown",
   "id": "d639c0fe-d609-4ee0-b781-c374ba1f79f6",
   "metadata": {},
   "source": [
    "Pandas provides a wide range of functions for manipulating data in a DataFrame. Here are some common functions along with examples:\n",
    "\n",
    "head() and tail():- These functions are used to display the first (head) or last (tail) few rows of a DataFrame.\n",
    "\n",
    "\n",
    "describe():- Provides summary statistics of the numeric columns in the DataFrame.\n",
    "\n",
    "info():- Prints a concise summary of the DataFrame, including data types and non-null values.\n",
    "Used for label-based and integer-location based indexing, respectively.\n",
    "\n",
    "\n",
    "set_index():- sets the DataFrame index using existing columns.\n",
    "\n",
    "reset_index():- Resets the DataFrame index to the default integer index.\n",
    "\n",
    "groupby():- Used for grouping data based on some criteria and applying a function to each group.\n",
    "\n",
    "sort_values():- Sorts the DataFrame by one or more columns.\n",
    "\n",
    "drop():- Used to remove rows or columns from the DataFrame.\n",
    "\n",
    "apply() :-Applies a function along the axis of the DataFrame.\n"
   ]
  },
  {
   "cell_type": "code",
   "execution_count": 20,
   "id": "3c4c3b43-ff20-44af-881c-96e7cda4844b",
   "metadata": {},
   "outputs": [
    {
     "name": "stdout",
     "output_type": "stream",
     "text": [
      "Original DataFrame:\n",
      "     Name  Age  Gender  Grade\n",
      "0   Alice   25  Female     85\n",
      "1     Bob   30    Male     92\n",
      "2  Claire   27  Female     78\n",
      "3   David   22    Male     88\n",
      "4    Emma   28  Female     95\n",
      "\n",
      "First 2 rows:\n",
      "    Name  Age  Gender  Grade\n",
      "0  Alice   25  Female     85\n",
      "1    Bob   30    Male     92\n",
      "\n",
      "Summary statistics:\n",
      "            Age      Grade\n",
      "count   5.00000   5.000000\n",
      "mean   26.40000  87.600000\n",
      "std     3.04959   6.580274\n",
      "min    22.00000  78.000000\n",
      "25%    25.00000  85.000000\n",
      "50%    27.00000  88.000000\n",
      "75%    28.00000  92.000000\n",
      "max    30.00000  95.000000\n",
      "\n",
      "DataFrame information:\n",
      "<class 'pandas.core.frame.DataFrame'>\n",
      "RangeIndex: 5 entries, 0 to 4\n",
      "Data columns (total 4 columns):\n",
      " #   Column  Non-Null Count  Dtype \n",
      "---  ------  --------------  ----- \n",
      " 0   Name    5 non-null      object\n",
      " 1   Age     5 non-null      int64 \n",
      " 2   Gender  5 non-null      object\n",
      " 3   Grade   5 non-null      int64 \n",
      "dtypes: int64(2), object(2)\n",
      "memory usage: 288.0+ bytes\n",
      "None\n",
      "\n",
      "Subset based on label and integer location:\n",
      "     Name  Age\n",
      "1     Bob   30\n",
      "2  Claire   27\n",
      "3   David   22\n",
      "\n",
      "DataFrame after setting 'Name' as index:\n",
      "        Age  Gender  Grade\n",
      "Name                      \n",
      "Alice    25  Female     85\n",
      "Bob      30    Male     92\n",
      "Claire   27  Female     78\n",
      "David    22    Male     88\n",
      "Emma     28  Female     95\n",
      "\n",
      "DataFrame after resetting index:\n",
      "     Name  Age  Gender  Grade\n",
      "0   Alice   25  Female     85\n",
      "1     Bob   30    Male     92\n",
      "2  Claire   27  Female     78\n",
      "3   David   22    Male     88\n",
      "4    Emma   28  Female     95\n",
      "\n",
      "Mean age by gender:\n",
      "Gender\n",
      "Female    26.666667\n",
      "Male      26.000000\n",
      "Name: Age, dtype: float64\n",
      "\n",
      "DataFrame sorted by 'Age' in descending order:\n",
      "     Name  Age  Gender  Grade\n",
      "1     Bob   30    Male     92\n",
      "4    Emma   28  Female     95\n",
      "2  Claire   27  Female     78\n",
      "0   Alice   25  Female     85\n",
      "3   David   22    Male     88\n",
      "\n",
      "DataFrame after dropping 'Gender' column:\n",
      "     Name  Age  Grade\n",
      "0   Alice   25     85\n",
      "1     Bob   30     92\n",
      "2  Claire   27     78\n",
      "3   David   22     88\n",
      "4    Emma   28     95\n",
      "\n",
      "Square of each element in the 'Age' column:\n",
      "0    625\n",
      "1    900\n",
      "2    729\n",
      "3    484\n",
      "4    784\n",
      "Name: Age, dtype: int64\n"
     ]
    }
   ],
   "source": [
    "import pandas as pd\n",
    "\n",
    "# Sample DataFrame\n",
    "data = {\n",
    "    'Name': ['Alice', 'Bob', 'Claire', 'David', 'Emma'],\n",
    "    'Age': [25, 30, 27, 22, 28],\n",
    "    'Gender': ['Female', 'Male', 'Female', 'Male', 'Female'],\n",
    "    'Grade': [85, 92, 78, 88, 95]\n",
    "}\n",
    "df = pd.DataFrame(data)\n",
    "\n",
    "# Display the DataFrame\n",
    "print(\"Original DataFrame:\")\n",
    "print(df)\n",
    "print()\n",
    "\n",
    "# 1. head() and tail()\n",
    "print(\"First 2 rows:\")\n",
    "print(df.head(2))\n",
    "print()\n",
    "\n",
    "# 2. describe()\n",
    "print(\"Summary statistics:\")\n",
    "print(df.describe())\n",
    "print()\n",
    "\n",
    "# 3. info()\n",
    "print(\"DataFrame information:\")\n",
    "print(df.info())\n",
    "print()\n",
    "\n",
    "# 4. loc[] and iloc[]\n",
    "print(\"Subset based on label and integer location:\")\n",
    "print(df.loc[1:3, ['Name', 'Age']])\n",
    "print()\n",
    "\n",
    "# 5. set_index()\n",
    "df.set_index('Name', inplace=True)\n",
    "print(\"DataFrame after setting 'Name' as index:\")\n",
    "print(df)\n",
    "print()\n",
    "\n",
    "# 6. reset_index()\n",
    "df.reset_index(inplace=True)\n",
    "print(\"DataFrame after resetting index:\")\n",
    "print(df)\n",
    "print()\n",
    "\n",
    "# 7. groupby()\n",
    "print(\"Mean age by gender:\")\n",
    "print(df.groupby('Gender')['Age'].mean())\n",
    "print()\n",
    "\n",
    "# 8. sort_values()\n",
    "print(\"DataFrame sorted by 'Age' in descending order:\")\n",
    "print(df.sort_values(by='Age', ascending=False))\n",
    "print()\n",
    "\n",
    "# 9. drop()\n",
    "df.drop('Gender', axis=1, inplace=True)\n",
    "print(\"DataFrame after dropping 'Gender' column:\")\n",
    "print(df)\n",
    "print()\n",
    "\n",
    "# 10. apply()\n",
    "print(\"Square of each element in the 'Age' column:\")\n",
    "print(df['Age'].apply(lambda x: x**2))\n"
   ]
  },
  {
   "cell_type": "code",
   "execution_count": null,
   "id": "d1cf322f-c1ed-41ac-ae5e-2f61fcb7fb59",
   "metadata": {},
   "outputs": [],
   "source": []
  },
  {
   "cell_type": "markdown",
   "id": "b8398ed6-0add-4e45-9b6d-e3625ff4a430",
   "metadata": {},
   "source": [
    "ANSWER NO :- 06"
   ]
  },
  {
   "cell_type": "markdown",
   "id": "345d927f-68fd-482e-b096-3434f687df89",
   "metadata": {},
   "source": [
    "In Pandas:\n",
    "\n",
    "Series: A Pandas Series is mutable, meaning you can modify its elements. You can change values, add or remove elements, and perform other modifications.\n",
    "\n",
    "DataFrame: Similarly, a Pandas DataFrame is mutable. You can modify the contents of cells, add or remove rows and columns, and perform various operations to change the structure or values within the DataFrame.\n",
    "\n",
    "Panel: The Panel structure in Pandas has been deprecated since version 0.25.0, and it's recommended to use the MultiIndex DataFrame instead. However, if you are dealing with Panel-like operations, MultiIndex DataFrames can be used. MultiIndex DataFrames are mutable, like regular DataFrames.\n",
    "\n",
    "In summary, both Series and DataFrame are mutable in nature."
   ]
  },
  {
   "cell_type": "code",
   "execution_count": null,
   "id": "8637f7bb-c101-437d-93be-0383a62c1e8a",
   "metadata": {},
   "outputs": [],
   "source": []
  },
  {
   "cell_type": "markdown",
   "id": "f4fafa82-9804-40df-88ad-d2781c3f1e72",
   "metadata": {},
   "source": [
    "ANSWER NO :- 07"
   ]
  },
  {
   "cell_type": "code",
   "execution_count": 21,
   "id": "f719bfb5-c606-4d9e-b589-aedd88449ae9",
   "metadata": {},
   "outputs": [
    {
     "name": "stdout",
     "output_type": "stream",
     "text": [
      "     Name  Age  Gender\n",
      "0   Alice   25  Female\n",
      "1     Bob   30    Male\n",
      "2  Claire   27  Female\n"
     ]
    }
   ],
   "source": [
    "import pandas as pd\n",
    "\n",
    "# Creating multiple Series\n",
    "name_series = pd.Series(['Alice', 'Bob', 'Claire'])\n",
    "age_series = pd.Series([25, 30, 27])\n",
    "gender_series = pd.Series(['Female', 'Male', 'Female'])\n",
    "\n",
    "# Creating a DataFrame using the Series\n",
    "data = {\n",
    "    'Name': name_series,\n",
    "    'Age': age_series,\n",
    "    'Gender': gender_series\n",
    "}\n",
    "df = pd.DataFrame(data)\n",
    "\n",
    "# Display the DataFrame\n",
    "print(df)\n"
   ]
  },
  {
   "cell_type": "markdown",
   "id": "2446404b-0e51-4691-9220-5ed759252010",
   "metadata": {},
   "source": [
    "In this example, three Series (name_series, age_series, and gender_series) are created, each representing a column of the DataFrame. These Series are then combined into a dictionary (data), where the keys are the column names, and the values are the corresponding Series. Finally, the dictionary is used to create a Pandas DataFrame (df)."
   ]
  }
 ],
 "metadata": {
  "kernelspec": {
   "display_name": "Python 3 (ipykernel)",
   "language": "python",
   "name": "python3"
  },
  "language_info": {
   "codemirror_mode": {
    "name": "ipython",
    "version": 3
   },
   "file_extension": ".py",
   "mimetype": "text/x-python",
   "name": "python",
   "nbconvert_exporter": "python",
   "pygments_lexer": "ipython3",
   "version": "3.10.8"
  }
 },
 "nbformat": 4,
 "nbformat_minor": 5
}

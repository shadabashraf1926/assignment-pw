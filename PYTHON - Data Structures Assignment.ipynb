{
 "cells": [
  {
   "cell_type": "raw",
   "id": "93e25ac7-89dd-45d2-9c10-d28648b7cea2",
   "metadata": {},
   "source": [
    "     ANSWER N0 :- 1 "
   ]
  },
  {
   "cell_type": "markdown",
   "id": "75c86c65-d1be-4b7a-8dda-29e074bc6b5f",
   "metadata": {},
   "source": [
    "In Python, We can use the ## symbol to add comments to your code. Comments in Python are used to provide explanations or annotations for the code and are ignored by the Python interpreter. There are two main types of comments in Python:"
   ]
  },
  {
   "cell_type": "markdown",
   "id": "1c63d8bc-dfff-4ff7-b883-deea3d2bb929",
   "metadata": {},
   "source": [
    "Type - 1\n",
    "\n",
    "Single -Line comments:- It start with the # or ## symbol and continue until the end of the line. They are used for adding brief explanations or notes"
   ]
  },
  {
   "cell_type": "code",
   "execution_count": 1,
   "id": "7463a3d1-cdc5-433e-a5ef-0546fb164538",
   "metadata": {},
   "outputs": [],
   "source": [
    "a =10    # This is single line comment.."
   ]
  },
  {
   "cell_type": "markdown",
   "id": "67fda626-b170-4e5f-b257-8c9aa9b69dce",
   "metadata": {},
   "source": [
    "Type - 2\n",
    "\n",
    "Multi-line Comments (Docstrings):- It is often created using triple-quotes (''' or \"\"\"). While technically not comments, they are used as documentation strings or docstrings. Docstrings are commonly used to provide documentation for functions, modules, or classes."
   ]
  },
  {
   "cell_type": "code",
   "execution_count": 4,
   "id": "374ac6e9-6c62-476b-af5a-3c94f68fb82f",
   "metadata": {},
   "outputs": [],
   "source": [
    "\"\"\" This is multi - line comments ,\n",
    "It provides additional information about the code\"\"\"\n",
    "\n",
    "v = 12    "
   ]
  },
  {
   "cell_type": "code",
   "execution_count": null,
   "id": "87bd01f1-741a-4355-b4c1-1ad58a135367",
   "metadata": {},
   "outputs": [],
   "source": []
  },
  {
   "cell_type": "markdown",
   "id": "30c25e86-48ea-4869-8be8-a931c4c2dbe5",
   "metadata": {},
   "source": [
    "    ANSWER NO :- 2"
   ]
  },
  {
   "cell_type": "markdown",
   "id": "241f04bc-f8b5-4ebd-8940-974644ad01e4",
   "metadata": {},
   "source": [
    "In Python, a variable is a symbolic name or identifier that represents a value stored in the computer's memory. Variables are used to store and manipulate data in a program. In Python, you don't need to explicitly declare the data type of a variable. The data type is dynamically inferred based on the value assigned to it."
   ]
  },
  {
   "cell_type": "code",
   "execution_count": 7,
   "id": "b4227a3e-71e3-4952-bb44-7b3909aefb73",
   "metadata": {},
   "outputs": [],
   "source": [
    "# Declaration and assignment of a variable\n",
    "\n",
    "# Example:\n",
    "age = 25\n",
    "name = \"John\"\n",
    "salary = 50000.50\n",
    "is_student = True\n"
   ]
  },
  {
   "cell_type": "markdown",
   "id": "71adc1b5-593f-4ae3-a49d-e032d5a71c45",
   "metadata": {},
   "source": [
    "Age is assigned the value 25 which is INTEGER.\n",
    "Name is assigned the STRING value \"John\".\n",
    "Salary is assigned the FLOATING-POINT value 50000.50.\n",
    "Is_student is assigned the BOOLEAN value True"
   ]
  },
  {
   "cell_type": "code",
   "execution_count": null,
   "id": "2a3b0122-79ce-4c30-bf72-4c0177188ce0",
   "metadata": {},
   "outputs": [],
   "source": []
  },
  {
   "cell_type": "markdown",
   "id": "27a3fac9-2bb1-40d3-904a-cfb294daa853",
   "metadata": {},
   "source": [
    "    ANSWER NO :- 3"
   ]
  },
  {
   "cell_type": "markdown",
   "id": "f14e2d7a-a6fc-4614-9cc2-86ba1bb68287",
   "metadata": {},
   "source": [
    "In Python, We can convert one data type to another using type conversion functions or by using Implicit Type Conversion (Coercion) for certain data types."
   ]
  },
  {
   "cell_type": "code",
   "execution_count": 12,
   "id": "205a152e-1c02-4694-8991-c0e84249f520",
   "metadata": {},
   "outputs": [
    {
     "name": "stdout",
     "output_type": "stream",
     "text": [
      "234 34567 1\n"
     ]
    }
   ],
   "source": [
    "''' TYPE CONVERSION FUNCTION.\n",
    "WE CAN CONVERT ONE DATA TYPE TO ANOTHER'''\n",
    "\n",
    "float_no = 234.56\n",
    "int_no = int(float_no)\n",
    "\n",
    "string_no = \"34567\"\n",
    "int_from_string = int(string_no)\n",
    "                                     \n",
    "bool_value = True\n",
    "int_from_bool = int(bool_value)\n",
    "\n",
    "print(int_no, int_from_string, int_from_bool)\n"
   ]
  },
  {
   "cell_type": "code",
   "execution_count": 13,
   "id": "aeb05f1f-46fb-4506-8394-0359197c35bd",
   "metadata": {},
   "outputs": [
    {
     "name": "stdout",
     "output_type": "stream",
     "text": [
      "7.0\n"
     ]
    }
   ],
   "source": [
    "\"\"\" IMPLICIT TYPE CONVERSION.\n",
    "In some cases, Python will automatically perform type conversion for Us.\n",
    "For example, when performing operations between different data types,\n",
    "Python may implicitly convert one type to another.\"\"\"\n",
    "\n",
    "num1 = 5\n",
    "num2 = 2.0\n",
    "result = num1 + num2  # Here, num1 is implicitly converted to a float before the addition.\n",
    "print(result)"
   ]
  },
  {
   "cell_type": "code",
   "execution_count": null,
   "id": "c0eac06c-1e5c-4b32-a587-82f320792f33",
   "metadata": {},
   "outputs": [],
   "source": []
  },
  {
   "cell_type": "markdown",
   "id": "e2a44940-3d76-4802-b83f-5a42042033f9",
   "metadata": {},
   "source": [
    "   ANSWER NO :- 4"
   ]
  },
  {
   "cell_type": "markdown",
   "id": "01484bd5-9d5c-4f5c-800c-9518e8685c46",
   "metadata": {},
   "source": [
    "Writing a Python Script:\n",
    "\n",
    "1.Open a text editor (such as Notepad, VSCode, Sublime Text, etc.).\n",
    "\n",
    "2.Write your Python code in the text editor and save the file with a .py extension. For example, myscript.py"
   ]
  },
  {
   "cell_type": "code",
   "execution_count": 14,
   "id": "ba36a6f9-f1a9-4b2c-bfbd-48d1e27443ba",
   "metadata": {},
   "outputs": [
    {
     "name": "stdout",
     "output_type": "stream",
     "text": [
      "Hello, Python!\n"
     ]
    }
   ],
   "source": [
    "\"\"\" Exmple\"\"\"\n",
    "\n",
    "# myscript.py\n",
    "\n",
    "print(\"Hello, Python!\")\n"
   ]
  },
  {
   "cell_type": "markdown",
   "id": "5bd67392-a10d-44c1-868e-24fa634b896c",
   "metadata": {},
   "source": [
    "EXECUTING A PYTHON SCRIPT:-\n",
    "\n",
    "1.Open a command prompt or terminal on our computer.\n",
    "\n",
    "2.Navigate to the directory where your Python script is saved using the cd command (Change Directory).\n",
    "\n",
    "(cd path/to/your/script/directory)\n",
    "\n",
    "3.Run the Python script using the python command followed by the script's filename.\n",
    "\n",
    "(python myscript.py)\n",
    "\n",
    "4.If we are using Python 3, we might need to use python3 instead of python:\n",
    "\n",
    "(python3 myscript.py)\n"
   ]
  },
  {
   "cell_type": "code",
   "execution_count": null,
   "id": "4a1ec566-b1ec-4967-abc2-cf2f9496db21",
   "metadata": {},
   "outputs": [],
   "source": []
  },
  {
   "cell_type": "markdown",
   "id": "6215f0bd-5642-4c11-ad34-d8f429808932",
   "metadata": {},
   "source": [
    "    ANSWER NO :- 5"
   ]
  },
  {
   "cell_type": "code",
   "execution_count": 15,
   "id": "73463403-538c-4705-bd23-fb2a92f9c6ab",
   "metadata": {},
   "outputs": [
    {
     "name": "stdout",
     "output_type": "stream",
     "text": [
      "[2, 3]\n"
     ]
    }
   ],
   "source": [
    "my_list = [1,2,3,4,5]\n",
    "sub_list = my_list[1:3]\n",
    "print(sub_list)"
   ]
  },
  {
   "cell_type": "markdown",
   "id": "d43a33d1-af69-45b9-b95f-3414ade11809",
   "metadata": {},
   "source": [
    "Explanation:\n",
    "\n",
    "<> my_list[1:3] selects elements from index 1 up to, but not including, index 3.\n",
    "<> The result is a new list [2, 3] containing the elements at indices 1 and 2 from the original list"
   ]
  },
  {
   "cell_type": "code",
   "execution_count": null,
   "id": "18632361-437c-4799-8493-4d6a50b3fa01",
   "metadata": {},
   "outputs": [],
   "source": []
  },
  {
   "cell_type": "markdown",
   "id": "892dc349-1972-4302-8ca6-405cc2c34334",
   "metadata": {},
   "source": [
    "   ANSWER NO :- 6"
   ]
  },
  {
   "cell_type": "markdown",
   "id": "124c8157-72bf-4c01-a2ed-1d6e346ff08c",
   "metadata": {},
   "source": [
    "In mathematics, a complex number is a number of the form a+bi, where a and b are real numbers, and i is the imaginary unit, which is defined by i**2 = -1. The real part a is a regular real number, and the imaginary part b is a real number multiplied by the imaginary unit i.\n",
    "\n",
    "In Python, complex numbers are represented using the complex data type. The imaginary unit is denoted by 'j' in Python. The syntax for creating a complex number is:"
   ]
  },
  {
   "cell_type": "code",
   "execution_count": 16,
   "id": "b8dce7dd-71e0-4372-9355-953c4679fd21",
   "metadata": {},
   "outputs": [],
   "source": [
    "complex_number = 2 + 5j     "
   ]
  },
  {
   "cell_type": "code",
   "execution_count": null,
   "id": "cba7df72-4812-4df7-ac59-bde80abda7b5",
   "metadata": {},
   "outputs": [],
   "source": []
  },
  {
   "cell_type": "markdown",
   "id": "70d87ac3-27d8-41db-9802-d9bf83ff9f29",
   "metadata": {},
   "source": [
    "    ANSWER NO :- 7"
   ]
  },
  {
   "cell_type": "code",
   "execution_count": 17,
   "id": "c2079ea9-5f5f-4242-9f48-06fd9c100b76",
   "metadata": {},
   "outputs": [],
   "source": [
    "age = 25"
   ]
  },
  {
   "cell_type": "markdown",
   "id": "79195720-8238-47b6-8d36-8d47befe4adb",
   "metadata": {},
   "source": [
    "In this single line of code, the variable age is declared and assigned the value 25. Python is dynamically typed, so we don't need to explicitly specify the data type of the variable; it will be inferred based on the assigned value. In this case, age is inferred to be an integer."
   ]
  },
  {
   "cell_type": "code",
   "execution_count": null,
   "id": "9a1cca6a-8619-4976-9ec8-e33bf76f7718",
   "metadata": {},
   "outputs": [],
   "source": []
  },
  {
   "cell_type": "markdown",
   "id": "488f740e-7208-4170-bdaa-09575d9e5f0d",
   "metadata": {},
   "source": [
    "   ANSWER NO :- 8"
   ]
  },
  {
   "cell_type": "code",
   "execution_count": 18,
   "id": "8932a5bf-0642-4dd4-90ee-aadad2be88cd",
   "metadata": {},
   "outputs": [
    {
     "data": {
      "text/plain": [
       "float"
      ]
     },
     "execution_count": 18,
     "metadata": {},
     "output_type": "execute_result"
    }
   ],
   "source": [
    "price = 9.99\n",
    "type(price)"
   ]
  },
  {
   "cell_type": "markdown",
   "id": "07a44819-8bfe-4833-8b8f-7d06788408cc",
   "metadata": {},
   "source": [
    "This variable \"price\" belong to float data type"
   ]
  },
  {
   "cell_type": "code",
   "execution_count": null,
   "id": "61020a39-ea9a-4788-b04c-6109902763ae",
   "metadata": {},
   "outputs": [],
   "source": []
  },
  {
   "cell_type": "markdown",
   "id": "f74a5ab1-4826-4b9f-837a-75c81cffe155",
   "metadata": {},
   "source": [
    "  ANSWER NO :- 9"
   ]
  },
  {
   "cell_type": "code",
   "execution_count": 23,
   "id": "fcdf59ea-e241-4d6b-9c85-05e03620b041",
   "metadata": {},
   "outputs": [
    {
     "name": "stdout",
     "output_type": "stream",
     "text": [
      "My name is:  Shadab Ashraf \n"
     ]
    }
   ],
   "source": [
    "name = \" Shadab Ashraf \"\n",
    "\n",
    "## For printing the value of the string we are going to use the print function;;\n",
    "\n",
    "print(\"My name is:\",name)\n"
   ]
  },
  {
   "cell_type": "code",
   "execution_count": null,
   "id": "cba59107-c683-4dc9-8740-43b45d55b09d",
   "metadata": {},
   "outputs": [],
   "source": []
  },
  {
   "cell_type": "markdown",
   "id": "21d47811-a2aa-451a-8f3f-71889af8e3f3",
   "metadata": {},
   "source": [
    "   ANSWER N0 :- 10"
   ]
  },
  {
   "cell_type": "code",
   "execution_count": 25,
   "id": "45b086ac-beb0-4ceb-b554-108209d7e2c0",
   "metadata": {},
   "outputs": [
    {
     "name": "stdout",
     "output_type": "stream",
     "text": [
      "World\n"
     ]
    }
   ],
   "source": [
    "string = \"Hello, World\"\n",
    "sub_string = string[7:12]\n",
    "print(sub_string)"
   ]
  },
  {
   "cell_type": "code",
   "execution_count": null,
   "id": "80885615-4751-4afb-916a-2b7ab7b3cfbb",
   "metadata": {},
   "outputs": [],
   "source": []
  },
  {
   "cell_type": "markdown",
   "id": "8b08cb86-b3d6-4f37-b8df-106f84d57a81",
   "metadata": {},
   "source": [
    "   ANSWER NO :- 11"
   ]
  },
  {
   "cell_type": "code",
   "execution_count": 26,
   "id": "cb4e2ac9-7e19-4f39-b0ed-daf75702b944",
   "metadata": {},
   "outputs": [
    {
     "name": "stdout",
     "output_type": "stream",
     "text": [
      "Am I currently a student? True\n"
     ]
    }
   ],
   "source": [
    "is_student = True  # Change this to False if you are not currently a student\n",
    "\n",
    "# Print the value of the variable\n",
    "\n",
    "print(\"Am I currently a student?\", is_student)\n"
   ]
  },
  {
   "cell_type": "code",
   "execution_count": null,
   "id": "7f9b4e16-0d0e-4ed5-8938-af3fcaffd37d",
   "metadata": {},
   "outputs": [],
   "source": []
  }
 ],
 "metadata": {
  "kernelspec": {
   "display_name": "Python 3 (ipykernel)",
   "language": "python",
   "name": "python3"
  },
  "language_info": {
   "codemirror_mode": {
    "name": "ipython",
    "version": 3
   },
   "file_extension": ".py",
   "mimetype": "text/x-python",
   "name": "python",
   "nbconvert_exporter": "python",
   "pygments_lexer": "ipython3",
   "version": "3.10.8"
  }
 },
 "nbformat": 4,
 "nbformat_minor": 5
}

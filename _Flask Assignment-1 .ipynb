{
 "cells": [
  {
   "cell_type": "markdown",
   "id": "4cf4b281-1354-4d14-b86e-df135a4d33eb",
   "metadata": {},
   "source": [
    "ANSWER NO :- 01"
   ]
  },
  {
   "cell_type": "markdown",
   "id": "9eb8bb50-a4ef-4fba-933a-65005f483782",
   "metadata": {},
   "source": [
    "Flask Framework:\n",
    "\n",
    "Flask is a lightweight and extensible web framework for Python. It is designed to be simple and easy to use, providing the essentials for building web applications without imposing a rigid structure. Flask follows the WSGI (Web Server Gateway Interface) specification and is often referred to as a micro-framework because it focuses on keeping the core simple while allowing developers to add the components they need.\n",
    "\n",
    "Key Features of Flask:\n",
    "\n",
    "Lightweight:\n",
    "\n",
    "Flask is minimalist and lightweight, providing the essentials for web development without unnecessary components. This simplicity makes it easy for beginners to learn and use.\n",
    "\n",
    "Modularity:\n",
    "\n",
    "Flask is modular, allowing developers to choose the components they need. Extensions and third-party libraries can be added as needed for features such as authentication, database integration, and more.\n",
    "\n",
    "Flexibility:\n",
    "\n",
    "Flask is flexible and does not enforce a specific project structure. Developers have the freedom to structure their applications as they see fit, making it suitable for various types of projects.\n",
    "\n",
    "Jinja2 Templating:\n",
    "\n",
    "Flask uses the Jinja2 templating engine, which allows developers to embed dynamic content in HTML templates. It provides a clean and readable syntax for template creation.\n",
    "\n",
    "Built-in Development Server:\n",
    "\n",
    "Flask comes with a built-in development server, making it easy to start and test applications during development without the need for additional configurations.\n",
    "\n",
    "Werkzeug Integration:\n",
    "\n",
    "Flask is built on top of the Werkzeug WSGI library. Werkzeug provides a set of utilities for handling HTTP, routing, and more, enhancing Flask's capabilities.\n",
    "\n",
    "RESTful Support:\n",
    "\n",
    "While not strictly a REST framework, Flask provides features and extensions that make it easy to build RESTful APIs. This makes Flask suitable for both traditional web applications and API development.\n",
    "\n",
    "Active Community:\n",
    "\n",
    "Flask has a vibrant and active community. The availability of extensions, tutorials, and community support contributes to the framework's popularity.\n",
    "\n",
    "Advantages of Flask Framework:\n",
    "\n",
    "Simplicity:\n",
    "\n",
    "Flask is known for its simplicity. It provides the essentials for building web applications without imposing unnecessary complexity, making it easy for developers to get started.\n",
    "\n",
    "Flexibility:\n",
    "\n",
    "Flask is flexible and allows developers to choose the components they need. There is no strict project structure, enabling developers to structure their applications based on project requirements.\n",
    "\n",
    "Modularity:\n",
    "\n",
    "Flask supports modularity and extensibility. Developers can add extensions and third-party libraries as needed for specific features, such as database integration, authentication, and more.\n",
    "\n",
    "Jinja2 Templating:\n",
    "\n",
    "The use of Jinja2 templating simplifies the process of embedding dynamic content in HTML templates. It provides a clean and readable syntax for template creation.\n",
    "\n",
    "Built-in Development Server:\n",
    "\n",
    "Flask comes with a built-in development server, making it convenient for developers to test and run their applications during development without the need for additional setup.\n",
    "\n",
    "Werkzeug Integration:\n",
    "\n",
    "Flask is built on top of Werkzeug, which provides a set of utilities for handling HTTP, routing, and more. This integration enhances Flask's capabilities and performance.\n",
    "\n",
    "Active Community:\n",
    "\n",
    "Flask has a large and active community. The availability of resources, tutorials, and community support makes it easier for developers to find solutions to common issues.\n",
    "\n",
    "RESTful Support:\n",
    "\n",
    "While not strictly a REST framework, Flask provides features and extensions that make it easy to build RESTful APIs. This makes Flask suitable for both traditional web applications and API development.\n",
    "\n",
    "Scalability:\n",
    "\n",
    "Flask's simplicity and modularity contribute to its scalability. Developers can choose components and structures that suit the scale of their applications.\n",
    "\n",
    "Ease of Learning:\n",
    "\n",
    "Flask's simplicity and clear documentation make it an excellent choice for beginners. Developers can quickly learn and start building web applications with Flask.\n",
    "\n",
    "Flask's combination of simplicity, flexibility, and modularity makes it a popular choice for web development, ranging from small projects to larger applications."
   ]
  },
  {
   "cell_type": "code",
   "execution_count": null,
   "id": "8d455135-a5d5-4376-85d9-e691d810ae8d",
   "metadata": {},
   "outputs": [],
   "source": []
  },
  {
   "cell_type": "markdown",
   "id": "b93a4a9e-e3a0-48d2-88b6-fd8bb7852939",
   "metadata": {},
   "source": [
    "ANSWER NO :- 02"
   ]
  },
  {
   "cell_type": "code",
   "execution_count": 1,
   "id": "26fcc610-afa0-4a4c-b4be-9c0392729bb9",
   "metadata": {},
   "outputs": [
    {
     "name": "stdout",
     "output_type": "stream",
     "text": [
      "Collecting Flask\n",
      "  Downloading flask-3.0.0-py3-none-any.whl (99 kB)\n",
      "\u001b[2K     \u001b[90m━━━━━━━━━━━━━━━━━━━━━━━━━━━━━━━━━━━━━━━━\u001b[0m \u001b[32m99.7/99.7 kB\u001b[0m \u001b[31m3.8 MB/s\u001b[0m eta \u001b[36m0:00:00\u001b[0m\n",
      "\u001b[?25hCollecting Werkzeug>=3.0.0\n",
      "  Downloading werkzeug-3.0.1-py3-none-any.whl (226 kB)\n",
      "\u001b[2K     \u001b[90m━━━━━━━━━━━━━━━━━━━━━━━━━━━━━━━━━━━━━━\u001b[0m \u001b[32m226.7/226.7 kB\u001b[0m \u001b[31m22.3 MB/s\u001b[0m eta \u001b[36m0:00:00\u001b[0m\n",
      "\u001b[?25hRequirement already satisfied: click>=8.1.3 in /opt/conda/lib/python3.10/site-packages (from Flask) (8.1.3)\n",
      "Collecting blinker>=1.6.2\n",
      "  Downloading blinker-1.7.0-py3-none-any.whl (13 kB)\n",
      "Collecting itsdangerous>=2.1.2\n",
      "  Downloading itsdangerous-2.1.2-py3-none-any.whl (15 kB)\n",
      "Requirement already satisfied: Jinja2>=3.1.2 in /opt/conda/lib/python3.10/site-packages (from Flask) (3.1.2)\n",
      "Requirement already satisfied: MarkupSafe>=2.0 in /opt/conda/lib/python3.10/site-packages (from Jinja2>=3.1.2->Flask) (2.1.1)\n",
      "Installing collected packages: Werkzeug, itsdangerous, blinker, Flask\n",
      "  Attempting uninstall: blinker\n",
      "    Found existing installation: blinker 1.5\n",
      "    Uninstalling blinker-1.5:\n",
      "      Successfully uninstalled blinker-1.5\n",
      "Successfully installed Flask-3.0.0 Werkzeug-3.0.1 blinker-1.7.0 itsdangerous-2.1.2\n",
      "Note: you may need to restart the kernel to use updated packages.\n"
     ]
    }
   ],
   "source": [
    "pip install Flask"
   ]
  },
  {
   "cell_type": "code",
   "execution_count": 2,
   "id": "255c2f98-0721-4168-8ba3-8ed0d33e6a49",
   "metadata": {},
   "outputs": [],
   "source": [
    "from flask import Flask"
   ]
  },
  {
   "cell_type": "code",
   "execution_count": null,
   "id": "5a83d865-5b03-466b-849a-56d866097691",
   "metadata": {},
   "outputs": [
    {
     "name": "stdout",
     "output_type": "stream",
     "text": [
      " * Serving Flask app '__main__'\n",
      " * Debug mode: off\n"
     ]
    },
    {
     "name": "stderr",
     "output_type": "stream",
     "text": [
      "WARNING: This is a development server. Do not use it in a production deployment. Use a production WSGI server instead.\n",
      " * Running on all addresses (0.0.0.0)\n",
      " * Running on http://127.0.0.1:5000\n",
      " * Running on http://172.18.0.23:5000\n",
      "Press CTRL+C to quit\n",
      "172.18.0.45 - - [18/Jan/2024 11:16:38] \"GET / HTTP/1.1\" 200 -\n",
      "172.18.0.45 - - [18/Jan/2024 11:16:39] \"GET /favicon.ico HTTP/1.1\" 404 -\n"
     ]
    }
   ],
   "source": [
    "app = Flask(__name__)\n",
    "\n",
    "@app.route(\"/\")\n",
    "\n",
    "def Intro():\n",
    "    return \" HELLO WORLD! \"\n",
    "\n",
    "\n",
    "if __name__ == \"__main__\":\n",
    "    app.run(host = \"0.0.0.0\")"
   ]
  },
  {
   "cell_type": "markdown",
   "id": "14aae1b6-373e-4f64-acc8-3e57d2fbbc8b",
   "metadata": {},
   "source": [
    "<img src=\"Screenshot (15).png\"/>"
   ]
  },
  {
   "cell_type": "markdown",
   "id": "692382c8-4629-450f-a97e-8326a6039ffd",
   "metadata": {},
   "source": []
  },
  {
   "cell_type": "markdown",
   "id": "999bbe8f-03e2-4d35-a786-674df93d7831",
   "metadata": {},
   "source": [
    "ANSWER NO :- 03"
   ]
  },
  {
   "cell_type": "markdown",
   "id": "bb40b044-8bcc-4ec2-8d21-5fab2c9debe4",
   "metadata": {},
   "source": [
    "App Routing in Flask:\n",
    "\n",
    "In Flask, app routing refers to the process of defining URL patterns (routes) and associating them with specific functions or views in your web application. Each route corresponds to a unique URL, and when a user accesses that URL, Flask calls the associated function, rendering the appropriate response.\n",
    "\n",
    "Here's a simple example of app routing in Flask:"
   ]
  },
  {
   "cell_type": "code",
   "execution_count": null,
   "id": "8c34b806-7016-4c52-8149-899c9b4a4325",
   "metadata": {},
   "outputs": [
    {
     "name": "stdout",
     "output_type": "stream",
     "text": [
      " * Serving Flask app '__main__'\n",
      " * Debug mode: off\n"
     ]
    },
    {
     "name": "stderr",
     "output_type": "stream",
     "text": [
      "WARNING: This is a development server. Do not use it in a production deployment. Use a production WSGI server instead.\n",
      " * Running on all addresses (0.0.0.0)\n",
      " * Running on http://127.0.0.1:5000\n",
      " * Running on http://172.18.0.23:5000\n",
      "Press CTRL+C to quit\n",
      "172.18.0.45 - - [18/Jan/2024 12:06:15] \"GET / HTTP/1.1\" 200 -\n",
      "172.18.0.45 - - [18/Jan/2024 12:06:34] \"GET /about HTTP/1.1\" 200 -\n",
      "172.18.0.45 - - [18/Jan/2024 12:06:47] \"GET /about/contact HTTP/1.1\" 404 -\n",
      "172.18.0.45 - - [18/Jan/2024 12:07:02] \"GET /contact HTTP/1.1\" 200 -\n"
     ]
    }
   ],
   "source": [
    "from flask import Flask\n",
    "\n",
    "app = Flask(__name__)\n",
    "\n",
    "@app.route('/')\n",
    "def home():\n",
    "    return 'Welcome to the Home Page'\n",
    "\n",
    "@app.route('/about')\n",
    "def about():\n",
    "    return 'About Us'\n",
    "\n",
    "@app.route('/contact')\n",
    "def contact():\n",
    "    return 'Contact Us'\n",
    "\n",
    "if __name__ == \"__main__\":\n",
    "    app.run(host = \"0.0.0.0\")"
   ]
  },
  {
   "cell_type": "markdown",
   "id": "03c648a6-bca9-4bd5-89a4-2044f327f84f",
   "metadata": {},
   "source": [
    "In This example :-\n",
    "The / route is associated with the home function, which returns a welcome message.\n",
    "The /about route is associated with the about function, which returns an \"About Us\" message.\n",
    "The /contact route is associated with the contact function, which returns a \"Contact Us\" message.\n",
    "\n",
    "Why Use App Routes in Flask:\n",
    "\n",
    "URL Mapping:\n",
    "App routes provide a way to map specific URLs to corresponding functions or views in your Flask application. This enables you to organize and structure your web application.\n",
    "\n",
    "Modularization:\n",
    "App routes allow you to modularize your application. Different routes can be associated with different functions or views, making it easier to manage and maintain code.\n",
    "\n",
    "Separation of Concerns:\n",
    "Using app routes helps in achieving a separation of concerns. Each route's function is responsible for handling the logic related to that specific route, promoting a clean and organized code structure.\n",
    "\n",
    "Scalability:\n",
    "App routes make it easy to add new features or pages to your web application. You can simply define new routes and associate them with corresponding functions without affecting existing code.\n",
    "\n",
    "Readability and Maintainability:\n",
    "App routes enhance code readability. When you look at the code, it's clear which function corresponds to which URL, making it easier to understand and maintain.\n",
    "\n",
    "Dynamic Routing:\n",
    "Flask supports dynamic routing by allowing route parameters. This means you can define routes with placeholders that capture variable parts of the URL, making it flexible for handling different inputs."
   ]
  },
  {
   "cell_type": "code",
   "execution_count": null,
   "id": "c6ded259-f017-493d-89e6-2c7baae88191",
   "metadata": {},
   "outputs": [],
   "source": []
  },
  {
   "cell_type": "markdown",
   "id": "42ebc114-03bb-4148-bd3e-f1513c6ac0cc",
   "metadata": {},
   "source": [
    "ANSWER NO :- 04"
   ]
  },
  {
   "cell_type": "code",
   "execution_count": 2,
   "id": "3b25a0ac-6688-4bae-9f83-06173b7b8175",
   "metadata": {},
   "outputs": [
    {
     "name": "stdout",
     "output_type": "stream",
     "text": [
      "Requirement already satisfied: Flask in /opt/conda/lib/python3.10/site-packages (3.0.0)\n",
      "Requirement already satisfied: Jinja2>=3.1.2 in /opt/conda/lib/python3.10/site-packages (from Flask) (3.1.2)\n",
      "Requirement already satisfied: itsdangerous>=2.1.2 in /opt/conda/lib/python3.10/site-packages (from Flask) (2.1.2)\n",
      "Requirement already satisfied: Werkzeug>=3.0.0 in /opt/conda/lib/python3.10/site-packages (from Flask) (3.0.1)\n",
      "Requirement already satisfied: blinker>=1.6.2 in /opt/conda/lib/python3.10/site-packages (from Flask) (1.7.0)\n",
      "Requirement already satisfied: click>=8.1.3 in /opt/conda/lib/python3.10/site-packages (from Flask) (8.1.3)\n",
      "Requirement already satisfied: MarkupSafe>=2.0 in /opt/conda/lib/python3.10/site-packages (from Jinja2>=3.1.2->Flask) (2.1.1)\n",
      "Note: you may need to restart the kernel to use updated packages.\n"
     ]
    }
   ],
   "source": [
    "pip install Flask"
   ]
  },
  {
   "cell_type": "code",
   "execution_count": null,
   "id": "04dfa8e0-f74e-4a55-ba12-441e85305c12",
   "metadata": {},
   "outputs": [
    {
     "name": "stdout",
     "output_type": "stream",
     "text": [
      " * Serving Flask app '__main__'\n",
      " * Debug mode: off\n"
     ]
    },
    {
     "name": "stderr",
     "output_type": "stream",
     "text": [
      "WARNING: This is a development server. Do not use it in a production deployment. Use a production WSGI server instead.\n",
      " * Running on all addresses (0.0.0.0)\n",
      " * Running on http://127.0.0.1:5000\n",
      " * Running on http://172.18.0.23:5000\n",
      "Press CTRL+C to quit\n",
      "172.18.0.45 - - [18/Jan/2024 12:43:21] \"GET / HTTP/1.1\" 200 -\n"
     ]
    }
   ],
   "source": [
    "from flask import Flask\n",
    "\n",
    "app = Flask(__name__)\n",
    "\n",
    "@app.route(\"/welcome\")\n",
    "def welcome():\n",
    "    return \" Welcome to ABC Corporation \"\n",
    "\n",
    "@app.route(\"/\")\n",
    "def Company_details():\n",
    "    company_name = 'ABC Corporation'\n",
    "    location = 'India'\n",
    "    contact_detail = '999-999-9999'\n",
    "\n",
    "    details = f\"Company Name: {company_name} \\n Location: {location} \\n Contact Detail: {contact_detail}\"\n",
    "    \n",
    "    return details\n",
    "\n",
    "if __name__ == \"__main__\":\n",
    "    app.run(host=\"0.0.0.0\")"
   ]
  },
  {
   "cell_type": "markdown",
   "id": "740fc53f-9979-46c9-b203-442affa4e98c",
   "metadata": {
    "tags": []
   },
   "source": [
    "<img src=\"Screenshot (17).png\"/>"
   ]
  },
  {
   "cell_type": "markdown",
   "id": "92c5bcbb-65b7-4c09-a988-858d14fb6dd7",
   "metadata": {
    "tags": []
   },
   "source": [
    "<img src=\"Screenshot (18).png\"/>"
   ]
  },
  {
   "cell_type": "code",
   "execution_count": null,
   "id": "af40a2a9-5dc8-4e5d-9ebe-a622ef63c365",
   "metadata": {},
   "outputs": [],
   "source": []
  },
  {
   "cell_type": "markdown",
   "id": "21c1bc56-780f-4697-92bc-bee7116b70c3",
   "metadata": {},
   "source": [
    "ANSWER NO :- 05"
   ]
  },
  {
   "cell_type": "markdown",
   "id": "865dd647-1069-4668-bc71-3b1cd3140b32",
   "metadata": {},
   "source": [
    "In Flask, the url_for() function is used for URL building. It generates a URL for the specified endpoint (function or route) by taking into account the URL routing rules defined in your application. This function makes it easier to create URLs dynamically without hardcoding them, enhancing the maintainability of your code.\n",
    "\n",
    "Here's a simple example to demonstrate the working of the url_for() function:"
   ]
  },
  {
   "cell_type": "code",
   "execution_count": 1,
   "id": "3a0e2c61-b4b9-4e99-bdb4-7ff47658e345",
   "metadata": {},
   "outputs": [
    {
     "name": "stdout",
     "output_type": "stream",
     "text": [
      "URL for /welcome: /welcome\n",
      "URL for /company_details: /company_details\n"
     ]
    }
   ],
   "source": [
    "from flask import Flask, url_for\n",
    "\n",
    "app = Flask(__name__)\n",
    "\n",
    "# Define two routes with associated functions\n",
    "@app.route('/welcome')\n",
    "def welcome():\n",
    "    return 'Welcome to ABC Corporation'\n",
    "\n",
    "@app.route('/company_details')\n",
    "def company_details():\n",
    "    return 'Company Details: ABC Corporation'\n",
    "\n",
    "if __name__ == '__main__':\n",
    "    with app.test_request_context():\n",
    "        # Use url_for() to build URLs for the specified endpoints\n",
    "        welcome_url = url_for('welcome')\n",
    "        company_details_url = url_for('company_details')\n",
    "\n",
    "        print(f'URL for /welcome: {welcome_url}')\n",
    "        print(f'URL for /company_details: {company_details_url}')\n"
   ]
  },
  {
   "cell_type": "markdown",
   "id": "d243e850-914f-470d-9af1-0ad71d321e28",
   "metadata": {},
   "source": [
    "in this example:\n",
    "\n",
    "Two routes (/welcome and /company_details) are defined with associated functions.\n",
    "The url_for() function is used to build URLs for the specified endpoints ('welcome' and 'company_details').\n",
    "The generated URLs are printed to the console.\n",
    "When you run this Flask application, you'll see output similar to:"
   ]
  }
 ],
 "metadata": {
  "kernelspec": {
   "display_name": "Python 3 (ipykernel)",
   "language": "python",
   "name": "python3"
  },
  "language_info": {
   "codemirror_mode": {
    "name": "ipython",
    "version": 3
   },
   "file_extension": ".py",
   "mimetype": "text/x-python",
   "name": "python",
   "nbconvert_exporter": "python",
   "pygments_lexer": "ipython3",
   "version": "3.10.8"
  }
 },
 "nbformat": 4,
 "nbformat_minor": 5
}

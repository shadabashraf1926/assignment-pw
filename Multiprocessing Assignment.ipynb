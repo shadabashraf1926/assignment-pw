{
 "cells": [
  {
   "cell_type": "markdown",
   "id": "568ab562-8e35-496f-86b7-32721eeb3830",
   "metadata": {},
   "source": [
    "ANSWER NO :- 01"
   ]
  },
  {
   "cell_type": "markdown",
   "id": "047abfe9-8f83-48e3-b82e-27483e48a71e",
   "metadata": {},
   "source": [
    "Multiprocessing in Python refers to the ability to create and execute multiple processes simultaneously, each with its own Python interpreter and memory space. Unlike multithreading, which involves multiple threads within the same process, multiprocessing enables true parallelism by allowing multiple processes to run independently, taking advantage of multiple CPU cores or CPUs.\n",
    "\n",
    "In Python, the multiprocessing module provides tools for creating and managing processes. It includes classes like Process, Pool, and synchronization primitives such as Lock and Queue.\n",
    "\n",
    "Usefulness of Multiprocessing:\n",
    "\n",
    "Parallelism in CPU-Bound Tasks: Multiprocessing is particularly beneficial for CPU-bound tasks, where computations are intensive and can be parallelized. Each process runs independently and can utilize a separate CPU core, leading to improved performance.\n",
    "\n",
    "Avoiding Global Interpreter Lock (GIL): In CPython, the default implementation of Python, the Global Interpreter Lock (GIL) limits the parallel execution of threads. Multiprocessing allows bypassing the GIL, enabling true parallelism and taking full advantage of multiple cores.\n",
    "\n",
    "Improved Performance: By distributing tasks among multiple processes, it is possible to achieve better overall performance compared to a single-threaded or single-process implementation.\n",
    "\n",
    "Isolation: Each process has its own memory space, reducing the risk of data corruption or unintended side effects caused by shared state in multithreading.\n",
    "\n",
    "Fault Tolerance: If one process crashes or encounters an error, it does not affect other processes. This provides a level of fault tolerance in distributed systems.\n",
    "\n",
    "EXAMPLE:-"
   ]
  },
  {
   "cell_type": "code",
   "execution_count": 1,
   "id": "ce78e56a-f68b-469c-bd4a-d59fd886d8e9",
   "metadata": {},
   "outputs": [
    {
     "name": "stdout",
     "output_type": "stream",
     "text": [
      "[1, 4, 9, 16, 25]\n"
     ]
    }
   ],
   "source": [
    "import multiprocessing\n",
    "\n",
    "def square(x):\n",
    "    return x * x\n",
    "\n",
    "if __name__ == \"__main__\":\n",
    "    with multiprocessing.Pool(processes=4) as pool:\n",
    "        result = pool.map(square, [1, 2, 3, 4, 5])\n",
    "        print(result)\n"
   ]
  },
  {
   "cell_type": "markdown",
   "id": "519d8ac1-650b-4c71-8ea6-785515677cb4",
   "metadata": {},
   "source": [
    "In this example, a process pool is created using Pool from the multiprocessing module. The map function is used to parallelize the execution of the square function on a list of input values. The processes in the pool work concurrently, and the result is a list of squared values computed in parallel.\n",
    "\n",
    "Multiprocessing is useful for a wide range of applications, including scientific computing, data processing, and other scenarios where parallel execution can significantly enhance performance."
   ]
  },
  {
   "cell_type": "code",
   "execution_count": null,
   "id": "3ec0ba52-eedb-45cd-93b2-e7bff0cf1ad3",
   "metadata": {},
   "outputs": [],
   "source": []
  },
  {
   "cell_type": "markdown",
   "id": "ce67fb15-e3c8-4762-840a-9ad8f73ef125",
   "metadata": {},
   "source": [
    "ANSWER NO :- 02"
   ]
  },
  {
   "cell_type": "markdown",
   "id": "d86f3ba9-3353-4905-a0f7-140cba7e70e5",
   "metadata": {},
   "source": [
    "\n",
    "1. Definition:\n",
    "\n",
    "Multithreading: Involves the concurrent execution of multiple threads within the same process, sharing the same resources, including memory space.\n",
    "\n",
    "Multiprocessing: Involves the concurrent execution of multiple processes, each with its own Python interpreter and memory space, running independently.\n",
    "\n",
    "2. Parallelism:\n",
    "\n",
    "Multithreading: Limited by the Global Interpreter Lock (GIL) in CPython, making it suitable for I/O-bound tasks but less effective for CPU-bound tasks that require true parallelism.\n",
    "\n",
    "Multiprocessing: Enables true parallelism as each process runs independently, making it suitable for CPU-bound tasks.\n",
    "\n",
    "3. Memory Sharing:\n",
    "\n",
    "Multithreading: Threads within the same process share the same memory space, making it easier to share data but requiring careful synchronization to avoid race conditions.\n",
    "\n",
    "Multiprocessing: Processes have their own memory space, reducing the need for explicit synchronization but requiring inter-process communication mechanisms for data sharing.\n",
    "\n",
    "4. Isolation:\n",
    "\n",
    "Multithreading: Threads share the same memory space, leading to the risk of data corruption and unintended side effects.\n",
    "\n",
    "Multiprocessing: Processes have separate memory spaces, providing isolation and reducing the risk of unintended interactions.\n",
    "\n",
    "5. Resource Overhead:\n",
    "\n",
    "Multithreading: Generally has lower resource overhead as threads within the same process share resources, leading to lower memory consumption.\n",
    "\n",
    "Multiprocessing: Involves higher resource overhead as each process has its own memory space and interpreter, leading to increased memory consumption.\n",
    "\n",
    "6. GIL Impact:\n",
    "\n",
    "Multithreading: The GIL limits the parallel execution of threads in CPython, making it less effective for CPU-bound tasks.\n",
    "\n",
    "Multiprocessing: Bypasses the GIL, allowing true parallelism and making it suitable for CPU-bound tasks.\n",
    "\n",
    "7. Debugging:\n",
    "\n",
    "Multithreading: Debugging can be challenging due to race conditions and shared state. Tools like locks are needed for proper synchronization.\n",
    "\n",
    "Multiprocessing: Debugging is generally easier as processes have separate memory spaces, reducing the risk of race conditions.\n",
    "\n",
    "8. Fault Tolerance:\n",
    "\n",
    "Multithreading: If one thread crashes, it can potentially affect the entire process.\n",
    "\n",
    "Multiprocessing: If one process crashes, it does not affect other processes, providing a level of fault tolerance.\n",
    "\n",
    "9. Use Cases:\n",
    "\n",
    "Multithreading: Suitable for I/O-bound tasks, where threads can perform non-blocking operations concurrently. Examples include web servers, GUI applications, and network servers.\n",
    "\n",
    "Multiprocessing: Suitable for CPU-bound tasks, where true parallelism is required. Examples include scientific computing, data processing, and parallelized algorithms"
   ]
  },
  {
   "cell_type": "code",
   "execution_count": null,
   "id": "b8e45e38-bade-4fda-992b-dd402a49dd08",
   "metadata": {},
   "outputs": [],
   "source": []
  },
  {
   "cell_type": "markdown",
   "id": "7956cb7a-320c-435e-852b-cf49ec0bb8b4",
   "metadata": {},
   "source": [
    "ANSWER NO :- 03"
   ]
  },
  {
   "cell_type": "code",
   "execution_count": 6,
   "id": "22012606-59e9-4e87-8df7-7529ace30182",
   "metadata": {},
   "outputs": [
    {
     "name": "stdout",
     "output_type": "stream",
     "text": [
      "Process 1 is running with PID 421\n",
      "Process 1 is exiting\n",
      "Main process is continuing...\n"
     ]
    }
   ],
   "source": [
    "import multiprocessing\n",
    "import os\n",
    "import time\n",
    "\n",
    "def process_function(name):\n",
    "    print(f\"Process {name} is running with PID {os.getpid()}\")\n",
    "    time.sleep(3)\n",
    "    print(f\"Process {name} is exiting\")\n",
    "\n",
    "if __name__ == \"__main__\":\n",
    "    # Create a process\n",
    "    process1 = multiprocessing.Process(target=process_function, args=(\"1\",))\n",
    "\n",
    "    # Start the process\n",
    "    process1.start()\n",
    "\n",
    "    # Wait for the process to complete (optional)\n",
    "    process1.join()\n",
    "\n",
    "    print(\"Main process is continuing...\")\n"
   ]
  },
  {
   "cell_type": "markdown",
   "id": "b7b53a23-566a-44c8-9d3c-8e193e551914",
   "metadata": {},
   "source": [
    "In this example:\n",
    "\n",
    "The process_function function is the target function that will be executed by the process.\n",
    "\n",
    "The multiprocessing.Process class is used to create a process, and the target argument is set to the function to be executed.\n",
    "\n",
    "The start() method is called to start the process.\n",
    "\n",
    "The join() method is used to wait for the process to complete (optional).\n",
    "\n",
    "Note: The if __name__ == \"__main__\": block is used to ensure that the code inside it is only executed when the script is run as the main module, which is important for creating processes on some operating systems.\n",
    "\n",
    "When We run this script, it will create a separate process that runs the process_function. The main process will continue its execution, and the child process will run concurrently. You may observe different process IDs (PIDs) for the main and child processes."
   ]
  },
  {
   "cell_type": "code",
   "execution_count": null,
   "id": "7d6493d2-b869-44e6-a259-9a72d54adb54",
   "metadata": {},
   "outputs": [],
   "source": []
  },
  {
   "cell_type": "markdown",
   "id": "4cf06189-250a-474f-89e7-0b2a9aa75e3a",
   "metadata": {},
   "source": [
    "ANSWER NO :- 04"
   ]
  },
  {
   "cell_type": "markdown",
   "id": "c797c29f-7af7-4ec1-aa4a-b7a38729f3e2",
   "metadata": {},
   "source": [
    "A multiprocessing pool in Python, specifically in the multiprocessing module, provides a convenient way to parallelize the execution of a function across multiple input values by distributing the tasks among multiple processes. The Pool class is part of the multiprocessing module and is used to create a pool of worker processes that can execute tasks concurrently.\n",
    "\n",
    "Key Features of Multiprocessing Pool:\n",
    "\n",
    "Parallel Execution: The Pool class allows you to parallelize the execution of a function by applying it to multiple input values concurrently. Each input value is processed in a separate process.\n",
    "\n",
    "Load Distribution: The Pool automatically distributes the tasks among the available worker processes, making it easy to take advantage of multiple CPU cores and achieve parallelism.\n",
    "\n",
    "Simplified API: The Pool provides a high-level and simplified API for parallelizing tasks, making it easier to use compared to manually managing individual processes."
   ]
  },
  {
   "cell_type": "code",
   "execution_count": 7,
   "id": "f4b19866-e640-40c6-89fa-55ea81cb4750",
   "metadata": {},
   "outputs": [
    {
     "name": "stdout",
     "output_type": "stream",
     "text": [
      "[1, 4, 9, 16, 25]\n"
     ]
    }
   ],
   "source": [
    "##Example: Using Pool to Square a List of Numbers:\n",
    "\n",
    "import multiprocessing\n",
    "\n",
    "def square(x):\n",
    "    return x * x\n",
    "\n",
    "if __name__ == \"__main__\":\n",
    "    # Create a Pool with 4 worker processes\n",
    "    with multiprocessing.Pool(processes=4) as pool:\n",
    "        # Apply the square function to a list of input values\n",
    "        result = pool.map(square, [1, 2, 3, 4, 5])\n",
    "\n",
    "        # Print the result\n",
    "        print(result)"
   ]
  },
  {
   "cell_type": "markdown",
   "id": "43ab9e39-7329-4475-8f7f-0de487c96a9d",
   "metadata": {},
   "source": [
    "Use Cases:\n",
    "\n",
    "Parallelized Computation: Use a multiprocessing pool when you have a computationally intensive function that can be applied to multiple input values independently.\n",
    "\n",
    "Data Processing: Apply the same processing function to multiple elements of a dataset concurrently for faster data processing.\n",
    "\n",
    "By using a multiprocessing pool, we can harness the power of parallel processing and achieve improved performance, especially in scenarios where tasks can be executed independently and concurrently."
   ]
  },
  {
   "cell_type": "code",
   "execution_count": null,
   "id": "2893ee60-85dc-40d4-b088-3b6d0c98e57e",
   "metadata": {},
   "outputs": [],
   "source": []
  },
  {
   "cell_type": "markdown",
   "id": "44f89c35-4208-477e-89a3-540a5c6b751e",
   "metadata": {},
   "source": [
    "ANSWER NO :- 05"
   ]
  },
  {
   "cell_type": "markdown",
   "id": "c5d3dd9e-d84d-4d5c-94b2-50075dfed04c",
   "metadata": {},
   "source": [
    "In Python, We can create a pool of worker processes using the Pool class from the multiprocessing module. Here's a basic example of how to create a pool and use it to parallelize the execution of a function:"
   ]
  },
  {
   "cell_type": "code",
   "execution_count": 8,
   "id": "dc6bca99-ed02-48fa-a2be-81371e2b8a9b",
   "metadata": {},
   "outputs": [
    {
     "name": "stdout",
     "output_type": "stream",
     "text": [
      "[1, 4, 9, 16, 25]\n"
     ]
    }
   ],
   "source": [
    "import multiprocessing\n",
    "\n",
    "def square(x):\n",
    "    return x * x\n",
    "\n",
    "if __name__ == \"__main__\":\n",
    "    # Create a Pool with 4 worker processes\n",
    "    with multiprocessing.Pool(processes=4) as pool:\n",
    "        # Apply the square function to a list of input values\n",
    "        result = pool.map(square, [1, 2, 3, 4, 5])\n",
    "\n",
    "        # Print the result\n",
    "        print(result)"
   ]
  },
  {
   "cell_type": "markdown",
   "id": "10019db2-cb5d-4e95-aa6a-9ec4494eff66",
   "metadata": {},
   "source": [
    "In this example:\n",
    "\n",
    "The square function is defined, representing a simple computation that squares a given input.\n",
    "\n",
    "The multiprocessing.Pool class is used to create a pool of worker processes. The processes argument specifies the number of worker processes in the pool.\n",
    "\n",
    "Inside the with block, the map method of the Pool is used. It takes a function (in this case, square) and an iterable (a list of input values). The map method distributes the elements of the iterable among the worker processes, applying the function in parallel.\n",
    "\n",
    "The result is a list of squared values computed concurrently by the worker processes.\n",
    "\n",
    "Note: The with statement is used to ensure that the pool resources are properly released after use.\n",
    "\n",
    "This is a basic example, and we can adapt it to our specific use case by replacing the square function and the list of input values with your own computation and data. The multiprocessing pool simplifies the parallelization of tasks by automatically managing the distribution of work among the specified number of processes."
   ]
  },
  {
   "cell_type": "code",
   "execution_count": null,
   "id": "8034c323-2e8a-4d59-b706-12fd250d47c1",
   "metadata": {},
   "outputs": [],
   "source": []
  },
  {
   "cell_type": "markdown",
   "id": "b4984e26-e4bf-41b3-9344-1c6822e5052d",
   "metadata": {},
   "source": [
    "ANSWER NO :- 06"
   ]
  },
  {
   "cell_type": "code",
   "execution_count": 9,
   "id": "c35d61d3-985a-4e70-bfa3-88e8ccaac932",
   "metadata": {},
   "outputs": [
    {
     "name": "stdout",
     "output_type": "stream",
     "text": [
      "Process 1: Printing number 1\n",
      "Process 2: Printing number 2\n",
      "Process 3: Printing number 3\n",
      "Process 4: Printing number 4\n",
      "All processes have completed.\n"
     ]
    }
   ],
   "source": [
    "import multiprocessing\n",
    "\n",
    "def print_number(number):\n",
    "    print(f\"Process {number}: Printing number {number}\")\n",
    "\n",
    "if __name__ == \"__main__\":\n",
    "    # Create 4 processes\n",
    "    processes = []\n",
    "\n",
    "    for i in range(1, 5):\n",
    "        process = multiprocessing.Process(target=print_number, args=(i,))\n",
    "        processes.append(process)\n",
    "        process.start()\n",
    "\n",
    "    # Wait for all processes to complete\n",
    "    for process in processes:\n",
    "        process.join()\n",
    "\n",
    "    print(\"All processes have completed.\")\n"
   ]
  },
  {
   "cell_type": "code",
   "execution_count": null,
   "id": "bf2541cc-483a-42cb-a2ed-72bd0c40292a",
   "metadata": {},
   "outputs": [],
   "source": []
  }
 ],
 "metadata": {
  "kernelspec": {
   "display_name": "Python 3 (ipykernel)",
   "language": "python",
   "name": "python3"
  },
  "language_info": {
   "codemirror_mode": {
    "name": "ipython",
    "version": 3
   },
   "file_extension": ".py",
   "mimetype": "text/x-python",
   "name": "python",
   "nbconvert_exporter": "python",
   "pygments_lexer": "ipython3",
   "version": "3.10.8"
  }
 },
 "nbformat": 4,
 "nbformat_minor": 5
}

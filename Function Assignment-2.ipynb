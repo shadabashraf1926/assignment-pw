{
 "cells": [
  {
   "cell_type": "markdown",
   "id": "4a0c3346-a3ad-4298-bf3e-de88471bacc7",
   "metadata": {},
   "source": [
    "ANSWER N0 - 1"
   ]
  },
  {
   "cell_type": "code",
   "execution_count": 4,
   "id": "d32e992b-21b3-4297-acce-c32a04f19521",
   "metadata": {},
   "outputs": [
    {
     "name": "stdout",
     "output_type": "stream",
     "text": [
      "[('Virat Kohli', 24936), ('Jack Kallis', 25534), ('Ricky Ponting', 27483), ('Sachin Tendulkar', 34357)]\n"
     ]
    }
   ],
   "source": [
    "''' We can eaisly creat a  python program to sort the given list of tuples based on integer value using a\n",
    "lambda function '''\n",
    "\n",
    "my_list = [('Sachin Tendulkar', 34357), ('Ricky Ponting', 27483), ('Jack Kallis', 25534), ('Virat Kohli', 24936)]\n",
    "\n",
    "''' For sorting a list we use sorted function ,\n",
    "And in sorted function we take iterable which is (my_list) and after that,\n",
    "we use lambda function as a key value'''\n",
    "\n",
    "# In Lambda fucton we use (X:X[1]), so basically it will  go for the Runs given in list and will print it in accending order which is what we want.\n",
    "\n",
    "a = sorted(my_list , key = lambda x:x[1])\n",
    "print(a)"
   ]
  },
  {
   "cell_type": "markdown",
   "id": "2170ec2c-b2db-48cc-9973-10e50a62762b",
   "metadata": {},
   "source": [
    "THERE IS ALSO A DIFFERNT METHOD TO OBTAIN THIS SAME RESULT , BY USING SORT FUNCTION,\n",
    "AS U CAN SEE BELOW..."
   ]
  },
  {
   "cell_type": "code",
   "execution_count": 2,
   "id": "90a25ad8-2260-4ec1-9445-059f13ea067a",
   "metadata": {},
   "outputs": [
    {
     "name": "stdout",
     "output_type": "stream",
     "text": [
      "[('Virat Kohli', 24936), ('Jack Kallis', 25534), ('Ricky Ponting', 27483), ('Sachin Tendulkar', 34357)]\n"
     ]
    }
   ],
   "source": [
    "\n",
    "\n",
    "my_list = [('Sachin Tendulkar', 34357), ('Ricky Ponting', 27483), ('Jack Kallis', 25534), ('Virat Kohli', 24936)]\n",
    "\n",
    "''' If we normally use the sort key word to sort the list ,we only sort the list on the data wise \n",
    "but we have to sort the list by keyword type,\n",
    "which means result will be in accending order '''\n",
    "\n",
    "# So,First we create a function with any parameter to anyone:\n",
    "\n",
    "def my_fun(items):\n",
    "    return items[1] \n",
    "\n",
    "#  Then we use the sort key.\n",
    "''' If a key function is given, apply it once to each list item and sort them, ascending or descending, \n",
    "according to their function values.\n",
    "\n",
    "The reverse flag can be set to sort in descending order. '''\n",
    "\n",
    "my_list.sort(key = my_fun)  \n",
    "\n",
    "print(my_list)"
   ]
  },
  {
   "cell_type": "code",
   "execution_count": null,
   "id": "e9ebbb21-c4c6-4eb2-8597-dd8383245ed7",
   "metadata": {},
   "outputs": [],
   "source": []
  },
  {
   "cell_type": "markdown",
   "id": "e5245523-559f-4dd8-8e94-ee0ae9eae959",
   "metadata": {},
   "source": [
    "ANSWER NO :- 02"
   ]
  },
  {
   "cell_type": "markdown",
   "id": "d0afd0c1-2ab1-411b-97df-160a5213bdad",
   "metadata": {},
   "source": [
    "Here is how we can create a Python Program to find the squares of all the numbers in the given list of integers using\n",
    "lambda and map functions."
   ]
  },
  {
   "cell_type": "code",
   "execution_count": 2,
   "id": "2b46db22-b248-412c-b68f-0a38217a7339",
   "metadata": {},
   "outputs": [
    {
     "name": "stdout",
     "output_type": "stream",
     "text": [
      "Original list:- [1, 2, 3, 4, 5, 6, 7, 8, 9, 10]\n",
      "Squares:- [1, 4, 9, 16, 25, 36, 49, 64, 81, 100]\n"
     ]
    }
   ],
   "source": [
    "# Given list of integers\n",
    "list_of_numbers = [1, 2, 3, 4, 5, 6, 7, 8, 9, 10]\n",
    "\n",
    "# By using lambda and map function we have to find the square of the no in the list:-\n",
    "\n",
    "squares = list(map(lambda x: x**2, list_of_numbers))\n",
    "\n",
    "# Now , Printing the list of squares:-\n",
    "\n",
    "print(\"Original list:-\" , list_of_numbers)\n",
    "print(\"Squares:-\", squares)"
   ]
  },
  {
   "cell_type": "code",
   "execution_count": null,
   "id": "0a1a2c00-e635-4329-acfb-5b060c64876c",
   "metadata": {},
   "outputs": [],
   "source": []
  },
  {
   "cell_type": "markdown",
   "id": "4a03c697-255a-4428-b5ea-3dca93c0676a",
   "metadata": {},
   "source": [
    "ANSWER N0 :- 03"
   ]
  },
  {
   "cell_type": "markdown",
   "id": "f47359b6-73af-40d0-a6c0-e4ce250b15c2",
   "metadata": {},
   "source": [
    "We Can easily convert a list of integer into a tuple og strings using a map and lambda function"
   ]
  },
  {
   "cell_type": "code",
   "execution_count": 6,
   "id": "c5e95604-6e89-424b-af74-5d3f5adb9be3",
   "metadata": {},
   "outputs": [
    {
     "name": "stdout",
     "output_type": "stream",
     "text": [
      "('1', '2', '3', '4', '5', '6', '7', '8', '9', '10')\n"
     ]
    }
   ],
   "source": [
    "given_list = [1, 2, 3, 4, 5, 6, 7, 8, 9, 10]\n",
    "\n",
    "# Now using map and lambda function \n",
    "\n",
    "a = tuple(map(lambda x:str(x) , given_list))\n",
    "\n",
    "# Now print a and it will guve the desirable result\n",
    "\n",
    "print(a)"
   ]
  },
  {
   "cell_type": "code",
   "execution_count": null,
   "id": "e7f5f3da-e124-404d-b1e5-eaddf4894111",
   "metadata": {},
   "outputs": [],
   "source": []
  },
  {
   "cell_type": "markdown",
   "id": "dd8d35cc-b585-42ee-b022-3489830e1eb3",
   "metadata": {},
   "source": [
    "ANSWER NO :- 04"
   ]
  },
  {
   "cell_type": "code",
   "execution_count": null,
   "id": "2855a8ee-82bb-4902-907f-b410b99ea0e8",
   "metadata": {},
   "outputs": [],
   "source": []
  },
  {
   "cell_type": "code",
   "execution_count": 7,
   "id": "26502d0c-e41c-49f5-a973-d54763633e7e",
   "metadata": {},
   "outputs": [
    {
     "name": "stdout",
     "output_type": "stream",
     "text": [
      "Product of numbers from 1 to 25: 15511210043330985984000000\n"
     ]
    }
   ],
   "source": [
    "# first we to import reduce form function tools\n",
    "\n",
    "from functools import reduce\n",
    "\n",
    "# Create a list of numbers from 1 to 25\n",
    "number_list = list(range(1, 26))\n",
    "\n",
    "# Define the lambda function for multiplication\n",
    "multiply = lambda x, y: x * y\n",
    "\n",
    "# Use reduce to compute the product of the list\n",
    "product = reduce(multiply, number_list)\n",
    "\n",
    "# Print the result\n",
    "print(\"Product of numbers from 1 to 25:\", product)\n"
   ]
  },
  {
   "cell_type": "code",
   "execution_count": null,
   "id": "2a30a0f2-97d1-4911-958a-ea7c6c040951",
   "metadata": {},
   "outputs": [],
   "source": []
  },
  {
   "cell_type": "markdown",
   "id": "1abc059f-900e-49c4-8197-3a4f376eb3ee",
   "metadata": {},
   "source": [
    "ANSWER NO :- 05"
   ]
  },
  {
   "cell_type": "markdown",
   "id": "84b70c49-505c-4014-98c5-9cd6adaa0c7f",
   "metadata": {},
   "source": []
  },
  {
   "cell_type": "code",
   "execution_count": 8,
   "id": "9f676990-2aa5-4ee2-85ee-ceb5ade928a9",
   "metadata": {},
   "outputs": [
    {
     "name": "stdout",
     "output_type": "stream",
     "text": [
      "Numbers divisible by 2 and 3: (6, 60, 90, 120)\n"
     ]
    }
   ],
   "source": [
    "# Given list of numbers\n",
    "number_list = [2, 3, 6, 9, 27, 60, 90, 120, 55, 46]\n",
    "\n",
    "# Use filter and lambda to get numbers divisible by 2 and 3\n",
    "filtered_numbers = tuple(filter(lambda x: x % 2 == 0 and x % 3 == 0, number_list))\n",
    "\n",
    "# Print the result\n",
    "print(\"Numbers divisible by 2 and 3:\", filtered_numbers)\n"
   ]
  },
  {
   "cell_type": "code",
   "execution_count": null,
   "id": "70cb25e8-1a49-447c-814e-e0b5659d4ea0",
   "metadata": {},
   "outputs": [],
   "source": []
  },
  {
   "cell_type": "markdown",
   "id": "6e9ed5e8-8d60-41bf-a35f-cb6a6b57683d",
   "metadata": {},
   "source": [
    "ANSWER NO :- "
   ]
  },
  {
   "cell_type": "code",
   "execution_count": null,
   "id": "8a494327-6dc9-4f07-a4de-28822395fceb",
   "metadata": {},
   "outputs": [],
   "source": []
  }
 ],
 "metadata": {
  "kernelspec": {
   "display_name": "Python 3 (ipykernel)",
   "language": "python",
   "name": "python3"
  },
  "language_info": {
   "codemirror_mode": {
    "name": "ipython",
    "version": 3
   },
   "file_extension": ".py",
   "mimetype": "text/x-python",
   "name": "python",
   "nbconvert_exporter": "python",
   "pygments_lexer": "ipython3",
   "version": "3.10.8"
  }
 },
 "nbformat": 4,
 "nbformat_minor": 5
}

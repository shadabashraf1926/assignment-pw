{
 "cells": [
  {
   "cell_type": "markdown",
   "id": "871e5a65-12f5-4100-bc1d-46b1c072953c",
   "metadata": {},
   "source": [
    "ANSWER NO :- 01"
   ]
  },
  {
   "cell_type": "markdown",
   "id": "581ff514-205a-464c-af07-a6d62a70467d",
   "metadata": {},
   "source": [
    "Abstraction is one of the four pillars of object-oriented programming (OOP), and it involves simplifying complex systems by modeling classes based on the essential properties and behaviors that an object should have. It allows us to focus on the relevant features of an object while hiding unnecessary details. Abstraction is achieved by defining a class with a set of methods that represent the essential behaviors, without exposing the internal implementation.\n",
    "\n",
    "Here's an example to illustrate abstraction:"
   ]
  },
  {
   "cell_type": "code",
   "execution_count": 5,
   "id": "59c658ca-af5c-4021-8ea3-4a5fa2aef3d7",
   "metadata": {},
   "outputs": [
    {
     "name": "stdout",
     "output_type": "stream",
     "text": [
      "Drawing a circle\n",
      "Drawing a square\n"
     ]
    }
   ],
   "source": [
    "from abc import ABC, abstractmethod\n",
    "\n",
    "# Abstract class representing a Shape\n",
    "class Shape(ABC):\n",
    "    @abstractmethod\n",
    "    def draw(self):\n",
    "        pass\n",
    "\n",
    "# Concrete class implementing the Shape abstraction\n",
    "class Circle(Shape):\n",
    "    def draw(self):\n",
    "        print(\"Drawing a circle\")\n",
    "\n",
    "# Concrete class implementing the Shape abstraction\n",
    "class Square(Shape):\n",
    "    def draw(self):\n",
    "        print(\"Drawing a square\")\n",
    "\n",
    "# Client code using the abstraction\n",
    "def draw_shape(shape):\n",
    "    shape.draw()\n",
    "\n",
    "# Creating instances of concrete classes\n",
    "circle = Circle()\n",
    "square = Square()\n",
    "\n",
    "# Using abstraction to draw shapes without knowing the internal details\n",
    "draw_shape(circle)  # Drawing a circle\n",
    "draw_shape(square)  # Drawing a square\n"
   ]
  },
  {
   "cell_type": "markdown",
   "id": "f54e5039-dda8-427c-b5d9-be6c0c4ba5a6",
   "metadata": {},
   "source": [
    "Abstract Class (Shape):- Shape is an abstract class that defines the abstraction of a shape using the draw method.\n",
    "The ABC (Abstract Base Class) module is used to declare the class as abstract.\n",
    "The @abstractmethod decorator marks the draw method as abstract, meaning it must be implemented by any concrete subclass.\n",
    "\n",
    "\n",
    "Concrete Classes (Circle and Square):- Circle and Square are concrete classes that inherit from the abstract class Shape.\n",
    "They provide specific implementations for the draw method.\n",
    "\n",
    "\n",
    "Client Code:- The draw_shape function takes an object of type Shape and calls its draw method without knowing the specific type of shape.\n",
    "This demonstrates abstraction, as the client code focuses on the essential behavior (drawing) without being concerned about the internal details of each shape"
   ]
  },
  {
   "cell_type": "code",
   "execution_count": null,
   "id": "bce00f3d-e91f-4dfc-9b6e-e96889fbf7ca",
   "metadata": {},
   "outputs": [],
   "source": []
  },
  {
   "cell_type": "markdown",
   "id": "60558272-32c7-4c84-af55-266edba184cb",
   "metadata": {},
   "source": [
    "ANSWER NO :- 02"
   ]
  },
  {
   "cell_type": "markdown",
   "id": "e91d0bab-aa80-487e-bc53-eff6cc242b88",
   "metadata": {},
   "source": [
    "Abstraction and Encapsulation are two important concepts in object-oriented programming (OOP), but they refer to different aspects of designing and organizing code.\n",
    "\n",
    "\n",
    "Abstraction :- Abstraction is the process of simplifying complex systems by modeling classes based on the essential properties and behaviors an object should have. It involves focusing on the necessary features while hiding unnecessary details.\n",
    "\n",
    "Purpose:- Abstraction allows you to create a high-level model of a system by defining abstract classes with abstract methods that capture essential characteristics.\n",
    "\n",
    "EXAMPLE"
   ]
  },
  {
   "cell_type": "code",
   "execution_count": 6,
   "id": "3fb3a8ff-5518-4db1-a736-96d2b5819066",
   "metadata": {},
   "outputs": [
    {
     "name": "stdout",
     "output_type": "stream",
     "text": [
      "Car engine started\n",
      "Motorcycle engine started\n"
     ]
    }
   ],
   "source": [
    "from abc import ABC, abstractmethod\n",
    "\n",
    "# Abstract class with an abstract method\n",
    "class Vehicle(ABC):\n",
    "    @abstractmethod\n",
    "    def start(self):\n",
    "        pass\n",
    "\n",
    "# Concrete class implementing the abstract method\n",
    "class Car(Vehicle):\n",
    "    def start(self):\n",
    "        print(\"Car engine started\")\n",
    "\n",
    "# Concrete class implementing the abstract method\n",
    "class Motorcycle(Vehicle):\n",
    "    def start(self):\n",
    "        print(\"Motorcycle engine started\")\n",
    "\n",
    "# Function using abstraction to start vehicles without knowing specific types\n",
    "def start_vehicle(vehicle):\n",
    "    vehicle.start()\n",
    "\n",
    "# Creating instances of concrete classes\n",
    "my_car = Car()\n",
    "my_motorcycle = Motorcycle()\n",
    "\n",
    "# Using abstraction to start vehicles without knowing the internal details\n",
    "start_vehicle(my_car)         # Car engine started\n",
    "start_vehicle(my_motorcycle)  # Motorcycle engine started\n"
   ]
  },
  {
   "cell_type": "markdown",
   "id": "32b378d4-4a5b-47d5-be12-a53d13e39932",
   "metadata": {},
   "source": [
    "Encapsulation :- Encapsulation is the bundling of data (attributes) and methods (functions) that operate on the data into a single unit called a class. It involves restricting access to some of an object's components and preventing the accidental modification of data.\n",
    "\n",
    "Purpose :- Encapsulation helps in organizing code by keeping related data and behavior together, and it provides control over access to the internal state of an object.\n",
    "\n",
    "EXAMPLE"
   ]
  },
  {
   "cell_type": "code",
   "execution_count": 7,
   "id": "1c5c7de2-405d-4198-91ba-a68075ea07d8",
   "metadata": {},
   "outputs": [
    {
     "name": "stdout",
     "output_type": "stream",
     "text": [
      "Account balance: 1300\n"
     ]
    }
   ],
   "source": [
    "class BankAccount:\n",
    "    def __init__(self, account_number, balance):\n",
    "        self._account_number = account_number  # Encapsulation (data hiding)\n",
    "        self._balance = balance\n",
    "\n",
    "    def deposit(self, amount):\n",
    "        self._balance += amount\n",
    "\n",
    "    def withdraw(self, amount):\n",
    "        if amount <= self._balance:\n",
    "            self._balance -= amount\n",
    "        else:\n",
    "            print(\"Insufficient funds\")\n",
    "\n",
    "    def get_balance(self):\n",
    "        return self._balance\n",
    "\n",
    "# Creating an instance of the BankAccount class\n",
    "my_account = BankAccount(account_number=123456, balance=1000)\n",
    "\n",
    "# Accessing data through encapsulated methods\n",
    "my_account.deposit(500)\n",
    "my_account.withdraw(200)\n",
    "print(\"Account balance:\", my_account.get_balance())\n"
   ]
  },
  {
   "cell_type": "markdown",
   "id": "8fd5bfab-11a3-461e-be6c-fa7d7f5fbd13",
   "metadata": {},
   "source": [
    "In this example, BankAccount encapsulates data (account number and balance) and behavior (deposit, withdraw, get_balance). The data is encapsulated by using underscores (_) to indicate that these attributes are intended to be private, and access is provided through methods."
   ]
  },
  {
   "cell_type": "code",
   "execution_count": null,
   "id": "aab750f8-c9c0-4952-b5e0-d58fa19d3590",
   "metadata": {},
   "outputs": [],
   "source": []
  },
  {
   "cell_type": "markdown",
   "id": "a0ccbc32-21d0-4811-96c6-f84ac5e94d02",
   "metadata": {},
   "source": [
    "ANSWER NO:- 03"
   ]
  },
  {
   "cell_type": "markdown",
   "id": "465b8e6c-367a-404e-91ab-39478e5db930",
   "metadata": {},
   "source": [
    "In Python, the abc module stands for \"Abstract Base Classes.\" The abc module provides the infrastructure for defining abstract base classes in Python. An abstract base class is a class that cannot be instantiated on its own and is meant to be subclassed by other classes. Abstract base classes often define a common interface or a set of methods that must be implemented by concrete subclasses.\n",
    "\n",
    "The main components of the abc module include the ABC class and the abstractmethod decorator.\n",
    "\n",
    "ABC (Abstract Base Class) class:\n",
    "\n",
    "The ABC class is a helper class in the abc module, and it is used as a base class for creating abstract base classes.\n",
    "It allows the use of the @abstractmethod decorator to define abstract methods within a class.\n",
    "abstractmethod decorator:\n",
    "\n",
    "The @abstractmethod decorator is used to declare abstract methods within an abstract base class. \n",
    "\n",
    "Abstract methods are methods that must be implemented by any concrete (non-abstract) subclass.\n",
    "\n",
    "Here's a simple example to illustrate the use of the abc module:"
   ]
  },
  {
   "cell_type": "code",
   "execution_count": 9,
   "id": "6a891a43-237d-470c-a7b8-00571e9f1973",
   "metadata": {},
   "outputs": [
    {
     "name": "stdout",
     "output_type": "stream",
     "text": [
      "Area of the circle: 78.5\n",
      "Area of the square: 16\n"
     ]
    }
   ],
   "source": [
    "from abc import ABC, abstractmethod\n",
    "\n",
    "# Abstract base class using ABC\n",
    "class Shape(ABC):\n",
    "    @abstractmethod\n",
    "    def area(self):\n",
    "        pass\n",
    "\n",
    "# Concrete subclass implementing the abstract method\n",
    "class Circle(Shape):\n",
    "    def __init__(self, radius):\n",
    "        self.radius = radius\n",
    "\n",
    "    def area(self):\n",
    "        return 3.14 * self.radius ** 2\n",
    "\n",
    "# Concrete subclass implementing the abstract method\n",
    "class Square(Shape):\n",
    "    def __init__(self, side_length):\n",
    "        self.side_length = side_length\n",
    "\n",
    "    def area(self):\n",
    "        return self.side_length ** 2\n",
    "\n",
    "# Creating instances of concrete subclasses\n",
    "circle = Circle(radius=5)\n",
    "square = Square(side_length=4)\n",
    "\n",
    "# Calling the abstract method on concrete objects\n",
    "print(\"Area of the circle:\", circle.area())\n",
    "print(\"Area of the square:\", square.area())\n"
   ]
  },
  {
   "cell_type": "markdown",
   "id": "911276c9-075b-41cb-a9d0-1ab7339110cf",
   "metadata": {},
   "source": [
    "In this example:\n",
    "\n",
    "Shape is an abstract base class that defines an abstract method area.\n",
    "\n",
    "Circle and Square are concrete subclasses of Shape that provide specific implementations for the area method.\n",
    "\n",
    "The @abstractmethod decorator ensures that any concrete subclass of Shape must implement the area method."
   ]
  },
  {
   "cell_type": "code",
   "execution_count": null,
   "id": "ab9394bc-9dc4-4993-b7b5-d70446f61c57",
   "metadata": {},
   "outputs": [],
   "source": []
  },
  {
   "cell_type": "markdown",
   "id": "61bffe99-e51a-409f-99c6-31bf68c71119",
   "metadata": {},
   "source": [
    "ANSWER NO :- 04"
   ]
  },
  {
   "cell_type": "markdown",
   "id": "bd4104a2-a96b-4155-b29f-be9d96f6ec14",
   "metadata": {},
   "source": [
    "Data abstraction in programming refers to the process of hiding the implementation details of data and exposing only the essential features. In object-oriented programming (OOP), data abstraction is often achieved through the use of abstract classes and interfaces, which define a common interface for a set of related classes without specifying their internal details.\n",
    "\n",
    "Here are the key techniques to achieve data abstraction:\n",
    "\n",
    "Abstract Classes:- Define an abstract class with abstract methods that declare the essential behaviors without providing the implementation.\n",
    "Concrete subclasses inherit from the abstract class and provide specific implementations for the abstract methods.\n"
   ]
  },
  {
   "cell_type": "code",
   "execution_count": 11,
   "id": "b0f2846e-53e1-4e8f-865f-e0458a635fdc",
   "metadata": {},
   "outputs": [],
   "source": [
    "from abc import ABC, abstractmethod\n",
    "\n",
    "class Shape(ABC):\n",
    "    @abstractmethod\n",
    "    def area(self):\n",
    "        pass\n",
    "\n",
    "class Circle(Shape):\n",
    "    def __init__(self, radius):\n",
    "        self.radius = radius\n",
    "\n",
    "    def area(self):\n",
    "        return 3.14 * self.radius ** 2\n",
    "\n",
    "class Square(Shape):\n",
    "    def __init__(self, side_length):\n",
    "        self.side_length = side_length\n",
    "\n",
    "    def area(self):\n",
    "        return self.side_length ** 2\n"
   ]
  },
  {
   "cell_type": "markdown",
   "id": "01fd7c00-a9f2-43ec-8c9b-e615f3abed36",
   "metadata": {},
   "source": [
    "Interfaces :- In Python, interfaces are often represented using abstract classes with all methods declared as abstract.\n",
    "Multiple classes can inherit from the same interface and provide their own implementations"
   ]
  },
  {
   "cell_type": "code",
   "execution_count": 12,
   "id": "87fdecc3-ca5b-4ec1-9d6b-01cbfd46b07a",
   "metadata": {},
   "outputs": [],
   "source": [
    "from abc import ABC, abstractmethod\n",
    "\n",
    "class Printable(ABC):\n",
    "    @abstractmethod\n",
    "    def print_data(self):\n",
    "        pass\n",
    "\n",
    "class Document(Printable):\n",
    "    def __init__(self, content):\n",
    "        self.content = content\n",
    "\n",
    "    def print_data(self):\n",
    "        print(self.content)\n"
   ]
  },
  {
   "cell_type": "markdown",
   "id": "476c7593-fc5e-425e-8676-cb93674d0919",
   "metadata": {},
   "source": [
    "Encapsulation :- Use encapsulation to hide the internal details of data by restricting direct access to attributes.\n",
    "Provide controlled access to data through methods (getters and setters)."
   ]
  },
  {
   "cell_type": "code",
   "execution_count": 13,
   "id": "2f5c0e90-927f-4420-ac55-5299d823208e",
   "metadata": {},
   "outputs": [],
   "source": [
    "class BankAccount:\n",
    "    def __init__(self, account_number, balance):\n",
    "        self._account_number = account_number\n",
    "        self._balance = balance\n",
    "\n",
    "    def get_balance(self):\n",
    "        return self._balance\n",
    "\n",
    "    def deposit(self, amount):\n",
    "        self._balance += amount\n",
    "\n",
    "    def withdraw(self, amount):\n",
    "        if amount <= self._balance:\n",
    "            self._balance -= amount\n",
    "        else:\n",
    "            print(\"Insufficient funds\")\n"
   ]
  },
  {
   "cell_type": "markdown",
   "id": "4758ee2e-9a50-41d3-b514-68af8e0dd6c0",
   "metadata": {},
   "source": [
    "Property Decorators :- Use property decorators to define getter and setter methods for attributes, providing controlled access to data."
   ]
  },
  {
   "cell_type": "code",
   "execution_count": 14,
   "id": "d44c4ebd-03f3-49a6-985f-6d4bbe6a71f9",
   "metadata": {},
   "outputs": [],
   "source": [
    "class Circle:\n",
    "    def __init__(self, radius):\n",
    "        self._radius = radius\n",
    "\n",
    "    @property\n",
    "    def radius(self):\n",
    "        return self._radius\n",
    "\n",
    "    @radius.setter\n",
    "    def radius(self, value):\n",
    "        if value > 0:\n",
    "            self._radius = value\n",
    "        else:\n",
    "            print(\"Radius must be greater than 0\")\n"
   ]
  },
  {
   "cell_type": "markdown",
   "id": "24393cf3-5e3b-4f74-902c-21d05ff221f4",
   "metadata": {},
   "source": [
    "By applying these techniques, we can achieve data abstraction in your programs, ensuring that the internal details of data are hidden and only the essential features are exposed. This promotes modularity, flexibility, and ease of maintenance in your code."
   ]
  },
  {
   "cell_type": "code",
   "execution_count": null,
   "id": "6a8017cd-adc2-4f4c-9f24-f299313cdea7",
   "metadata": {},
   "outputs": [],
   "source": []
  },
  {
   "cell_type": "markdown",
   "id": "5ff893a2-d0e7-4613-8340-77e22be49023",
   "metadata": {},
   "source": [
    "ANSWER NO :- 05"
   ]
  },
  {
   "cell_type": "markdown",
   "id": "cd7e2eb8-4c71-425d-a22f-d14343eb59ac",
   "metadata": {},
   "source": [
    "In Python, we cannot create an instance of an abstract class directly. Attempting to instantiate an abstract class will result in a TypeError. Abstract classes are meant to be subclassed, and they often include abstract methods that must be implemented by concrete subclasses.\n",
    "\n",
    "Here's an example to illustrate this:"
   ]
  },
  {
   "cell_type": "code",
   "execution_count": 17,
   "id": "6dfc8c05-1078-4f46-a932-e6e4f4824e87",
   "metadata": {},
   "outputs": [
    {
     "name": "stdout",
     "output_type": "stream",
     "text": [
      "TypeError: Can't instantiate abstract class MyAbstractClass with abstract method my_abstract_method\n"
     ]
    }
   ],
   "source": [
    "from abc import ABC, abstractmethod\n",
    "\n",
    "# Abstract class with an abstract method\n",
    "class MyAbstractClass(ABC):\n",
    "    @abstractmethod\n",
    "    def my_abstract_method(self):\n",
    "        pass\n",
    "\n",
    "# Attempting to create an instance of the abstract class\n",
    "try:\n",
    "    instance = MyAbstractClass()  # Raises TypeError\n",
    "except TypeError as e:\n",
    "    print(f\"TypeError: {e}\")\n"
   ]
  },
  {
   "cell_type": "markdown",
   "id": "a1f7d8d2-7f6c-4811-8bc5-98d68482decf",
   "metadata": {},
   "source": [
    "In this example, the MyAbstractClass is an abstract class with an abstract method my_abstract_method. When an attempt is made to create an instance of MyAbstractClass, a TypeError is raised, indicating that abstract classes cannot be instantiated.\n",
    "\n",
    "Abstract classes serve as blueprints or templates for other classes. Concrete subclasses must inherit from these abstract classes and provide implementations for the abstract methods. The abstract methods act as placeholders, ensuring that certain behaviors are defined in subclasses.\n",
    "\n",
    "To use an abstract class, we create instances of its concrete subclasses that provide the necessary implementations for the abstract methods. Here's an example"
   ]
  },
  {
   "cell_type": "code",
   "execution_count": 18,
   "id": "e5c4749c-4d9b-4a01-8fcb-fb0afa900650",
   "metadata": {},
   "outputs": [
    {
     "name": "stdout",
     "output_type": "stream",
     "text": [
      "Implementation of my_abstract_method\n"
     ]
    }
   ],
   "source": [
    "class MyConcreteClass(MyAbstractClass):\n",
    "    def my_abstract_method(self):\n",
    "        print(\"Implementation of my_abstract_method\")\n",
    "\n",
    "# Creating an instance of the concrete subclass\n",
    "instance = MyConcreteClass()\n",
    "instance.my_abstract_method()  # Outputs: Implementation of my_abstract_method\n"
   ]
  },
  {
   "cell_type": "markdown",
   "id": "544da22c-0bfd-4f04-a8b2-ad618aad5c9e",
   "metadata": {},
   "source": [
    "In this case, MyConcreteClass inherits from MyAbstractClass and provides an implementation for the abstract method my_abstract_method. Instances of MyConcreteClass can be created and used without any issues."
   ]
  },
  {
   "cell_type": "code",
   "execution_count": null,
   "id": "7ff360c9-6e28-4c94-a202-ffd308905a48",
   "metadata": {},
   "outputs": [],
   "source": []
  }
 ],
 "metadata": {
  "kernelspec": {
   "display_name": "Python 3 (ipykernel)",
   "language": "python",
   "name": "python3"
  },
  "language_info": {
   "codemirror_mode": {
    "name": "ipython",
    "version": 3
   },
   "file_extension": ".py",
   "mimetype": "text/x-python",
   "name": "python",
   "nbconvert_exporter": "python",
   "pygments_lexer": "ipython3",
   "version": "3.10.8"
  }
 },
 "nbformat": 4,
 "nbformat_minor": 5
}

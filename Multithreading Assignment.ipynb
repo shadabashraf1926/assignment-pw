{
 "cells": [
  {
   "cell_type": "markdown",
   "id": "73c9af9a-861d-4ab5-8c95-d2750ae9a8be",
   "metadata": {},
   "source": [
    "ANSWER NO :- 01"
   ]
  },
  {
   "cell_type": "markdown",
   "id": "d2c7a657-11d8-4ef6-93ca-5c2c603661a7",
   "metadata": {},
   "source": [
    "Multithreading :- Multihreading in python is basically concurrent execution of multiple threads within the same process.\n",
    "A thread is a smallest unit of execution of process and multithreading allows us to run multiple thraed in same process\n",
    "It improves the performance of our programm by taking advantages of multiple CPU cores. \n",
    "Each thread performs a specific task, and multithreading is used to achieve parallelism in program execution."
   ]
  },
  {
   "cell_type": "markdown",
   "id": "0f8f5d68-dbb2-42b3-8d64-aa1153c499b3",
   "metadata": {},
   "source": [
    "Multithreading is used for various purposes, including:-\n",
    "\n",
    "Improved Responsiveness: Multithreading can be used to keep certain parts of a program responsive, allowing user interfaces to remain active while other tasks are performed in the background.\n",
    "\n",
    "Parallelism: It enables the concurrent execution of tasks, making it useful for both I/O-bound and asynchronous tasks, where waiting for external resources (e.g., file I/O, network requests) can be performed concurrently.\n",
    "\n",
    "Resource Sharing: Threads share the same memory space, which can be advantageous for efficient communication and data sharing between threads.\n",
    "\n",
    "Efficiency: In some cases, multithreading can lead to more efficient resource utilization, especially in scenarios where multiple tasks can be performed simultaneously.\n",
    "\n",
    "Module for Handling Threads in Python:\n",
    "The threading module is used for handling threads in Python. It provides a high-level interface for creating and managing threads. Key classes and functions in the threading module include:\n",
    "\n",
    "Thread: The main class used to create and manage threads.\n",
    "Lock: A synchronization primitive (mutex) used for thread synchronization.\n",
    "Event: A synchronization primitive that allows one thread to signal an event, and other threads to wait for that event.\n",
    "Semaphore: A synchronization primitive used to control access to a shared resource by limiting the number of threads that can access it concurrently.\n",
    "\n",
    "Example of using threading:"
   ]
  },
  {
   "cell_type": "code",
   "execution_count": 1,
   "id": "7b4f5c01-39fb-4f9c-95ce-e7cc9460c67a",
   "metadata": {},
   "outputs": [
    {
     "name": "stdout",
     "output_type": "stream",
     "text": [
      "Thread is running!\n"
     ]
    }
   ],
   "source": [
    "import threading\n",
    "\n",
    "def my_function():\n",
    "    print(\"Thread is running!\")\n",
    "\n",
    "# Create a thread and start it\n",
    "my_thread = threading.Thread(target=my_function)\n",
    "my_thread.start()\n"
   ]
  },
  {
   "cell_type": "code",
   "execution_count": null,
   "id": "3084aaa4-c916-4773-bd31-e4d3c51c4435",
   "metadata": {},
   "outputs": [],
   "source": []
  },
  {
   "cell_type": "markdown",
   "id": "0364b6da-bb89-48e5-95e4-88056b9da588",
   "metadata": {},
   "source": [
    "ANSWER NO :- 02"
   ]
  },
  {
   "cell_type": "markdown",
   "id": "eb506532-2924-4412-abc6-c50fc3e59969",
   "metadata": {},
   "source": [
    "The threading module in Python is used for creating and managing threads. It provides a high-level interface for working with threads, allowing concurrent execution of tasks. The module includes various functions and classes for thread creation, synchronization, and communication.\n",
    "\n",
    "Here are the uses of the mentioned functions in the threading module:\n",
    "\n",
    "1.ActiveCount() function:\n",
    "\n",
    "Use: Returns the number of Thread objects currently alive.\n",
    "\n",
    "Example:"
   ]
  },
  {
   "cell_type": "code",
   "execution_count": 7,
   "id": "128979f1-69c7-4610-ba3f-4354984d86dc",
   "metadata": {},
   "outputs": [
    {
     "name": "stdout",
     "output_type": "stream",
     "text": [
      "Thread is running!\n",
      "Thread is running!\n",
      "Number of active threads: 8\n"
     ]
    },
    {
     "name": "stderr",
     "output_type": "stream",
     "text": [
      "/tmp/ipykernel_95/847376654.py:15: DeprecationWarning: activeCount() is deprecated, use active_count() instead\n",
      "  num_active_threads = threading.activeCount()\n"
     ]
    }
   ],
   "source": [
    "import threading\n",
    "\n",
    "def my_function():\n",
    "    print(\"Thread is running!\")\n",
    "\n",
    "# Create threads\n",
    "thread1 = threading.Thread(target=my_function)\n",
    "thread2 = threading.Thread(target=my_function)\n",
    "\n",
    "# Start threads\n",
    "thread1.start()\n",
    "thread2.start()\n",
    "\n",
    "# Get the number of active threads\n",
    "num_active_threads = threading.activeCount()\n",
    "print(f\"Number of active threads: {num_active_threads}\")\n"
   ]
  },
  {
   "cell_type": "markdown",
   "id": "31a45de2-216a-4c88-bca6-cc50512940f7",
   "metadata": {},
   "source": [
    "2.CurrentThread() function:\n",
    "\n",
    "Use: Returns the current Thread object, corresponding to the caller's thread of control.\n",
    "\n",
    "Example:"
   ]
  },
  {
   "cell_type": "code",
   "execution_count": 8,
   "id": "5cac533a-9e58-4bdf-817e-cfba3e71e202",
   "metadata": {},
   "outputs": [
    {
     "name": "stdout",
     "output_type": "stream",
     "text": [
      "Thread Thread-1 is running!\n",
      "Thread Thread-2 is running!\n"
     ]
    },
    {
     "name": "stderr",
     "output_type": "stream",
     "text": [
      "/tmp/ipykernel_95/2120518535.py:4: DeprecationWarning: currentThread() is deprecated, use current_thread() instead\n",
      "  current_thread = threading.currentThread()\n"
     ]
    }
   ],
   "source": [
    "import threading\n",
    "\n",
    "def my_function():\n",
    "    current_thread = threading.currentThread()\n",
    "    print(f\"Thread {current_thread.name} is running!\")\n",
    "\n",
    "# Create threads with names\n",
    "thread1 = threading.Thread(target=my_function, name=\"Thread-1\")\n",
    "thread2 = threading.Thread(target=my_function, name=\"Thread-2\")\n",
    "\n",
    "# Start threads\n",
    "thread1.start()\n",
    "thread2.start()\n"
   ]
  },
  {
   "cell_type": "markdown",
   "id": "9050043f-8196-4c38-8f30-113b90365039",
   "metadata": {},
   "source": [
    "3.Enumerate() function:\n",
    "\n",
    "Use: Returns a list of all Thread objects currently alive. This includes the main thread and daemon threads.\n",
    "\n",
    "Example"
   ]
  },
  {
   "cell_type": "code",
   "execution_count": 9,
   "id": "2ca6177b-d640-4d9c-a757-0ac2bed2908a",
   "metadata": {},
   "outputs": [
    {
     "name": "stdout",
     "output_type": "stream",
     "text": [
      "Thread is running!\n",
      "Thread is running!\n",
      "All alive threads:\n",
      "MainThread\n",
      "IOPub\n",
      "Heartbeat\n",
      "Thread-3 (_watch_pipe_fd)\n",
      "Thread-4 (_watch_pipe_fd)\n",
      "Control\n",
      "IPythonHistorySavingThread\n",
      "Thread-2\n"
     ]
    }
   ],
   "source": [
    "import threading\n",
    "\n",
    "def my_function():\n",
    "    print(\"Thread is running!\")\n",
    "\n",
    "# Create threads\n",
    "thread1 = threading.Thread(target=my_function)\n",
    "thread2 = threading.Thread(target=my_function)\n",
    "\n",
    "# Start threads\n",
    "thread1.start()\n",
    "thread2.start()\n",
    "\n",
    "# Get a list of all alive threads\n",
    "all_threads = threading.enumerate()\n",
    "print(\"All alive threads:\")\n",
    "for thread in all_threads:\n",
    "    print(thread.name)\n"
   ]
  },
  {
   "cell_type": "markdown",
   "id": "56ff6ed5-430f-4a07-9dfc-4418acd4877a",
   "metadata": {},
   "source": [
    "These functions are helpful for managing and inspecting the state of threads in a multithreaded program."
   ]
  },
  {
   "cell_type": "code",
   "execution_count": null,
   "id": "d7adf8b2-1ad3-4990-b213-63e9019dbffc",
   "metadata": {},
   "outputs": [],
   "source": []
  },
  {
   "cell_type": "markdown",
   "id": "5cc18e38-466f-4859-816a-740d1956b5a9",
   "metadata": {},
   "source": [
    "ANSWER NO :- 03"
   ]
  },
  {
   "cell_type": "code",
   "execution_count": null,
   "id": "1cfe2252-f43a-4629-83ff-cb5213688675",
   "metadata": {},
   "outputs": [],
   "source": []
  },
  {
   "cell_type": "markdown",
   "id": "1f136e71-5e5c-40f2-a353-0d3b10dd3acc",
   "metadata": {},
   "source": [
    "1.Run() method:\n",
    "\n",
    "Use: The run() method is the entry point for the thread's activity. It is called when the start() method is invoked on a Thread object.\n",
    "\n",
    "Example:"
   ]
  },
  {
   "cell_type": "code",
   "execution_count": 11,
   "id": "13e5c1b8-1db3-4fc9-8053-e80892a04f2c",
   "metadata": {},
   "outputs": [
    {
     "name": "stdout",
     "output_type": "stream",
     "text": [
      "Thread is running!\n"
     ]
    }
   ],
   "source": [
    "import threading\n",
    "\n",
    "class MyThread(threading.Thread):\n",
    "    def run(self):\n",
    "        print(\"Thread is running!\")\n",
    "\n",
    "# Create an instance of MyThread\n",
    "my_thread = MyThread()\n",
    "\n",
    "# Call the run() method directly\n",
    "my_thread.run()"
   ]
  },
  {
   "cell_type": "markdown",
   "id": "882573e3-babe-4359-a1bc-cef41a4336de",
   "metadata": {},
   "source": [
    "2.start() method:\n",
    "\n",
    "Use: The start() method starts the thread's activity by calling its run() method in a separate thread of control. It launches a new thread and invokes the run() method concurrently.\n",
    "\n",
    "Example:"
   ]
  },
  {
   "cell_type": "code",
   "execution_count": 12,
   "id": "3bbb180f-fdd0-4fef-a211-00eac142d4f4",
   "metadata": {},
   "outputs": [
    {
     "name": "stdout",
     "output_type": "stream",
     "text": [
      "Thread is running!\n"
     ]
    }
   ],
   "source": [
    "import threading\n",
    "\n",
    "class MyThread(threading.Thread):\n",
    "    def run(self):\n",
    "        print(\"Thread is running!\")\n",
    "\n",
    "# Create an instance of MyThread and start the thread\n",
    "my_thread = MyThread()\n",
    "my_thread.start()"
   ]
  },
  {
   "cell_type": "markdown",
   "id": "a9edce8c-7605-40b7-82f0-1905965258a1",
   "metadata": {},
   "source": [
    "3.join(timeout=None) method:\n",
    "\n",
    "Use: The join() method waits for the thread to complete its execution. It blocks the calling thread until the thread whose join() method is called is terminated or until the optional timeout parameter is reached. \n",
    "\n",
    "Example:"
   ]
  },
  {
   "cell_type": "code",
   "execution_count": 14,
   "id": "060776f1-c989-4011-ae4c-2d0132eeec55",
   "metadata": {},
   "outputs": [
    {
     "name": "stdout",
     "output_type": "stream",
     "text": [
      "Thread is running!\n"
     ]
    }
   ],
   "source": [
    "import threading\n",
    "import time\n",
    "\n",
    "def my_function():\n",
    "    time.sleep(2)\n",
    "    print(\"Thread is running!\")\n",
    "\n",
    "# Create a thread and start it\n",
    "my_thread = threading.Thread(target=my_function)\n",
    "my_thread.start()\n",
    "\n",
    "# Wait for the thread to complete (block for a maximum of 3 seconds)\n",
    "my_thread.join(timeout=3)\n"
   ]
  },
  {
   "cell_type": "markdown",
   "id": "181e964c-8412-4516-93cd-e798b206c9e8",
   "metadata": {},
   "source": [
    "4.isAlive() method:\n",
    "\n",
    "Use: The isAlive() method returns True if the thread is alive (i.e., it has been started and has not yet terminated) and False otherwise.\n",
    "\n",
    "Example:"
   ]
  },
  {
   "cell_type": "code",
   "execution_count": 16,
   "id": "59688215-868e-4f37-ba5b-ad1423db80e4",
   "metadata": {},
   "outputs": [
    {
     "name": "stdout",
     "output_type": "stream",
     "text": [
      "Thread is running!\n"
     ]
    },
    {
     "ename": "AttributeError",
     "evalue": "'Thread' object has no attribute 'isAlive'",
     "output_type": "error",
     "traceback": [
      "\u001b[0;31m---------------------------------------------------------------------------\u001b[0m",
      "\u001b[0;31mAttributeError\u001b[0m                            Traceback (most recent call last)",
      "Cell \u001b[0;32mIn[16], line 11\u001b[0m\n\u001b[1;32m      8\u001b[0m my_thread\u001b[38;5;241m.\u001b[39mstart()\n\u001b[1;32m     10\u001b[0m \u001b[38;5;66;03m# Check if the thread is alive\u001b[39;00m\n\u001b[0;32m---> 11\u001b[0m alive_status \u001b[38;5;241m=\u001b[39m \u001b[43mmy_thread\u001b[49m\u001b[38;5;241;43m.\u001b[39;49m\u001b[43misAlive\u001b[49m()\n\u001b[1;32m     12\u001b[0m \u001b[38;5;28mprint\u001b[39m(\u001b[38;5;124mf\u001b[39m\u001b[38;5;124m\"\u001b[39m\u001b[38;5;124mThread is alive: \u001b[39m\u001b[38;5;132;01m{\u001b[39;00malive_status\u001b[38;5;132;01m}\u001b[39;00m\u001b[38;5;124m\"\u001b[39m)\n",
      "\u001b[0;31mAttributeError\u001b[0m: 'Thread' object has no attribute 'isAlive'"
     ]
    }
   ],
   "source": [
    "import threading\n",
    "\n",
    "def my_function():\n",
    "    print(\"Thread is running!\")\n",
    "\n",
    "# Create a thread and start it\n",
    "my_thread = threading.Thread(target=my_function)\n",
    "my_thread.start()\n",
    "\n",
    "# Check if the thread is alive\n",
    "alive_status = my_thread.isAlive()\n",
    "print(f\"Thread is alive: {alive_status}\")"
   ]
  },
  {
   "cell_type": "code",
   "execution_count": null,
   "id": "6e360537-b3bb-4d11-bceb-43e7f82acebf",
   "metadata": {},
   "outputs": [],
   "source": []
  },
  {
   "cell_type": "markdown",
   "id": "9044b0f1-b8c6-4705-84c3-788263dff486",
   "metadata": {},
   "source": [
    "ANSWER NO :- 04"
   ]
  },
  {
   "cell_type": "code",
   "execution_count": 17,
   "id": "ed89a634-492c-4be4-8c65-a37c413d99a5",
   "metadata": {},
   "outputs": [
    {
     "name": "stdout",
     "output_type": "stream",
     "text": [
      "Square of 1: 1\n",
      "Square of 2: 4\n",
      "Square of 3: 9\n",
      "Square of 4: 16\n",
      "Square of 5: 25\n",
      "Cube of 1: 1\n",
      "Cube of 2: 8\n",
      "Cube of 3: 27\n",
      "Cube of 4: 64\n",
      "Cube of 5: 125\n",
      "Both threads have completed.\n"
     ]
    }
   ],
   "source": [
    "import threading\n",
    "\n",
    "def print_squares():\n",
    "    for i in range(1, 6):\n",
    "        print(f\"Square of {i}: {i * i}\")\n",
    "\n",
    "def print_cubes():\n",
    "    for i in range(1, 6):\n",
    "        print(f\"Cube of {i}: {i * i * i}\")\n",
    "\n",
    "# Create two threads\n",
    "thread_squares = threading.Thread(target=print_squares)\n",
    "thread_cubes = threading.Thread(target=print_cubes)\n",
    "\n",
    "# Start the threads\n",
    "thread_squares.start()\n",
    "thread_cubes.start()\n",
    "\n",
    "# Wait for both threads to complete\n",
    "thread_squares.join()\n",
    "thread_cubes.join()\n",
    "\n",
    "print(\"Both threads have completed.\")\n"
   ]
  },
  {
   "cell_type": "code",
   "execution_count": null,
   "id": "25672042-0532-4a04-b7b8-ceaf7862c3f5",
   "metadata": {},
   "outputs": [],
   "source": []
  },
  {
   "cell_type": "markdown",
   "id": "b4922c8f-bb03-4ed9-ac80-78749626481e",
   "metadata": {},
   "source": [
    "ANSWER NO :- 05"
   ]
  },
  {
   "cell_type": "markdown",
   "id": "38a21161-e0ac-4c8d-999a-e92062ddd14e",
   "metadata": {},
   "source": [
    "<> Advantages of Multithreading:\n",
    "\n",
    "Concurrency: Multithreading allows concurrent execution of tasks, enabling different parts of a program to run simultaneously. This can lead to better overall performance and responsiveness.\n",
    "\n",
    "Resource Sharing: Threads within the same process share the same memory space, allowing for efficient communication and data sharing. This can simplify the implementation of certain algorithms and improve resource utilization.\n",
    "\n",
    "Responsiveness: In applications with a graphical user interface (GUI), multithreading can help maintain responsiveness. For example, a user interface thread can remain active while background threads handle time-consuming tasks.\n",
    "\n",
    "Parallelism in I/O Operations: Multithreading is well-suited for I/O-bound tasks where threads can perform non-blocking I/O operations concurrently, enhancing overall system throughput.\n",
    "\n",
    "Modularity: Multithreading allows breaking down a complex program into smaller, manageable threads, each responsible for a specific task. This can improve code organization and maintenance.\n",
    "\n",
    "<> Disadvantages of Multithreading:\n",
    "\n",
    "Complexity: Multithreading introduces complexities related to synchronization, coordination, and potential race conditions. Ensuring proper synchronization is essential to avoid data corruption and race conditions.\n",
    "\n",
    "Difficulty in Debugging: Debugging multithreaded programs can be challenging due to potential concurrency issues. Race conditions, deadlocks, and thread interleavings can be difficult to reproduce and diagnose.\n",
    "\n",
    "Overhead: Creating and managing threads incurs overhead, including memory and CPU resources. For small-scale tasks or on single-core systems, the overhead of multithreading may outweigh the benefits.\n",
    "\n",
    "Global Interpreter Lock (GIL): In CPython (the default Python implementation), the Global Interpreter Lock (GIL) limits the parallel execution of threads, particularly in CPU-bound tasks. This can hinder the performance gains expected from multithreading in certain scenarios.\n",
    "\n",
    "Difficulty in Synchronization: Properly synchronizing access to shared resources is crucial to prevent data corruption. Incorrect synchronization can lead to race conditions, deadlocks, and other challenging-to-diagnose issues.\n",
    "\n",
    "When considering multithreading, it's essential to weigh the advantages against the potential complexities and challenges associated with concurrency. In some cases, alternative approaches such as multiprocessing or asynchronous programming may be more suitable depending on the nature of the tasks and the desired performance improvements."
   ]
  },
  {
   "cell_type": "code",
   "execution_count": null,
   "id": "a8726e9c-7058-48b0-a405-e2533ad5ae67",
   "metadata": {},
   "outputs": [],
   "source": []
  },
  {
   "cell_type": "markdown",
   "id": "435117fc-7988-4d4e-97a8-10ac823d8ef4",
   "metadata": {},
   "source": [
    "ANSWER NO :- 06"
   ]
  },
  {
   "cell_type": "markdown",
   "id": "7fce4027-fdc0-4d95-8c46-63b706f6618a",
   "metadata": {},
   "source": [
    "A deadlock is a situation in concurrent programming where two or more threads are unable to proceed because each is waiting for the other to release a resource, resulting in a circular waiting dependency. In simpler terms, it's a state where a set of processes cannot proceed because each is holding a resource and waiting for another resource acquired by some other process.\n",
    "\n",
    "Characteristics of Deadlocks:\n",
    "\n",
    "Mutual Exclusion: Processes hold exclusive control of the resources they acquire.\n",
    "\n",
    "Hold and Wait: Processes hold resources while waiting for additional resources.\n",
    "\n",
    "No Preemption: Resources cannot be forcibly taken away from a process.\n",
    "\n",
    "Circular Wait: A circular chain of processes exists, where each process holds a resource needed by the next process in the chain.\n",
    "\n",
    "Avoiding Deadlocks:\n",
    "\n",
    "Lock Ordering: Establish a global order for acquiring locks and ensure that all threads follow this order.\n",
    "\n",
    "Lock Timeout: Introduce a timeout for acquiring locks and release them if the timeout is exceeded.\n",
    "\n",
    "Resource Allocation Graph: Use a graph-based approach to detect and avoid circular wait situations.\n",
    "\n",
    "Race Conditions:\n",
    "\n",
    "A race condition occurs when the behavior of a program depends on the relative timing of events, such as the order in which threads are scheduled to run. It arises when two or more threads access shared data concurrently, and at least one of them modifies the data. The final outcome of the program becomes dependent on the timing of the thread executions, leading to unpredictable results.\n",
    "\n",
    "Common Causes of Race Conditions:\n",
    "\n",
    "Improper Synchronization: Lack of proper synchronization mechanisms, such as locks or semaphores, can lead to race conditions.\n",
    "\n",
    "Shared Mutable State: When multiple threads access and modify shared mutable data without proper synchronization, it can result in race conditions.\n",
    "\n",
    "Non-Atomic Operations: Operations that appear to be atomic in high-level languages may not be so in lower-level operations, leading to race conditions.\n",
    "\n",
    "Avoiding Race Conditions:\n",
    "\n",
    "Synchronization: Use synchronization mechanisms like locks or semaphores to ensure that only one thread can access shared data at a time.\n",
    "\n",
    "Immutable Data: Use immutable data structures to eliminate the need for synchronization.\n",
    "\n",
    "Atomic Operations: Employ atomic operations or transactions when updating shared data.\n",
    "\n",
    "Thread-Safe Libraries: Prefer using thread-safe libraries and components.\n",
    "\n",
    "Both deadlocks and race conditions are concurrency issues that can lead to unpredictable and undesirable behavior in a program. Careful design, proper synchronization, and adherence to best practices are essential to avoid these problems in concurrent programming."
   ]
  }
 ],
 "metadata": {
  "kernelspec": {
   "display_name": "Python 3 (ipykernel)",
   "language": "python",
   "name": "python3"
  },
  "language_info": {
   "codemirror_mode": {
    "name": "ipython",
    "version": 3
   },
   "file_extension": ".py",
   "mimetype": "text/x-python",
   "name": "python",
   "nbconvert_exporter": "python",
   "pygments_lexer": "ipython3",
   "version": "3.10.8"
  }
 },
 "nbformat": 4,
 "nbformat_minor": 5
}

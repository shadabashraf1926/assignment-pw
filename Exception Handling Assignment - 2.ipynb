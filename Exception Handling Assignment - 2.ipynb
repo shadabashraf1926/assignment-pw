{
 "cells": [
  {
   "cell_type": "markdown",
   "id": "facbbd5d-6c96-47a1-92e1-a1e70e1910eb",
   "metadata": {},
   "source": [
    "ANSWER NO :- 01"
   ]
  },
  {
   "cell_type": "markdown",
   "id": "b1243839-ac64-436b-b74b-220f153f7975",
   "metadata": {},
   "source": [
    "In Python, the Exception class serves as the base class for all built-in exceptions, and it's a common practice to inherit from it when creating custom exceptions. Here are the reasons why using the Exception class as the base class is recommended:\n",
    "\n",
    "1.Inheritance and Compatibility :-\n",
    "\n",
    "<>The Exception class is at the top of the exception hierarchy in Python.\n",
    "<>Inheriting from Exception ensures that your custom exception is compatible with the existing exception handling mechanisms, making it easy to integrate with try-except blocks.\n",
    "\n",
    "\n",
    "2.Consistency and Conventions:\n",
    "\n",
    "<>Following conventions in Python makes the code more readable and maintainable.\n",
    "<>By using Exception as the base class, you adhere to the standard practice in Python for creating custom exceptions.\n",
    "\n",
    "\n",
    "3.Catch-All Handling:\n",
    "\n",
    "<>Since Exception is the base class for all exceptions, catching Exception in an except block allows you to <>catch any exception, including your custom exception.\n",
    "<>This can be useful in scenarios where you want to handle multiple types of exceptions in a similar way.\n",
    "\n",
    "\n",
    "4.Compatibility with except Clauses:\n",
    "\n",
    "<>Many libraries and frameworks expect exception handling to be based on the Exception class.\n",
    "<>By inheriting from Exception, your custom exception can seamlessly integrate with various exception-handling mechanisms.\n",
    "\n",
    "\n",
    "Here's an example demonstrating the creation of a custom exception by inheriting from the Exception class:"
   ]
  },
  {
   "cell_type": "code",
   "execution_count": 1,
   "id": "e3292482-74c8-403c-ad29-bf966496ea5f",
   "metadata": {},
   "outputs": [
    {
     "name": "stdout",
     "output_type": "stream",
     "text": [
      "Caught an exception: This is a custom exception.\n"
     ]
    }
   ],
   "source": [
    "class CustomError(Exception):\n",
    "    def __init__(self, message):\n",
    "        super().__init__(message)\n",
    "\n",
    "try:\n",
    "    raise CustomError(\"This is a custom exception.\")\n",
    "except CustomError as e:\n",
    "    print(f\"Caught an exception: {e}\")\n",
    "except Exception as e:\n",
    "    print(f\"Caught a generic exception: {e}\")\n"
   ]
  },
  {
   "cell_type": "markdown",
   "id": "dac8a946-3b37-4540-a08c-fbb824d4f35c",
   "metadata": {},
   "source": [
    "In this example, CustomError is a custom exception class that inherits from Exception. The try block raises an instance of CustomError, and the except block catches it. Additionally, the second except block can catch any exception, showcasing the compatibility with the generic Exception class."
   ]
  },
  {
   "cell_type": "code",
   "execution_count": null,
   "id": "796c8efd-8f05-4536-88e6-fc6c900e0848",
   "metadata": {},
   "outputs": [],
   "source": []
  },
  {
   "cell_type": "markdown",
   "id": "06cfaa44-e3f0-466b-a57c-b09dae9e8c8e",
   "metadata": {},
   "source": [
    "ANSWER NO :- 02"
   ]
  },
  {
   "cell_type": "markdown",
   "id": "5fb46fc9-6faf-42f7-8a02-25aa59f24483",
   "metadata": {},
   "source": [
    "Example of a Python program that prints a simplified version of the exception hierarchy, focusing on commonly used built-in exception classes:"
   ]
  },
  {
   "cell_type": "code",
   "execution_count": 1,
   "id": "fa7d5724-56d7-4daf-80ae-fc39362e805f",
   "metadata": {},
   "outputs": [
    {
     "name": "stdout",
     "output_type": "stream",
     "text": [
      "Common Python Exception Hierarchy:\n",
      "Exception\n",
      "  BaseException\n",
      "    object\n"
     ]
    }
   ],
   "source": [
    "def print_exception_hierarchy(exception_class, indent=0):\n",
    "    print('  ' * indent + f\"{exception_class.__name__}\")\n",
    "    for base_class in exception_class.__bases__:\n",
    "        print_exception_hierarchy(base_class, indent + 1)\n",
    "\n",
    "# Print a subset of commonly used exception classes\n",
    "print(\"Common Python Exception Hierarchy:\")\n",
    "print_exception_hierarchy(Exception)\n"
   ]
  },
  {
   "cell_type": "markdown",
   "id": "bd60d958-3cbb-4f40-89a7-26a533299402",
   "metadata": {},
   "source": [
    "In this example, I'm starting with the Exception class, which is a common base class for most built-in exceptions. The program will print the hierarchy for Exception and its immediate subclasses.\n",
    "\n",
    "You can customize the starting point (i.e., the base class) and the subset of exception classes based on your specific needs.\n",
    "\n",
    "When you run this program, it will print the hierarchy for the specified exception classes. The output will give you an idea of the relationships between these exceptions."
   ]
  },
  {
   "cell_type": "code",
   "execution_count": null,
   "id": "c70191a8-d834-4033-a08b-10fc02b3050f",
   "metadata": {},
   "outputs": [],
   "source": []
  },
  {
   "cell_type": "markdown",
   "id": "7cdd75f8-f3fc-4938-8ffe-2eebea0b6e76",
   "metadata": {},
   "source": [
    "ANSWER NO :- 03"
   ]
  },
  {
   "cell_type": "markdown",
   "id": "766a4b35-aa2d-4452-9680-d46ea7e81429",
   "metadata": {},
   "source": [
    "The ArithmeticError class is a base class for numerical errors in Python. It is part of the Python Exception Hierarchy and serves as a parent class for various arithmetic-related exception classes. Two common errors defined in the ArithmeticError class are ZeroDivisionError and OverflowError."
   ]
  },
  {
   "cell_type": "markdown",
   "id": "7dae34a4-5eed-4d95-aabb-56b6c6e35f31",
   "metadata": {},
   "source": [
    "1. ZeroDivisionError:-\n",
    "Raised when division or modulo by zero is performed.\n",
    "\n",
    "Example:"
   ]
  },
  {
   "cell_type": "code",
   "execution_count": 2,
   "id": "6e420224-b734-4bd8-8015-fdfe6a2cb991",
   "metadata": {},
   "outputs": [
    {
     "name": "stdout",
     "output_type": "stream",
     "text": [
      "Result: 5.0\n",
      "Error: division by zero\n"
     ]
    }
   ],
   "source": [
    "def divide_numbers(a, b):\n",
    "    try:\n",
    "        result = a / b\n",
    "        print(f\"Result: {result}\")\n",
    "    except ZeroDivisionError as e:\n",
    "        print(f\"Error: {e}\")\n",
    "\n",
    "# Example usage\n",
    "divide_numbers(10, 2)  # Output: Result: 5.0\n",
    "divide_numbers(10, 0)  # Output: Error: division by zero\n"
   ]
  },
  {
   "cell_type": "markdown",
   "id": "6232b589-44ba-4597-8e6c-4c8d6771e75f",
   "metadata": {},
   "source": [
    "In this example, the divide_numbers function attempts to perform division, and if the divisor (b) is zero, a ZeroDivisionError is raised. The except block catches this exception, and an error message is printed."
   ]
  },
  {
   "cell_type": "markdown",
   "id": "8f371d81-30a1-40bd-a16f-58f078dd9037",
   "metadata": {},
   "source": [
    "2. OverflowError:-\n",
    "Raised when an arithmetic operation exceeds the limits of the current Python interpreter.\n",
    "\n",
    "Example:"
   ]
  },
  {
   "cell_type": "code",
   "execution_count": 4,
   "id": "1f1d63c6-afff-4e6a-849f-cbd9260d2b4a",
   "metadata": {},
   "outputs": [
    {
     "name": "stdout",
     "output_type": "stream",
     "text": [
      "Result: 10715086071862673209484250490600018105614048117055336074437503883703510511249361224931983788156958581275946729175531468251871452856923140435984577574698574803934567774824230985421074605062371141877954182153046474983581941267398767559165543946077062914571196477686542167660429831652624386837205668069376\n"
     ]
    }
   ],
   "source": [
    "def large_number_operation():\n",
    "    try:\n",
    "        result = 2 ** 1000\n",
    "        print(f\"Result: {result}\")\n",
    "    except OverflowError as e:\n",
    "        print(f\"Error: {e}\")\n",
    "\n",
    "# Example usage\n",
    "large_number_operation()\n"
   ]
  },
  {
   "cell_type": "markdown",
   "id": "032e4a6a-2676-49db-99c8-fad32b0c1046",
   "metadata": {},
   "source": [
    "In this example, the large_number_operation function attempts to perform an operation that results in a very large number (2 ** 1000). This exceeds the limits of the Python interpreter, and an OverflowError is raised. The except block catches this exception, and an error message is printed.\n",
    "\n",
    "Both ZeroDivisionError and OverflowError are specific types of arithmetic errors that inherit from the more general ArithmeticError class. Handling these exceptions allows you to gracefully manage arithmetic-related issues in your Python code."
   ]
  },
  {
   "cell_type": "code",
   "execution_count": null,
   "id": "beeaf1df-ff85-4bf6-b781-fd31d989710b",
   "metadata": {},
   "outputs": [],
   "source": []
  },
  {
   "cell_type": "markdown",
   "id": "6afe90aa-eb93-4de8-89f9-7a4f72c5eb52",
   "metadata": {},
   "source": [
    "ANSWER NO :- 04"
   ]
  },
  {
   "cell_type": "markdown",
   "id": "231e96d6-49e8-445a-8eb6-4cd84b26a7b1",
   "metadata": {},
   "source": [
    "The LookupError class is a base class for exceptions that occur when a key or index used to look up a value in a mapping or sequence is not found. It's a common base class for errors like KeyError and IndexError. By catching LookupError, We can handle situations where the specific type of lookup error is not critical, and we want to handle all lookup errors in a similar way.\n",
    "\n",
    "Let's explore KeyError and IndexError with examples:\n",
    "\n",
    "1. KeyError:\n",
    "Raised when a dictionary key is not found."
   ]
  },
  {
   "cell_type": "code",
   "execution_count": 1,
   "id": "f5090261-b2c4-42c0-a3af-c4652210b1b4",
   "metadata": {},
   "outputs": [
    {
     "name": "stdout",
     "output_type": "stream",
     "text": [
      "Error: 'gender'\n"
     ]
    }
   ],
   "source": [
    "my_dict = {\"name\": \"John\", \"age\": 25, \"city\": \"New York\"}\n",
    "\n",
    "try:\n",
    "    value = my_dict[\"gender\"]  # 'gender' key does not exist\n",
    "    print(value)\n",
    "except KeyError as e:\n",
    "    print(f\"Error: {e}\")\n"
   ]
  },
  {
   "cell_type": "markdown",
   "id": "8a828c8c-9792-4c11-8793-28005c177619",
   "metadata": {},
   "source": [
    "In this example, we try to access the value associated with the key \"gender\" in the my_dict dictionary. Since the key is not present in the dictionary, a KeyError is raised. The except KeyError block catches this exception, and an error message is printed.\n",
    "\n",
    "2. IndexError:\n",
    "Raised when a sequence subscript (index) is out of range."
   ]
  },
  {
   "cell_type": "code",
   "execution_count": 2,
   "id": "05b9ccf2-c9aa-4710-b40e-84e50c2f5fe2",
   "metadata": {},
   "outputs": [
    {
     "name": "stdout",
     "output_type": "stream",
     "text": [
      "Error: list index out of range\n"
     ]
    }
   ],
   "source": [
    "my_list = [1, 2, 3, 4, 5]\n",
    "\n",
    "try:\n",
    "    value = my_list[10]  # Index 10 is out of range\n",
    "    print(value)\n",
    "except IndexError as e:\n",
    "    print(f\"Error: {e}\")\n"
   ]
  },
  {
   "cell_type": "markdown",
   "id": "592d0bd7-7232-4776-8a19-7bca95d1c3f7",
   "metadata": {},
   "source": [
    "In this example, we try to access the value at index 10 in the my_list list. Since the list has only indices from 0 to 4, attempting to access index 10 results in an IndexError. The except IndexError block catches this exception, and an error message is printed.\n",
    "\n",
    "Handling LookupError:\n",
    "By catching LookupError, you can handle both KeyError and IndexError in a similar way if you want to provide a generic response for any lookup error:"
   ]
  },
  {
   "cell_type": "code",
   "execution_count": 8,
   "id": "e0b4c55a-fe39-483b-a0f0-6139d1810386",
   "metadata": {},
   "outputs": [
    {
     "name": "stdout",
     "output_type": "stream",
     "text": [
      "LookupError: 'gender'\n"
     ]
    }
   ],
   "source": [
    "my_dict = {\"name\": \"John\", \"age\": 25, \"city\": \"New York\"}\n",
    "my_list = [1, 2, 3, 4, 5]\n",
    "\n",
    "try:\n",
    "    # Some operation that may raise KeyError or IndexError\n",
    "    value = my_dict[\"gender\"]  # 'gender' key does not exist\n",
    "    # or\n",
    "    value = my_list[10]  # Index 10 is out of range\n",
    "\n",
    "    print(value)\n",
    "except LookupError as e:\n",
    "    print(f\"LookupError: {e}\")\n"
   ]
  },
  {
   "cell_type": "code",
   "execution_count": null,
   "id": "da3c8186-3cac-4f84-b37c-7dc67b3ea170",
   "metadata": {},
   "outputs": [],
   "source": []
  },
  {
   "cell_type": "markdown",
   "id": "6bc71696-31f2-441c-b409-17019bd47ac9",
   "metadata": {},
   "source": [
    "ANSWER NO :- 05"
   ]
  },
  {
   "cell_type": "markdown",
   "id": "3970f584-b381-4370-9086-87f3745cacbc",
   "metadata": {},
   "source": [
    "ImportError and ModuleNotFoundError are both exceptions in Python related to importing modules, but they have different use cases.\n",
    "\n",
    "ImportError :- ImportError is a base class for exceptions that occur when an import statement fails. This exception is raised for various reasons, such as when a module or a name referenced in an import statement cannot be found, or when there's an issue with the module's code.\n",
    "\n",
    "Example:"
   ]
  },
  {
   "cell_type": "code",
   "execution_count": 10,
   "id": "26cef1ea-dd68-42cf-a246-6bac2f1b14df",
   "metadata": {},
   "outputs": [
    {
     "name": "stdout",
     "output_type": "stream",
     "text": [
      "ImportError: No module named 'non_existent_module'\n"
     ]
    }
   ],
   "source": [
    "try:\n",
    "    import non_existent_module  # Trying to import a module that doesn't exist\n",
    "except ImportError as e:\n",
    "    print(f\"ImportError: {e}\")\n"
   ]
  },
  {
   "cell_type": "markdown",
   "id": "1abeaaae-c1e5-4d0e-91af-4b620eca42bb",
   "metadata": {},
   "source": [
    "In this example, attempting to import the module non_existent_module raises an ImportError because the module does not exist.\n",
    "\n",
    "ModuleNotFoundError :- ModuleNotFoundError is a subclass of ImportError that specifically indicates that a module could not be found. This exception was introduced in Python 3.6 to provide more clarity in cases where the failure is due to the absence of the specified module.\n",
    "\n",
    "Example:-"
   ]
  },
  {
   "cell_type": "code",
   "execution_count": 11,
   "id": "c52b2300-974a-4d82-9ae4-44129712f885",
   "metadata": {},
   "outputs": [
    {
     "name": "stdout",
     "output_type": "stream",
     "text": [
      "ModuleNotFoundError: No module named 'non_existent_module'\n"
     ]
    }
   ],
   "source": [
    "try:\n",
    "    import non_existent_module  # Trying to import a module that doesn't exist\n",
    "except ModuleNotFoundError as e:\n",
    "    print(f\"ModuleNotFoundError: {e}\")\n"
   ]
  },
  {
   "cell_type": "markdown",
   "id": "4a9db2e0-68fa-4e29-8aca-60da605ed59d",
   "metadata": {},
   "source": [
    "In this example, attempting to import the module non_existent_module raises a ModuleNotFoundError because the module does not exist.\n",
    "\n",
    "ModuleNotFoundError is raised for cases where a module cannot be found during import, making it more specific than the generic ImportError.\n",
    "\n",
    "While ImportError is a more general exception that covers various import-related errors, including module not found, ModuleNotFoundError provides a more explicit exception type for cases where the failure is specifically due to the absence of the requested module."
   ]
  },
  {
   "cell_type": "code",
   "execution_count": null,
   "id": "e9c176cc-5020-47bc-8f32-34c63a853dca",
   "metadata": {},
   "outputs": [],
   "source": []
  },
  {
   "cell_type": "markdown",
   "id": "539c38b2-8386-418d-8758-e7f6d9935164",
   "metadata": {},
   "source": [
    "ANSWER NO :- 06"
   ]
  },
  {
   "cell_type": "markdown",
   "id": "2738e46d-8174-421d-8dd1-57ab5f36ae83",
   "metadata": {},
   "source": [
    "Exception handling is an essential aspect of writing robust and maintainable code in Python. Here are some best practices for effective exception handling:\n",
    "\n",
    "1.Be Specific in Exception Handling:\n",
    "\n",
    "Catch specific exceptions rather than using a generic except clause. This allows you to handle different types of exceptions differently."
   ]
  },
  {
   "cell_type": "code",
   "execution_count": 25,
   "id": "9df120ef-8ff3-42da-b443-e3c7f247bd88",
   "metadata": {},
   "outputs": [
    {
     "name": "stdout",
     "output_type": "stream",
     "text": [
      "division by zero\n"
     ]
    }
   ],
   "source": [
    "try:\n",
    "    10/0      \n",
    "# Handle Specific Error\n",
    "except ZeroDivisionError as e:\n",
    "    print(e)"
   ]
  },
  {
   "cell_type": "markdown",
   "id": "fbf6df73-0d8d-4990-937c-91f3ccf8b42c",
   "metadata": {},
   "source": [
    "2.Avoid Using Bare except:\n",
    "\n",
    "Avoid using a bare except clause as it catches all exceptions, including system-exiting exceptions like SystemExit and KeyboardInterrupt."
   ]
  },
  {
   "cell_type": "code",
   "execution_count": null,
   "id": "e0cd3606-858c-411b-98a6-c0024474e4b8",
   "metadata": {},
   "outputs": [],
   "source": [
    "try:\n",
    "    # Some code\n",
    "except Exception as e:  # Don't use bare 'except'\n",
    "    # Handle any exception\n"
   ]
  },
  {
   "cell_type": "markdown",
   "id": "f3a46d16-1f8c-42cd-9f66-8cb83bb0092a",
   "metadata": {},
   "source": [
    "3.Use finally for Cleanup:\n",
    "\n",
    "Use the finally block to ensure that cleanup code is executed whether an exception is raised or not. It is commonly used for releasing resources"
   ]
  },
  {
   "cell_type": "code",
   "execution_count": 26,
   "id": "a8ff1d87-ef95-4e96-86e4-037baacd3ef6",
   "metadata": {},
   "outputs": [
    {
     "name": "stdout",
     "output_type": "stream",
     "text": [
      "division by zero\n",
      "Hello World\n"
     ]
    }
   ],
   "source": [
    "try:\n",
    "    10/0\n",
    "    \n",
    "except ZeroDivisionError as e:\n",
    "    print(e)\n",
    "    \n",
    "finally:\n",
    "    print(\"Hello World\")\n"
   ]
  },
  {
   "cell_type": "markdown",
   "id": "5a3325ff-58dd-44ae-8351-9156c7c203f3",
   "metadata": {},
   "source": [
    "4.Logging Instead of Printing:\n",
    "\n",
    "Use the logging module for logging exceptions instead of printing them. This provides more flexibility and allows you to control the logging level."
   ]
  },
  {
   "cell_type": "code",
   "execution_count": 1,
   "id": "0faf77d3-18ff-43eb-a0ad-208fc7bd5864",
   "metadata": {},
   "outputs": [],
   "source": [
    "import logging\n",
    "logging.basicConfig(filename=\"file4.txt\" , level = logging.ERROR)\n",
    "try:\n",
    "    10/0\n",
    "\n",
    "except Exception as e:\n",
    "    logging.error(f\"An error occurred: {e}\")\n"
   ]
  },
  {
   "cell_type": "markdown",
   "id": "a2e982a6-a2d0-441f-a1c1-3ec2cff0aa96",
   "metadata": {},
   "source": [
    "5.Avoid Using else Block Unnecessarily:\n",
    "\n",
    "The else block is useful when it enhances readability by separating the try/except block from the success code. However, avoid using it unnecessarily.\n",
    "\n",
    "\n",
    "6.Reraise Exceptions Judiciously:\n",
    "\n",
    "If you catch an exception but cannot handle it properly, consider re-raising it. Use raise without arguments to preserve the original traceback.\n",
    "\n",
    "\n",
    "7.Custom Exceptions for Specific Cases:\n",
    "\n",
    "Consider defining and using custom exceptions for specific error conditions in your application. This improves code readability and maintainability.\n",
    "\n",
    "\n",
    "\n",
    "8.Use Context Managers (with Statements):\n",
    "\n",
    "Utilize context managers, especially the with statement, to manage resources like files and connections. It ensures proper resource cleanup.\n",
    "\n",
    "\n",
    "\n",
    "9.Keep Exception Handling Local:\n",
    "\n",
    "Keep your exception handling code as close as possible to where the exception occurs. This improves code readability and helps in understanding the context of the exception."
   ]
  },
  {
   "cell_type": "code",
   "execution_count": null,
   "id": "1e28216c-c9a0-4041-85b8-be0db5d88360",
   "metadata": {},
   "outputs": [],
   "source": []
  }
 ],
 "metadata": {
  "kernelspec": {
   "display_name": "Python 3 (ipykernel)",
   "language": "python",
   "name": "python3"
  },
  "language_info": {
   "codemirror_mode": {
    "name": "ipython",
    "version": 3
   },
   "file_extension": ".py",
   "mimetype": "text/x-python",
   "name": "python",
   "nbconvert_exporter": "python",
   "pygments_lexer": "ipython3",
   "version": "3.10.8"
  }
 },
 "nbformat": 4,
 "nbformat_minor": 5
}

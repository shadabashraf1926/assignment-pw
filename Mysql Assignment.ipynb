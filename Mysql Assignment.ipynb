{
 "cells": [
  {
   "cell_type": "markdown",
   "id": "6b10e57b-cb97-47db-9009-e3d1014899d9",
   "metadata": {},
   "source": [
    "ANSWER NO :- 01"
   ]
  },
  {
   "cell_type": "markdown",
   "id": "49457edc-9ab2-4eea-9798-e8d558a82b94",
   "metadata": {},
   "source": [
    "A database is a structured collection of data that is organized in a way to facilitate efficient storage, retrieval, and manipulation of data. Databases can store information for various purposes and are a fundamental component in many software applications. They can range from small, simple databases for personal use to large, complex databases used by enterprises and organizations.\n",
    "\n",
    "Databases typically consist of tables that store data in rows and columns, and relationships between tables are established through keys. They provide a systematic way to manage and organize data, ensuring data integrity and enabling users to perform various operations on the stored information.\n",
    "\n",
    "Difference between SQL and NoSQL databases:\n",
    "\n",
    "Data Structure:\n",
    "\n",
    "SQL (Relational Databases): Structured Query Language (SQL) databases, also known as relational databases, organize data into structured tables with predefined schemas. Data is typically stored in rows and columns.\n",
    "\n",
    "NoSQL (Non-Relational Databases): NoSQL databases are more flexible in terms of data storage. They can use various data models, such as document-oriented (like MongoDB), key-value pairs (like Redis), wide-column stores, or graph databases.\n",
    "Schema:\n",
    "\n",
    "SQL: SQL databases have a predefined schema, meaning the structure of the data (tables, columns, and their types) is defined before data is inserted.\n",
    "\n",
    "NoSQL: NoSQL databases are often schema-less, allowing for dynamic and evolving data structures. Each record in a NoSQL database can have different fields.\n",
    "Scalability:\n",
    "\n",
    "SQL: Scaling SQL databases vertically (adding more resources to a single server) can be expensive and has limitations. Some SQL databases support horizontal scaling as well.\n",
    "\n",
    "NoSQL: NoSQL databases are designed for horizontal scalability. They can scale out by adding more servers to a distributed database system.\n",
    "Consistency and Transactions:\n",
    "\n",
    "SQL: SQL databases typically adhere to the ACID properties (Atomicity, Consistency, Isolation, Durability) and ensure strong consistency in transactions.\n",
    "\n",
    "NoSQL: NoSQL databases may sacrifice strong consistency in favor of availability and partition tolerance, following the principles of the CAP theorem (Consistency, Availability, Partition tolerance).\n",
    "Use Cases:\n",
    "\n",
    "SQL: SQL databases are suitable for applications with complex queries and transactions, where data integrity is crucial. Examples include financial systems and systems with complex relationships between data.\n",
    "\n",
    "NoSQL: NoSQL databases are often preferred for applications with large amounts of unstructured or semi-structured data, real-time applications, and situations where horizontal scalability is essential.\n",
    "Examples:\n",
    "\n",
    "SQL: MySQL, PostgreSQL, Oracle Database, Microsoft SQL Server.\n",
    "\n",
    "NoSQL: MongoDB, Cassandra, Redis, Couchbase.\n",
    "\n",
    "Choosing between SQL and NoSQL databases depends on the specific requirements and characteristics of the application We are building. Each type has its strengths and weaknesses, and the choice often depends on factors like the nature of the data, scalability requirements, and the complexity of queries."
   ]
  },
  {
   "cell_type": "code",
   "execution_count": null,
   "id": "a162f972-5071-47cf-a1ef-74e1dae04162",
   "metadata": {},
   "outputs": [],
   "source": []
  },
  {
   "cell_type": "markdown",
   "id": "edf9dcf2-a8e9-4133-b579-aee6a5152455",
   "metadata": {},
   "source": [
    "ANSWER NO :- 02"
   ]
  },
  {
   "cell_type": "markdown",
   "id": "5c49e933-90eb-45b6-9810-3ca5d91dbb4e",
   "metadata": {},
   "source": [
    "DDL (Data Definition Language):\n",
    "\n",
    "DDL, or Data Definition Language, is a subset of SQL (Structured Query Language) used to define and manage the structure of a database. DDL commands are responsible for defining, altering, and dropping database objects such as tables, indexes, and views. These commands don't manipulate the actual data within the database; instead, they define the schema and structure of the database.\n",
    "\n",
    "Here are some common DDL commands and their purposes:\n",
    "\n",
    "CREATE:\n",
    "\n",
    "Purpose: Used to create new database objects like tables, indexes, or views.\n",
    "\n",
    "DROP:\n",
    "\n",
    "Purpose: Used to delete existing database objects (tables, indexes, views, etc.).\n",
    "\n",
    "ALTER:\n",
    "\n",
    "Purpose: Used to modify the structure of an existing database object (table, column, etc.).\n",
    "\n",
    "TRUNCATE:\n",
    "\n",
    "Purpose: Used to remove all records from a table while keeping its structure for future use.\n",
    "\n",
    "These DDL commands are crucial for database administrators and developers to define and manage the database schema, ensuring proper organization and integrity of the data. It's important to use these commands carefully, especially when altering or dropping database objects, as they can have a significant impact on the data and overall system functionality."
   ]
  },
  {
   "cell_type": "code",
   "execution_count": null,
   "id": "dab877fc-396f-44e7-bad8-e47dc07c1b27",
   "metadata": {},
   "outputs": [],
   "source": []
  },
  {
   "cell_type": "markdown",
   "id": "2245d2da-7c04-4f67-b435-bfe2f0cf0381",
   "metadata": {},
   "source": [
    "ANSWER NO :- 03"
   ]
  },
  {
   "cell_type": "markdown",
   "id": "e8db1ac7-8b15-4f31-a9df-9a19f93368c0",
   "metadata": {},
   "source": [
    "DML (Data Manipulation Language):\n",
    "\n",
    "DML, or Data Manipulation Language, is a subset of SQL (Structured Query Language) used to manipulate data stored in a database. DML commands are responsible for performing operations such as inserting, updating, and deleting records within database tables. Unlike DDL (Data Definition Language), which deals with the structure of the database, DML focuses on the manipulation of the actual data.\n",
    "\n",
    "Here are some common DML commands and their purposes:\n",
    "\n",
    "INSERT:\n",
    "Purpose: Used to add new records (rows) into a table.\n",
    "\n",
    "Example:"
   ]
  },
  {
   "cell_type": "code",
   "execution_count": null,
   "id": "745921ef-dcdc-4c50-8de6-fe21a8efa468",
   "metadata": {},
   "outputs": [],
   "source": [
    "INSERT INTO employees (employee_id, first_name, last_name, hire_date)\n",
    "VALUES (1, 'John', 'Doe', '2022-01-10');"
   ]
  },
  {
   "cell_type": "markdown",
   "id": "15230838-4bb4-46af-98f4-2aed2670a2ba",
   "metadata": {},
   "source": [
    "UPDATE:\n",
    "Purpose: Used to modify existing records in a table based on a specified condition.\n",
    "\n",
    "Example"
   ]
  },
  {
   "cell_type": "code",
   "execution_count": null,
   "id": "beafc7d1-afce-4586-a74e-983a29d0c6a5",
   "metadata": {},
   "outputs": [],
   "source": [
    "UPDATE employees\n",
    "SET first_name = 'Jane'\n",
    "WHERE employee_id = 1;"
   ]
  },
  {
   "cell_type": "markdown",
   "id": "b8ef7dab-50af-48a7-935d-977990b83ec9",
   "metadata": {},
   "source": [
    "DELETE:\n",
    "Purpose: Used to remove records from a table based on a specified condition.\n",
    "\n",
    "Example:"
   ]
  },
  {
   "cell_type": "code",
   "execution_count": null,
   "id": "878bddb6-8001-4503-9ef3-f795f125a9e3",
   "metadata": {},
   "outputs": [],
   "source": [
    "DELETE FROM employees\n",
    "WHERE employee_id = 1;"
   ]
  },
  {
   "cell_type": "markdown",
   "id": "4bbe5cf0-2ec5-4aac-96a1-da27a805c78c",
   "metadata": {},
   "source": [
    "These DML commands are essential for managing the data within a database. They allow users to insert new data, update existing records, and delete unnecessary information. When using DML commands, it's important to be cautious and consider the impact on data integrity and the overall application functionality. Always use appropriate WHERE clauses to target specific records when performing updates or deletions to avoid unintended consequences."
   ]
  },
  {
   "cell_type": "code",
   "execution_count": null,
   "id": "587ba85d-55f3-4d65-a6d3-06c09588731e",
   "metadata": {},
   "outputs": [],
   "source": []
  },
  {
   "cell_type": "markdown",
   "id": "95d3b077-68f0-4b83-b690-dc6d101f5dd4",
   "metadata": {},
   "source": [
    "ANSWER NO :-04"
   ]
  },
  {
   "cell_type": "code",
   "execution_count": null,
   "id": "f5e7f055-624c-4549-9c74-da32376271db",
   "metadata": {},
   "outputs": [],
   "source": []
  },
  {
   "cell_type": "markdown",
   "id": "fe211a2c-0f9f-441b-9b9e-09fdb61b3326",
   "metadata": {},
   "source": [
    "DQL (Data Query Language):\n",
    "\n",
    "DQL, or Data Query Language, is a subset of SQL (Structured Query Language) used for querying and retrieving data from a database. The primary DQL command is SELECT, which allows users to specify the columns they want to retrieve, the tables from which to retrieve the data, and conditions to filter the results.\n",
    "\n",
    "Here is an explanation of the SELECT command with an example:\n",
    "\n",
    "SELECT:\n",
    "\n",
    "Purpose: Used to retrieve data from one or more tables in a database.\n",
    "\n",
    "Syntax: SELECT column1, column2, ...\n",
    "        FROM table\n",
    "        WHERE condition;\n",
    "        \n",
    "    \n",
    "The SELECT command is fundamental for retrieving information from a database, and it offers a powerful set of tools for filtering, sorting, and aggregating data. It forms the basis for generating reports, analyzing data, and obtaining insights from the stored information."
   ]
  },
  {
   "cell_type": "code",
   "execution_count": null,
   "id": "c3acb9b1-1143-463e-9153-b4120676a1c7",
   "metadata": {},
   "outputs": [],
   "source": []
  },
  {
   "cell_type": "markdown",
   "id": "27246fe6-a282-4b45-9860-026f8f860d9b",
   "metadata": {},
   "source": [
    "ANSWER NO :- 05"
   ]
  },
  {
   "cell_type": "markdown",
   "id": "d104b7b5-e20c-4952-b807-1f070e45d07d",
   "metadata": {},
   "source": [
    "In Python, the concepts of primary key and foreign key are closely associated with database management systems and are typically used when interacting with relational databases. Python itself does not inherently define primary keys or foreign keys, but libraries and frameworks, such as SQLAlchemy, can be used to work with databases and these key relationships.\n",
    "\n",
    "Primary Key :- A primary key is a unique identifier for a record in a table.\n",
    "In Python, when working with a relational database, we may use a library like SQLAlchemy to define a primary key when creating a table.\n",
    "\n",
    "Example using SQLAlchemy:"
   ]
  },
  {
   "cell_type": "code",
   "execution_count": 9,
   "id": "9c6c34dc-b9bb-40de-987a-889983d3129c",
   "metadata": {},
   "outputs": [],
   "source": [
    "from sqlalchemy import Column, Integer, String, create_engine, ForeignKey\n",
    "from sqlalchemy.ext.declarative import declarative_base\n",
    "from sqlalchemy.orm import relationship\n",
    "\n",
    "Base = declarative_base()\n",
    "\n",
    "class User(Base):\n",
    "    __tablename__ = 'users'\n",
    "    id = Column(Integer, primary_key=True)\n",
    "    username = Column(String, unique=True)\n",
    "    email = Column(String, unique=True)\n",
    "\n",
    "# Here, 'id' is the primary key for the 'users' table."
   ]
  },
  {
   "cell_type": "markdown",
   "id": "0b57b647-df32-44ac-bcb3-5dafc3a43b93",
   "metadata": {},
   "source": [
    "Foreign Key :- A foreign key is a field in a table that refers to the primary key in another table.\n",
    "It establishes a link between the two tables, creating a relationship.\n",
    "\n",
    "Example using SQLAlchemy:"
   ]
  },
  {
   "cell_type": "code",
   "execution_count": 10,
   "id": "e39a9ece-d1e9-46fd-9461-b6c77e477bec",
   "metadata": {},
   "outputs": [],
   "source": [
    "class Address(Base):\n",
    "    __tablename__ = 'addresses'\n",
    "    id = Column(Integer, primary_key=True)\n",
    "    street = Column(String)\n",
    "    city = Column(String)\n",
    "    user_id = Column(Integer, ForeignKey('users.id'))\n",
    "    user = relationship('User', back_populates='addresses')\n",
    "\n",
    "# Here, 'user_id' is a foreign key referencing the 'id' in the 'users' table."
   ]
  },
  {
   "cell_type": "markdown",
   "id": "487e84c9-1fd9-4523-8756-b136bd96e267",
   "metadata": {},
   "source": [
    "In the above example, the 'user_id' in the 'addresses' table is a foreign key that references the 'id' primary key in the 'users' table. The relationship is established using the ForeignKey and relationship constructs provided by SQLAlchemy.\n",
    "\n",
    "These concepts are essential for maintaining data integrity and establishing connections between different entities in a relational database. Libraries like SQLAlchemy make it easier to work with these relationships when interacting with databases in Python."
   ]
  },
  {
   "cell_type": "code",
   "execution_count": null,
   "id": "0fef5dee-267f-4604-aa37-f38cc40bb836",
   "metadata": {},
   "outputs": [],
   "source": []
  },
  {
   "cell_type": "markdown",
   "id": "8df0bd0c-20eb-4268-be3c-846ca9a79aab",
   "metadata": {},
   "source": [
    "ANSWER NO :- 06"
   ]
  },
  {
   "cell_type": "code",
   "execution_count": 11,
   "id": "a620e94b-ee85-4caf-89e6-a438798970d9",
   "metadata": {},
   "outputs": [
    {
     "name": "stdout",
     "output_type": "stream",
     "text": [
      "Collecting mysql_connector_python\n",
      "  Downloading mysql_connector_python-8.2.0-cp310-cp310-manylinux_2_17_x86_64.whl (31.6 MB)\n",
      "\u001b[2K     \u001b[90m━━━━━━━━━━━━━━━━━━━━━━━━━━━━━━━━━━━━━━━━\u001b[0m \u001b[32m31.6/31.6 MB\u001b[0m \u001b[31m44.1 MB/s\u001b[0m eta \u001b[36m0:00:00\u001b[0m00:01\u001b[0m00:01\u001b[0m\n",
      "\u001b[?25hRequirement already satisfied: protobuf<=4.21.12,>=4.21.1 in /opt/conda/lib/python3.10/site-packages (from mysql_connector_python) (4.21.11)\n",
      "Installing collected packages: mysql_connector_python\n",
      "Successfully installed mysql_connector_python-8.2.0\n",
      "Note: you may need to restart the kernel to use updated packages.\n"
     ]
    }
   ],
   "source": [
    "## To connect Python to MySQL, you can use the mysql-connector library.\n",
    "##  First, you need to install the library using:\n",
    "pip install mysql_connector_python"
   ]
  },
  {
   "cell_type": "code",
   "execution_count": null,
   "id": "2a4a31d5-eb1b-4081-911d-67c75c8ca850",
   "metadata": {},
   "outputs": [],
   "source": [
    "import mysql.connector\n",
    "\n",
    "# Establishing the connection\n",
    "connection = mysql.connector.connect(\n",
    "    host=\"your_mysql_host\",\n",
    "    user=\"your_mysql_user\",\n",
    "    password=\"your_mysql_password\",\n",
    "    database=\"your_database_name\"\n",
    ")\n",
    "\n",
    "# Creating a cursor\n",
    "cursor = connection.cursor()\n",
    "\n",
    "# Creating a table\n",
    "create_table_query = \"\"\"\n",
    "CREATE TABLE IF NOT EXISTS employees (\n",
    "    id INT AUTO_INCREMENT PRIMARY KEY,\n",
    "    name VARCHAR(100),\n",
    "    department VARCHAR(50),\n",
    "    salary DECIMAL(10, 2)\n",
    ")\n",
    "\"\"\"\n",
    "cursor.execute(create_table_query)\n",
    "\n",
    "# Inserting data\n",
    "insert_data_query = \"\"\"\n",
    "INSERT INTO employees (name, department, salary)\n",
    "VALUES (%s, %s, %s)\n",
    "\"\"\"\n",
    "employee_data = (\"John Doe\", \"IT\", 75000.00)\n",
    "cursor.execute(insert_data_query, employee_data)\n",
    "\n",
    "# Committing the changes\n",
    "connection.commit()\n",
    "\n",
    "# Closing the cursor and connection\n",
    "cursor.close()\n",
    "connection.close()"
   ]
  },
  {
   "cell_type": "markdown",
   "id": "9f30f776-3212-4b06-a753-bcbcaa59ec7a",
   "metadata": {},
   "source": [
    "Explanation of cursor() and execute():\n",
    "\n",
    "cursor() Method:\n",
    "\n",
    "The cursor() method is called on the connection object to create a cursor.\n",
    "\n",
    "A cursor is a database object used to interact with the database by executing SQL queries and fetching results.\n",
    "\n",
    "Execute() Method:\n",
    "The execute() method is called on the cursor object to execute a SQL query.\n",
    "It takes the SQL query as its first argument and, if needed, additional parameters for query placeholders.\n",
    "\n",
    "It is used for both creating tables (CREATE TABLE) and executing data manipulation queries (INSERT, UPDATE, DELETE, etc.).\n",
    "\n",
    "In the example, cursor.execute(create_table_query) creates a table, and cursor.execute(insert_data_query, employee_data) inserts data into the table.\n",
    "\n",
    "Always remember to commit the changes using connection.commit() after executing data manipulation queries to make the changes permanent in the database.\n",
    "\n",
    "Finally, close the cursor and connection using cursor.close() and connection.close() to free up resources."
   ]
  },
  {
   "cell_type": "code",
   "execution_count": null,
   "id": "f235d424-685f-49ac-ac5d-9cd830d1a259",
   "metadata": {},
   "outputs": [],
   "source": []
  },
  {
   "cell_type": "markdown",
   "id": "d08069ba-791a-4367-9c4b-3f82e6e1936f",
   "metadata": {},
   "source": [
    "ANSWER NO :- 07"
   ]
  },
  {
   "cell_type": "code",
   "execution_count": null,
   "id": "d48d9224-d3d0-45be-902b-ff9dc77ad31e",
   "metadata": {},
   "outputs": [],
   "source": []
  },
  {
   "cell_type": "code",
   "execution_count": null,
   "id": "f18602c0-8a6b-4227-adb7-8ce7ee55ed43",
   "metadata": {},
   "outputs": [],
   "source": []
  }
 ],
 "metadata": {
  "kernelspec": {
   "display_name": "Python 3 (ipykernel)",
   "language": "python",
   "name": "python3"
  },
  "language_info": {
   "codemirror_mode": {
    "name": "ipython",
    "version": 3
   },
   "file_extension": ".py",
   "mimetype": "text/x-python",
   "name": "python",
   "nbconvert_exporter": "python",
   "pygments_lexer": "ipython3",
   "version": "3.10.8"
  }
 },
 "nbformat": 4,
 "nbformat_minor": 5
}
